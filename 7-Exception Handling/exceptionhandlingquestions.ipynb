{
 "cells": [
  {
   "cell_type": "markdown",
   "id": "70a6ecd9",
   "metadata": {},
   "source": [
    "# Module: Exception Handling Assignments\n",
    "## Lesson: Exception Handling with try, except, and finally\n",
    "### Assignment 1: Handling Division by Zero\n",
    "\n",
    "Write a function that takes two integers as input and returns their division. Use try, except, and finally blocks to handle division by zero and print an appropriate message."
   ]
  },
  {
   "cell_type": "code",
   "execution_count": 3,
   "id": "3e449fdf",
   "metadata": {},
   "outputs": [
    {
     "name": "stdout",
     "output_type": "stream",
     "text": [
      "Done\n",
      "0.8\n",
      "division by zero\n",
      "Done\n",
      "None\n"
     ]
    }
   ],
   "source": [
    "def divide(a, b):\n",
    "    try:\n",
    "        return a / b\n",
    "    except ZeroDivisionError as ex:\n",
    "        print(ex)\n",
    "    finally:\n",
    "        print('Done')\n",
    "\n",
    "\n",
    "print(divide(4, 5))\n",
    "print(divide(4, 0))\n"
   ]
  },
  {
   "cell_type": "markdown",
   "id": "479ac60c",
   "metadata": {},
   "source": [
    "### Assignment 2: File Reading with Exception Handling\n",
    "\n",
    "Write a function that reads the contents of a file named `data.txt`. Use try, except, and finally blocks to handle file not found errors and ensure the file is properly closed."
   ]
  },
  {
   "cell_type": "code",
   "execution_count": 8,
   "id": "5073fdbe",
   "metadata": {},
   "outputs": [
    {
     "name": "stdout",
     "output_type": "stream",
     "text": [
      "[Errno 2] No such file or directory: 'data.txt'\n",
      "File does not exist\n"
     ]
    }
   ],
   "source": [
    "try:\n",
    "    file = open('data.txt', 'r')\n",
    "    content = file.read()\n",
    "except FileNotFoundError as ex:\n",
    "    print(ex)\n",
    "    print('File does not exist')\n",
    "finally:\n",
    "    if 'file' in locals() and not file.closed:\n",
    "        file.close()"
   ]
  },
  {
   "cell_type": "markdown",
   "id": "75db8b28",
   "metadata": {},
   "source": [
    "### Assignment 3: Handling Multiple Exceptions\n",
    "\n",
    "Write a function that takes a list of integers and returns their sum. Use try, except, and finally blocks to handle TypeError if a non-integer value is encountered and print an appropriate message."
   ]
  },
  {
   "cell_type": "code",
   "execution_count": 12,
   "id": "f0df4640",
   "metadata": {},
   "outputs": [
    {
     "name": "stdout",
     "output_type": "stream",
     "text": [
      "Operation done\n",
      "unsupported operand type(s) for +: 'int' and 'str'\n",
      "Invalid type\n",
      "Operation done\n"
     ]
    }
   ],
   "source": [
    "def summation(lst):\n",
    "    try:\n",
    "        return sum(lst)\n",
    "    except TypeError as ex:\n",
    "        print(ex)\n",
    "        print('Invalid type')\n",
    "    finally:\n",
    "        print('Operation done')\n",
    "\n",
    "summation([1, 2, 3, 4, 5])\n",
    "summation([1, 'a', 'b', 4, 5])\n"
   ]
  },
  {
   "cell_type": "markdown",
   "id": "e7b50409",
   "metadata": {},
   "source": [
    "### Assignment 4: Exception Handling in User Input\n",
    "\n",
    "Write a function that prompts the user to enter an integer. Use try, except, and finally blocks to handle ValueError if the user enters a non-integer value and print an appropriate message."
   ]
  },
  {
   "cell_type": "code",
   "execution_count": 14,
   "id": "8c132a05",
   "metadata": {},
   "outputs": [
    {
     "name": "stdout",
     "output_type": "stream",
     "text": [
      "Done\n"
     ]
    }
   ],
   "source": [
    "try:\n",
    "    num = int(input(\"Enter an integer value: \"))\n",
    "except ValueError as ex:\n",
    "    print(\"Invalid value\")\n",
    "    print(ex)\n",
    "finally:\n",
    "    print(\"Done\")"
   ]
  },
  {
   "cell_type": "markdown",
   "id": "b11538f6",
   "metadata": {},
   "source": [
    "### Assignment 5: Exception Handling in Dictionary Access\n",
    "\n",
    "Write a function that takes a dictionary and a key as input and returns the value associated with the key. Use try, except, and finally blocks to handle KeyError if the key is not found in the dictionary and print an appropriate message."
   ]
  },
  {
   "cell_type": "code",
   "execution_count": 18,
   "id": "813168ac",
   "metadata": {},
   "outputs": [
    {
     "name": "stdout",
     "output_type": "stream",
     "text": [
      "Done\n",
      "Key error encountered\n",
      "'city'\n",
      "Done\n"
     ]
    }
   ],
   "source": [
    "def access_dict(my_map, my_key):\n",
    "    try:\n",
    "        return my_map[my_key]\n",
    "    except KeyError as ex:\n",
    "        print('Key error encountered')\n",
    "        print(ex)\n",
    "    finally:\n",
    "        print('Done')\n",
    "\n",
    "my_map = {\n",
    "    'name': 'John',\n",
    "    'age': 20\n",
    "}\n",
    "\n",
    "access_dict(my_map, 'age')\n",
    "access_dict(my_map, 'city')\n",
    "\n"
   ]
  },
  {
   "cell_type": "markdown",
   "id": "9cf34356",
   "metadata": {},
   "source": [
    "### Assignment 6: Nested Exception Handling\n",
    "\n",
    "Write a function that performs nested exception handling. It should first attempt to convert a string to an integer, and then attempt to divide by that integer. Use nested try, except, and finally blocks to handle ValueError and ZeroDivisionError and print appropriate messages."
   ]
  },
  {
   "cell_type": "code",
   "execution_count": 21,
   "id": "9a12b70a",
   "metadata": {},
   "outputs": [
    {
     "name": "stdout",
     "output_type": "stream",
     "text": [
      "Done operation\n"
     ]
    }
   ],
   "source": [
    "try:\n",
    "    num = int(input(\"Enter an integer value: \"))\n",
    "    div = 10 / num\n",
    "except ValueError as ex:\n",
    "    print(ex)\n",
    "except ZeroDivisionError as ex:\n",
    "    print(ex)\n",
    "finally:\n",
    "    print(\"Done operation\")\n"
   ]
  },
  {
   "cell_type": "markdown",
   "id": "3e71c28b",
   "metadata": {},
   "source": [
    "### Assignment 7: Exception Handling in List Operations\n",
    "\n",
    "Write a function that takes a list and an index as input and returns the element at the given index. Use try, except, and finally blocks to handle IndexError if the index is out of range and print an appropriate message."
   ]
  },
  {
   "cell_type": "code",
   "execution_count": 22,
   "id": "14beabe6",
   "metadata": {},
   "outputs": [
    {
     "name": "stdout",
     "output_type": "stream",
     "text": [
      "Done operation\n",
      "list index out of range\n",
      "Done operation\n"
     ]
    }
   ],
   "source": [
    "def list_access(lst, index):\n",
    "    try:\n",
    "        return lst[index]\n",
    "    except IndexError as ex:\n",
    "        print(ex)\n",
    "    finally:\n",
    "        print(\"Done operation\")\n",
    "\n",
    "lst = [1, 2, 3, 4, 5]\n",
    "list_access(lst, 2)\n",
    "list_access(lst, 10)"
   ]
  },
  {
   "cell_type": "markdown",
   "id": "ce783b3f",
   "metadata": {},
   "source": [
    "### Assignment 8: Exception Handling in Network Operations\n",
    "\n",
    "Write a function that attempts to open a URL and read its contents. Use try, except, and finally blocks to handle network-related errors and print an appropriate message."
   ]
  },
  {
   "cell_type": "code",
   "execution_count": 28,
   "id": "ecf23d52",
   "metadata": {},
   "outputs": [
    {
     "name": "stdout",
     "output_type": "stream",
     "text": [
      "HTTPSConnectionPool(host='google.c', port=443): Max retries exceeded with url: / (Caused by NameResolutionError(\"<urllib3.connection.HTTPSConnection object at 0x0000022BD86563F0>: Failed to resolve 'google.c' ([Errno 11001] getaddrinfo failed)\"))\n",
      "Done with network access\n"
     ]
    }
   ],
   "source": [
    "import requests\n",
    "\n",
    "try:\n",
    "    response = requests.get('https://google.c')\n",
    "    response.raise_for_status()\n",
    "    print(response.text)\n",
    "except requests.exceptions.RequestException as ex:\n",
    "    print(ex)\n",
    "finally:\n",
    "    print('Done with network access')\n",
    "\n"
   ]
  },
  {
   "cell_type": "markdown",
   "id": "bd41d71f",
   "metadata": {},
   "source": [
    "### Assignment 9: Exception Handling in JSON Parsing\n",
    "\n",
    "Write a function that attempts to parse a JSON string. Use try, except, and finally blocks to handle JSONDecodeError if the string is not a valid JSON and print an appropriate message."
   ]
  },
  {
   "cell_type": "code",
   "execution_count": 33,
   "id": "861c18dc",
   "metadata": {},
   "outputs": [
    {
     "name": "stdout",
     "output_type": "stream",
     "text": [
      "{'name': 'John', 'age': 24}\n",
      "JSON operation done\n",
      "Invalid JSON string\n",
      "Expecting value: line 1 column 10 (char 9)\n",
      "JSON operation done\n"
     ]
    }
   ],
   "source": [
    "import json\n",
    "\n",
    "json_string = '{\"name\": \"John\", \"age\": 24}'\n",
    "\n",
    "def jsonify(json_string):\n",
    "    try:\n",
    "        print(json.loads(json_string))\n",
    "    except json.JSONDecodeError as ex:\n",
    "        print(\"Invalid JSON string\")\n",
    "        print(ex)\n",
    "    finally:\n",
    "        print(\"JSON operation done\")\n",
    "\n",
    "jsonify('{\"name\": \"John\", \"age\": 24}')\n",
    "jsonify('{\"name\": John, \"age\": 24}')\n"
   ]
  },
  {
   "cell_type": "markdown",
   "id": "8ebe9975",
   "metadata": {},
   "source": [
    "### Assignment 10: Custom Exception Handling\n",
    "\n",
    "Define a custom exception named `NegativeNumberError`. Write a function that raises this exception if a negative number is encountered in a list. Use try, except, and finally blocks to handle the custom exception and print an appropriate message."
   ]
  },
  {
   "cell_type": "code",
   "execution_count": 38,
   "id": "cf8f3ecc",
   "metadata": {},
   "outputs": [
    {
     "name": "stdout",
     "output_type": "stream",
     "text": [
      "List cannot have negative number\n",
      "Done with list check\n"
     ]
    }
   ],
   "source": [
    "class NegativeNumberError(Exception):\n",
    "    def __init__(self, message, error_code):\n",
    "        super().__init__(message)\n",
    "        self.error_code = error_code\n",
    "\n",
    "\n",
    "def negative_checker(lst):\n",
    "    for num in lst:\n",
    "        if num < 0:\n",
    "            raise NegativeNumberError(\"List cannot have negative number\", 101)\n",
    "    return lst\n",
    "\n",
    "try:\n",
    "    negative_checker([1, 2, 3, 4, -1])\n",
    "except NegativeNumberError as ex:\n",
    "    print(ex)\n",
    "finally: \n",
    "    print('Done with list check')"
   ]
  },
  {
   "cell_type": "markdown",
   "id": "4913befb",
   "metadata": {},
   "source": [
    "### Assignment 11: Exception Handling in Function Calls\n",
    "\n",
    "Write a function that calls another function which may raise an exception. Use try, except, and finally blocks to handle the exception and print an appropriate message."
   ]
  },
  {
   "cell_type": "code",
   "execution_count": 41,
   "id": "0b09cfb7",
   "metadata": {},
   "outputs": [
    {
     "name": "stdout",
     "output_type": "stream",
     "text": [
      "invalid literal for int() with base 10: 'a'\n",
      "Done with input\n"
     ]
    }
   ],
   "source": [
    "def enter_number():\n",
    "    num = int(input('Enter an integer value: '))\n",
    "\n",
    "def main():\n",
    "    try:\n",
    "        enter_number()\n",
    "    except ValueError as ex:\n",
    "        print(ex)\n",
    "    finally:\n",
    "        print('Done with input')\n",
    "\n",
    "main()\n"
   ]
  },
  {
   "cell_type": "markdown",
   "id": "3f86ffdd",
   "metadata": {},
   "source": [
    "### Assignment 12: Exception Handling in Class Methods\n",
    "\n",
    "Define a class with a method that performs a division operation. Use try, except, and finally blocks within the method to handle division by zero and print an appropriate message."
   ]
  },
  {
   "cell_type": "code",
   "execution_count": 47,
   "id": "a70cd440",
   "metadata": {},
   "outputs": [
    {
     "name": "stdout",
     "output_type": "stream",
     "text": [
      "division by zero\n",
      "Done with division\n",
      "unsupported operand type(s) for /: 'int' and 'str'\n",
      "Done with division\n",
      "Done with division\n"
     ]
    },
    {
     "data": {
      "text/plain": [
       "1.0"
      ]
     },
     "execution_count": 47,
     "metadata": {},
     "output_type": "execute_result"
    }
   ],
   "source": [
    "class DivisionClass:\n",
    "    def __init__(self, a, b):\n",
    "        self.a = a\n",
    "        self.b = b\n",
    "    \n",
    "    def divide(self):\n",
    "        try:\n",
    "            return self.a / self.b\n",
    "        except ZeroDivisionError as ex:\n",
    "            print(ex)\n",
    "        except TypeError as ex:\n",
    "            print(ex)\n",
    "        finally:\n",
    "            print(\"Done with division\")\n",
    "\n",
    "divvy_obj = DivisionClass(1, 0)\n",
    "divvy_obj.divide()\n",
    "\n",
    "divvy_obj1 = DivisionClass(1, 'b')\n",
    "divvy_obj1.divide()\n",
    "\n",
    "divvy_obj2 = DivisionClass(1, 1)\n",
    "divvy_obj2.divide()\n"
   ]
  },
  {
   "cell_type": "markdown",
   "id": "ec893ce1",
   "metadata": {},
   "source": [
    "### Assignment 13: Exception Handling in Data Conversion\n",
    "\n",
    "Write a function that takes a list of strings and converts them to integers. Use try, except, and finally blocks to handle ValueError if a string cannot be converted and print an appropriate message."
   ]
  },
  {
   "cell_type": "code",
   "execution_count": 51,
   "id": "a5fc935e",
   "metadata": {},
   "outputs": [
    {
     "name": "stdout",
     "output_type": "stream",
     "text": [
      "Conversion done\n",
      "invalid literal for int() with base 10: 'a'\n",
      "Conversion done\n"
     ]
    }
   ],
   "source": [
    "def convert_to_int(lst):\n",
    "    result = []\n",
    "    \n",
    "    try:\n",
    "        for num in lst:\n",
    "            result.append(int(num))\n",
    "        return result\n",
    "    except ValueError as ex:\n",
    "        print(ex)\n",
    "    finally:\n",
    "        print('Conversion done')\n",
    "\n",
    "convert_to_int([1, 2, 3, 4, 5])\n",
    "\n",
    "convert_to_int([1, 2, 3, 'a', 'b'])\n"
   ]
  },
  {
   "cell_type": "markdown",
   "id": "5bfffce6",
   "metadata": {},
   "source": [
    "### Assignment 14: Exception Handling in List Comprehensions\n",
    "\n",
    "Write a function that uses a list comprehension to convert a list of strings to integers. Use try, except, and finally blocks within the list comprehension to handle ValueError and print an appropriate message."
   ]
  },
  {
   "cell_type": "code",
   "execution_count": 52,
   "id": "7779c93b",
   "metadata": {},
   "outputs": [
    {
     "name": "stdout",
     "output_type": "stream",
     "text": [
      "Conversion done\n",
      "invalid literal for int() with base 10: 'a'\n",
      "Conversion done\n"
     ]
    }
   ],
   "source": [
    "def convert_to_int(lst):\n",
    "    \n",
    "    try:\n",
    "        return [int(num) for num in lst]\n",
    "    except ValueError as ex:\n",
    "        print(ex)\n",
    "    finally:\n",
    "        print('Conversion done')\n",
    "\n",
    "convert_to_int([1, 2, 3, 4, 5])\n",
    "\n",
    "convert_to_int([1, 2, 3, 'a', 'b'])\n"
   ]
  },
  {
   "cell_type": "markdown",
   "id": "b8ba8ac8",
   "metadata": {},
   "source": [
    "### Assignment 15: Exception Handling in File Writing\n",
    "\n",
    "Write a function that attempts to write a list of strings to a file. Use try, except, and finally blocks to handle IOError and ensure the file is properly closed."
   ]
  },
  {
   "cell_type": "code",
   "execution_count": 55,
   "id": "69afa1a3",
   "metadata": {},
   "outputs": [
    {
     "name": "stdout",
     "output_type": "stream",
     "text": [
      "[Errno 2] No such file or directory: 'file2.txt'\n"
     ]
    }
   ],
   "source": [
    "def write_to_file(lst):\n",
    "    try:\n",
    "        file = open('file.txt', 'w')\n",
    "        file.writelines(lst)\n",
    "\n",
    "        file = open('file2.txt', 'r')\n",
    "        print(file.readlines())\n",
    "    except IOError as ex:\n",
    "        print(ex)\n",
    "    finally:\n",
    "        if 'file' in locals() and not file.closed:\n",
    "            file.close()\n",
    "\n",
    "write_to_file(['Hey', 'There'])"
   ]
  }
 ],
 "metadata": {
  "kernelspec": {
   "display_name": "Complete-Python-Bootcamp",
   "language": "python",
   "name": "python3"
  },
  "language_info": {
   "codemirror_mode": {
    "name": "ipython",
    "version": 3
   },
   "file_extension": ".py",
   "mimetype": "text/x-python",
   "name": "python",
   "nbconvert_exporter": "python",
   "pygments_lexer": "ipython3",
   "version": "3.12.6"
  }
 },
 "nbformat": 4,
 "nbformat_minor": 5
}
