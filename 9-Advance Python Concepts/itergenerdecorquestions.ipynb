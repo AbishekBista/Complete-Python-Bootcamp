{
 "cells": [
  {
   "cell_type": "markdown",
   "id": "e1c6f9c4",
   "metadata": {},
   "source": [
    "# Module: Iterators, Generators, and Decorators Assignments"
   ]
  },
  {
   "cell_type": "markdown",
   "id": "d14a7fd8",
   "metadata": {},
   "source": [
    "## Lesson: Iterators, Generators, and Decorators\n",
    "### Assignment 1: Custom Iterator\n",
    "\n",
    "Create a custom iterator class named `Countdown` that takes a number and counts down to zero. Implement the `__iter__` and `__next__` methods. Test the iterator by using it in a for loop."
   ]
  },
  {
   "cell_type": "code",
   "execution_count": 5,
   "id": "8ce109f1",
   "metadata": {},
   "outputs": [
    {
     "name": "stdout",
     "output_type": "stream",
     "text": [
      "9\n",
      "8\n",
      "7\n",
      "6\n",
      "5\n",
      "4\n",
      "3\n",
      "2\n",
      "1\n",
      "0\n"
     ]
    }
   ],
   "source": [
    "class Countdown:\n",
    "    def __init__(self, num):\n",
    "        self.num = num\n",
    "    \n",
    "    def __iter__(self):\n",
    "        return self\n",
    "    \n",
    "    def __next__(self):\n",
    "        if self.num <= 0:\n",
    "            raise StopIteration\n",
    "        else:\n",
    "            self.num -= 1\n",
    "            return self.num\n",
    "\n",
    "\n",
    "for i in Countdown(10):\n",
    "    print(i)"
   ]
  },
  {
   "cell_type": "markdown",
   "id": "3d87a42b",
   "metadata": {},
   "source": [
    "### Assignment 2: Custom Iterable Class\n",
    "\n",
    "Create a class named `MyRange` that mimics the behavior of the built-in `range` function. Implement the `__iter__` and `__next__` methods. Test the class by using it in a for loop."
   ]
  },
  {
   "cell_type": "code",
   "execution_count": 83,
   "id": "2cb27dea",
   "metadata": {},
   "outputs": [
    {
     "name": "stdout",
     "output_type": "stream",
     "text": [
      "6\n",
      "4\n",
      "2\n"
     ]
    }
   ],
   "source": [
    "class MyRange:\n",
    "    def __init__(self, *args):\n",
    "        if len(args) == 1:\n",
    "            self.start = 0\n",
    "            self.stop = args[0]\n",
    "            self.step = 1\n",
    "        elif len(args) == 2:\n",
    "            self.start = args[0]\n",
    "            self.stop = args[1]\n",
    "            self.step = 1\n",
    "        elif len(args) == 3:\n",
    "            self.start = args[0]\n",
    "            self.stop = args[1]\n",
    "            self.step = args[2]\n",
    "        else:\n",
    "            raise TypeError(f\"MyRange accepts at most 3 arguments, received {len(args)}.\")\n",
    "        \n",
    "        if self.step == 0:\n",
    "            raise ValueError(\"Step cannot be 0\")\n",
    "        \n",
    "    def __iter__(self):\n",
    "        return self\n",
    "    \n",
    "    def __next__(self):\n",
    "        if self.step > 0 and self.start >= self.stop:\n",
    "            raise StopIteration\n",
    "        elif self.step < 0 and self.start <= self.stop:\n",
    "            raise StopIteration\n",
    "        \n",
    "        value = self.start\n",
    "        self.start += self.step\n",
    "        return value\n",
    "\n",
    "for i in MyRange(6, 1, -2):\n",
    "    print(i)\n",
    "        "
   ]
  },
  {
   "cell_type": "markdown",
   "id": "6205b822",
   "metadata": {},
   "source": [
    "### Assignment 3: Generator Function\n",
    "\n",
    "Write a generator function named `fibonacci` that yields the Fibonacci sequence. Test the generator by iterating over it and printing the first 10 Fibonacci numbers."
   ]
  },
  {
   "cell_type": "code",
   "execution_count": 97,
   "id": "8d73be02",
   "metadata": {},
   "outputs": [
    {
     "name": "stdout",
     "output_type": "stream",
     "text": [
      "0, 1, 1, 2, 3, 5, 8, 13, 21, 34, "
     ]
    }
   ],
   "source": [
    "def fibonacci():\n",
    "    a = -1\n",
    "    b = 1\n",
    "    while True:\n",
    "        c = a + b\n",
    "        yield c\n",
    "        a = b\n",
    "        b = c\n",
    "\n",
    "gen = fibonacci()\n",
    "\n",
    "for i in range(10):\n",
    "    print(next(gen), end=\", \")\n",
    "\n"
   ]
  },
  {
   "cell_type": "markdown",
   "id": "81c780bb",
   "metadata": {},
   "source": [
    "### Assignment 4: Generator Expression\n",
    "\n",
    "Create a generator expression that generates the squares of numbers from 1 to 10. Iterate over the generator and print each value."
   ]
  },
  {
   "cell_type": "code",
   "execution_count": 98,
   "id": "7bf19405",
   "metadata": {},
   "outputs": [
    {
     "name": "stdout",
     "output_type": "stream",
     "text": [
      "1, 4, 9, 16, 25, 36, 49, 64, 81, 100, "
     ]
    }
   ],
   "source": [
    "def square(n):\n",
    "    yield n * n\n",
    "\n",
    "for i in range(1, 11):\n",
    "    print(next(square(i)), end=\", \")"
   ]
  },
  {
   "cell_type": "markdown",
   "id": "93da910d",
   "metadata": {},
   "source": [
    "### Assignment 5: Chaining Generators\n",
    "\n",
    "Write two generator functions: `even_numbers` that yields even numbers up to a limit, and `squares` that yields the square of each number from another generator. Chain these generators to produce the squares of even numbers up to 20."
   ]
  },
  {
   "cell_type": "code",
   "execution_count": 106,
   "id": "28b5dce5",
   "metadata": {},
   "outputs": [
    {
     "name": "stdout",
     "output_type": "stream",
     "text": [
      "0, 4, 16, 36, 64, 100, 144, 196, 256, 324, "
     ]
    }
   ],
   "source": [
    "def even_numbers(limit):\n",
    "    for i in range(limit):\n",
    "        if i % 2 == 0:\n",
    "            yield i\n",
    "\n",
    "def squares(numbers):\n",
    "    for number in numbers:\n",
    "        yield number ** 2\n",
    "\n",
    "even_generator = even_numbers(20)\n",
    "square_generator = squares(even_generator)\n",
    "\n",
    "for square in square_generator:\n",
    "    print(square, end=\", \")\n"
   ]
  },
  {
   "cell_type": "markdown",
   "id": "3b1a33cd",
   "metadata": {},
   "source": [
    "### Assignment 6: Simple Decorator\n",
    "\n",
    "Write a decorator named `time_it` that measures the execution time of a function. Apply this decorator to a function that calculates the factorial of a number."
   ]
  },
  {
   "cell_type": "code",
   "execution_count": 123,
   "id": "8aaebfb2",
   "metadata": {},
   "outputs": [
    {
     "name": "stdout",
     "output_type": "stream",
     "text": [
      "Function took 0.0 seconds to execute.\n",
      "Function took 0.0003101825714111328 seconds to execute.\n",
      "Function took 0.0003101825714111328 seconds to execute.\n",
      "Function took 0.0003101825714111328 seconds to execute.\n",
      "Function took 0.0003101825714111328 seconds to execute.\n",
      "Function took 0.0003101825714111328 seconds to execute.\n",
      "Function took 0.0003101825714111328 seconds to execute.\n",
      "Function took 0.0003101825714111328 seconds to execute.\n",
      "Function took 0.0003101825714111328 seconds to execute.\n",
      "Function took 0.0003101825714111328 seconds to execute.\n"
     ]
    },
    {
     "data": {
      "text/plain": [
       "3628800"
      ]
     },
     "execution_count": 123,
     "metadata": {},
     "output_type": "execute_result"
    }
   ],
   "source": [
    "import time\n",
    "\n",
    "def time_it(func):\n",
    "    def wrapper(*args, **kwargs):\n",
    "        start = time.time()\n",
    "        result = func(*args, **kwargs)\n",
    "        end = time.time()\n",
    "        difference = end - start\n",
    "        print(f\"Function took {difference} seconds to execute.\")\n",
    "        return result\n",
    "    return wrapper\n",
    "\n",
    "@time_it\n",
    "def factorial(n):\n",
    "    if n <= 1:\n",
    "        return 1\n",
    "    return n * factorial(n - 1)\n",
    "\n",
    "factorial(10)"
   ]
  },
  {
   "cell_type": "markdown",
   "id": "344c1b17",
   "metadata": {},
   "source": [
    "### Assignment 7: Decorator with Arguments\n",
    "\n",
    "Write a decorator named `repeat` that takes an argument `n` and repeats the execution of the decorated function `n` times. Apply this decorator to a function that prints a message."
   ]
  },
  {
   "cell_type": "code",
   "execution_count": 133,
   "id": "04ead4a2",
   "metadata": {},
   "outputs": [
    {
     "name": "stdout",
     "output_type": "stream",
     "text": [
      "Hello, world! - Abishek\n",
      "Hello, world! - Abishek\n",
      "Hello, world! - Abishek\n"
     ]
    }
   ],
   "source": [
    "def repeat(n):\n",
    "    def decorator(fn):\n",
    "        def wrapper(*args, **kwargs):\n",
    "            for _ in range(n):\n",
    "                fn(*args, **kwargs)\n",
    "        return wrapper\n",
    "    return decorator\n",
    "\n",
    "@repeat(3)\n",
    "def message(name):\n",
    "    print(f\"Hello, world! - {name}\")\n",
    "\n",
    "message(\"Abishek\")\n"
   ]
  },
  {
   "cell_type": "markdown",
   "id": "f9e9f38a",
   "metadata": {},
   "source": [
    "### Assignment 8: Nested Decorators\n",
    "\n",
    "Write two decorators: `uppercase` that converts the result of a function to uppercase, and `exclaim` that adds an exclamation mark to the result of a function. Apply both decorators to a function that returns a greeting message."
   ]
  },
  {
   "cell_type": "code",
   "execution_count": 147,
   "id": "3345efb8",
   "metadata": {},
   "outputs": [
    {
     "data": {
      "text/plain": [
       "'NAMASTE!'"
      ]
     },
     "execution_count": 147,
     "metadata": {},
     "output_type": "execute_result"
    }
   ],
   "source": [
    "def exclaim(fn):\n",
    "    def wrapper(*args, **kwargs):\n",
    "        result = fn(*args, **kwargs)\n",
    "        return f\"{result}!\"\n",
    "    return wrapper\n",
    "\n",
    "def uppercase(fn):\n",
    "    def wrapper(*args, **kwargs):\n",
    "        result = fn(*args, **kwargs)\n",
    "        return result.upper()\n",
    "    return wrapper\n",
    "\n",
    "@exclaim\n",
    "@uppercase\n",
    "def greeting(message):\n",
    "    return message\n",
    "\n",
    "greeting(\"Namaste\")"
   ]
  },
  {
   "cell_type": "markdown",
   "id": "c4fa3ae4",
   "metadata": {},
   "source": [
    "### Assignment 9: Class Decorator\n",
    "\n",
    "Create a class decorator named `singleton` that ensures a class has only one instance. Apply this decorator to a class named `DatabaseConnection` and test it."
   ]
  },
  {
   "cell_type": "code",
   "execution_count": 145,
   "id": "2195d072",
   "metadata": {},
   "outputs": [
    {
     "name": "stdout",
     "output_type": "stream",
     "text": [
      "Database created: First\n"
     ]
    }
   ],
   "source": [
    "def singleton(cls):\n",
    "    instances = {}\n",
    "    def wrapper(*args, **kwargs):\n",
    "        if cls not in instances:\n",
    "            instances[cls] = cls(*args, **kwargs)\n",
    "            return instances[cls]\n",
    "    return wrapper\n",
    "\n",
    "@singleton\n",
    "class DatabaseConnection:\n",
    "    def __init__(self, name):\n",
    "        self.name = name\n",
    "        print(f\"Database created: {self.name}\")\n",
    "\n",
    "dc = DatabaseConnection(\"First\")\n",
    "db = DatabaseConnection(\"Second\")\n"
   ]
  },
  {
   "cell_type": "markdown",
   "id": "3572f035",
   "metadata": {},
   "source": [
    "### Assignment 10: Iterator Protocol with Decorators\n",
    "\n",
    "Create a custom iterator class named `ReverseString` that iterates over a string in reverse. Write a decorator named `uppercase` that converts the string to uppercase before reversing it. Apply the decorator to the `ReverseString` class."
   ]
  },
  {
   "cell_type": "code",
   "execution_count": 155,
   "id": "c55b1898",
   "metadata": {},
   "outputs": [
    {
     "name": "stdout",
     "output_type": "stream",
     "text": [
      "A\n",
      "N\n",
      "A\n",
      "N\n",
      "A\n",
      "B\n"
     ]
    }
   ],
   "source": [
    "def uppercase(cls):\n",
    "    class Wrapped(cls):\n",
    "        def __init__(self, *args, **kwargs):\n",
    "            super().__init__(*args, **kwargs)\n",
    "            self.string = self.string.upper()\n",
    "    return Wrapped\n",
    "\n",
    "@uppercase\n",
    "class ReverseString:\n",
    "    def __init__(self, string):\n",
    "        self.string = string\n",
    "        self.index = len(string)\n",
    "    \n",
    "    def __iter__(self):\n",
    "        return self\n",
    "    \n",
    "    def __next__(self):\n",
    "        if self.index == 0:\n",
    "            raise StopIteration\n",
    "        self.index -= 1\n",
    "        return self.string[self.index]\n",
    "\n",
    "for char in ReverseString('banana'):\n",
    "    print(char)"
   ]
  },
  {
   "cell_type": "markdown",
   "id": "dec21404",
   "metadata": {},
   "source": [
    "### Assignment 11: Stateful Generators\n",
    "\n",
    "Write a stateful generator function named `counter` that takes a start value and increments it by 1 each time it is called. Test the generator by iterating over it and printing the first 10 values."
   ]
  },
  {
   "cell_type": "code",
   "execution_count": 162,
   "id": "cccdc664",
   "metadata": {},
   "outputs": [
    {
     "name": "stdout",
     "output_type": "stream",
     "text": [
      "1\n",
      "2\n",
      "3\n",
      "4\n",
      "5\n",
      "6\n",
      "7\n",
      "8\n",
      "9\n",
      "10\n"
     ]
    }
   ],
   "source": [
    "def counter(n):\n",
    "    yield n + 1\n",
    "\n",
    "\n",
    "for i in range(10):\n",
    "    print(next(counter(i)))"
   ]
  },
  {
   "cell_type": "markdown",
   "id": "40d558ee",
   "metadata": {},
   "source": [
    "### Assignment 12: Generator with Exception Handling\n",
    "\n",
    "Write a generator function named `safe_divide` that takes a list of numbers and yields the division of each number by a given divisor. Implement exception handling within the generator to handle division by zero."
   ]
  },
  {
   "cell_type": "code",
   "execution_count": null,
   "id": "d3342377",
   "metadata": {},
   "outputs": [
    {
     "name": "stdout",
     "output_type": "stream",
     "text": [
      "0.1111111111111111\n",
      "0.2222222222222222\n",
      "0.3333333333333333\n",
      "0.4444444444444444\n",
      "0.5555555555555556\n"
     ]
    }
   ],
   "source": [
    "def safe_divide(lst, divisor):\n",
    "    for num in lst:\n",
    "        try:\n",
    "            yield num / divisor\n",
    "        except ZeroDivisionError as ex:\n",
    "            print(\"Division by zero not allowed.\")\n",
    "        except StopIteration as ex:\n",
    "            print(\"Stop iterator error\")\n",
    "\n",
    "lst = [1, 2, 3, 4, 5]\n",
    "\n",
    "\n",
    "for number in safe_divide(lst, 9):\n",
    "    print(number)\n"
   ]
  },
  {
   "cell_type": "markdown",
   "id": "fdcc0914",
   "metadata": {},
   "source": [
    "### Assignment 13: Context Manager Decorator\n",
    "\n",
    "Write a decorator named `open_file` that manages the opening and closing of a file. Apply this decorator to a function that writes some text to a file."
   ]
  },
  {
   "cell_type": "code",
   "execution_count": 171,
   "id": "896a60da",
   "metadata": {},
   "outputs": [],
   "source": [
    "def open_file(file_name, mode):\n",
    "    def decorator(fn):\n",
    "        def wrapper(*args, **kwargs):\n",
    "            with open(file_name, mode) as file:\n",
    "                return fn(file, *args, **kwargs)\n",
    "        return wrapper\n",
    "    return decorator\n",
    "\n",
    "@open_file('sample.txt', 'w')\n",
    "def write_file(file, text):\n",
    "    file.write(text)\n",
    "\n",
    "write_file(\"Hello world\")"
   ]
  },
  {
   "cell_type": "markdown",
   "id": "746f67df",
   "metadata": {},
   "source": [
    "### Assignment 14: Infinite Iterator\n",
    "\n",
    "Create an infinite iterator class named `InfiniteCounter` that starts from a given number and increments by 1 indefinitely. Test the iterator by printing the first 10 values generated by it."
   ]
  },
  {
   "cell_type": "code",
   "execution_count": 176,
   "id": "4b315528",
   "metadata": {},
   "outputs": [
    {
     "name": "stdout",
     "output_type": "stream",
     "text": [
      "0\n",
      "1\n",
      "2\n",
      "3\n",
      "4\n",
      "5\n",
      "6\n",
      "7\n",
      "8\n",
      "9\n"
     ]
    }
   ],
   "source": [
    "class InfiniteCounter:\n",
    "    def __init__(self, start):\n",
    "        self.start = start\n",
    "    \n",
    "    def __iter__(self):\n",
    "        return self.start\n",
    "    \n",
    "    def __next__(self):\n",
    "        value = self.start\n",
    "        self.start += 1\n",
    "        return value\n",
    "\n",
    "counter = InfiniteCounter(0)\n",
    "\n",
    "for _ in range(10):\n",
    "    print(next(counter))\n"
   ]
  },
  {
   "cell_type": "markdown",
   "id": "1fb89e37",
   "metadata": {},
   "source": [
    "### Assignment 15: Generator Pipeline\n",
    "\n",
    "Write three generator functions: `integers` that yields integers from 1 to 10, `doubles` that yields each integer doubled, and `negatives` that yields the negative of each doubled value. Chain these generators to create a pipeline that produces the negative doubled values of integers from 1 to 10."
   ]
  },
  {
   "cell_type": "code",
   "execution_count": 184,
   "id": "eab4b4da",
   "metadata": {},
   "outputs": [
    {
     "name": "stdout",
     "output_type": "stream",
     "text": [
      "-2\n",
      "-4\n",
      "-6\n",
      "-8\n",
      "-10\n",
      "-12\n",
      "-14\n",
      "-16\n",
      "-18\n",
      "-20\n"
     ]
    }
   ],
   "source": [
    "def integers():\n",
    "    for i in range(1, 11):\n",
    "        yield i \n",
    "\n",
    "def doubles(numbers):\n",
    "    for number in numbers:\n",
    "        yield number * 2\n",
    "\n",
    "def negatives(numbers):\n",
    "    for number in numbers:\n",
    "        yield -number\n",
    "\n",
    "num_list = integers()\n",
    "double_num_list = doubles(num_list)\n",
    "negative_double_num_list = negatives(double_num_list)\n",
    "\n",
    "for i in negative_double_num_list:\n",
    "    print(i)"
   ]
  }
 ],
 "metadata": {
  "kernelspec": {
   "display_name": "Complete-Python-Bootcamp",
   "language": "python",
   "name": "python3"
  },
  "language_info": {
   "codemirror_mode": {
    "name": "ipython",
    "version": 3
   },
   "file_extension": ".py",
   "mimetype": "text/x-python",
   "name": "python",
   "nbconvert_exporter": "python",
   "pygments_lexer": "ipython3",
   "version": "3.12.6"
  }
 },
 "nbformat": 4,
 "nbformat_minor": 5
}
