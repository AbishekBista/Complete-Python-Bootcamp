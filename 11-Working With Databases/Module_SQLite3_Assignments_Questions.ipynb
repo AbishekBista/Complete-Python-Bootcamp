{
 "cells": [
  {
   "cell_type": "markdown",
   "id": "d4abef39",
   "metadata": {},
   "source": [
    "# Module: SQLite3 Assignments\n",
    "## Lesson: SQLite3\n",
    "### Assignment 1: Creating and Connecting to a Database\n",
    "\n",
    "1. Write a Python function to create a new SQLite3 database named `test.db`.\n"
   ]
  },
  {
   "cell_type": "code",
   "execution_count": 1,
   "id": "de103e6c",
   "metadata": {},
   "outputs": [],
   "source": [
    "import sqlite3\n",
    "\n",
    "db = sqlite3.connect('test.db')\n"
   ]
  },
  {
   "cell_type": "markdown",
   "id": "b41c5245",
   "metadata": {},
   "source": [
    "2. Write a Python function to create a table named `employees` with columns `id` (integer), `name` (text), `age` (integer), and `department` (text) in the `test.db` database."
   ]
  },
  {
   "cell_type": "code",
   "execution_count": 2,
   "id": "983ace82",
   "metadata": {},
   "outputs": [],
   "source": [
    "db.execute('''\n",
    "    CREATE TABLE IF NOT EXISTS\n",
    "           employees(\n",
    "           id INTEGER PRIMARY KEY,\n",
    "           name TEXT NOT NULL,\n",
    "           age INTEGER NOT NULL,\n",
    "           department TEXT NOT NULL\n",
    "           )\n",
    "''')\n",
    "\n",
    "db.commit()"
   ]
  },
  {
   "cell_type": "markdown",
   "id": "f9ec69e3",
   "metadata": {},
   "source": [
    "### Assignment 2: Inserting Data\n",
    "\n",
    "1. Write a Python function to insert a new employee into the `employees` table."
   ]
  },
  {
   "cell_type": "code",
   "execution_count": 39,
   "id": "f423b705",
   "metadata": {},
   "outputs": [],
   "source": [
    "db.execute('''\n",
    "    INSERT INTO employees(name, age, department)\n",
    "           VALUES('Ram', 25, 'AI/ML')\n",
    "''')\n",
    "\n",
    "db.commit()"
   ]
  },
  {
   "cell_type": "markdown",
   "id": "4213f92a",
   "metadata": {},
   "source": [
    "2. Insert at least 5 different employees into the `employees` table."
   ]
  },
  {
   "cell_type": "code",
   "execution_count": 40,
   "id": "3f390827",
   "metadata": {},
   "outputs": [],
   "source": [
    "employee_data = [\n",
    "    ('Shyam', 30, 'Full-Stack'),\n",
    "    ('Bob', 22, 'AI'),\n",
    "    ('John', 25, 'DevOps'),\n",
    "    ('Sheela', 30, 'Operations')\n",
    "]\n",
    "\n",
    "db.executemany('''\n",
    "    INSERT INTO employees(name, age, department)\n",
    "           VALUES(?,?,?)\n",
    "''', employee_data)\n",
    "\n",
    "db.commit()"
   ]
  },
  {
   "cell_type": "markdown",
   "id": "8184bfd4",
   "metadata": {},
   "source": [
    "### Assignment 3: Querying Data\n",
    "\n",
    "1. Write a Python function to fetch and display all records from the `employees` table."
   ]
  },
  {
   "cell_type": "code",
   "execution_count": 48,
   "id": "a9c663b0",
   "metadata": {},
   "outputs": [
    {
     "name": "stdout",
     "output_type": "stream",
     "text": [
      "(1, 'Ram', 25, 'AI/ML')\n",
      "(2, 'Shyam', 30, 'Full-Stack')\n",
      "(3, 'Bob', 24, 'AI')\n",
      "(4, 'John', 22, 'DevOps')\n",
      "(5, 'Sheela', 30, 'Operations')\n",
      "(6, 'Ram', 25, 'AI/ML')\n",
      "(7, 'Shyam', 30, 'Full-Stack')\n",
      "(8, 'Bob', 24, 'AI')\n",
      "(9, 'John', 22, 'DevOps')\n",
      "(10, 'Sheela', 30, 'Operations')\n",
      "(11, 'Gary', 30, 'Full-Stack')\n",
      "(12, 'Wilson', 22, 'AI')\n",
      "(13, 'Xhosa', 25, 'DevOps')\n",
      "(14, 'Maximilian', 30, 'AI')\n"
     ]
    }
   ],
   "source": [
    "rows = db.execute('SELECT * FROM employees')\n",
    "\n",
    "for row in rows:\n",
    "    print(row)"
   ]
  },
  {
   "cell_type": "markdown",
   "id": "b882f3f2",
   "metadata": {},
   "source": [
    "2. Write a Python function to fetch and display all employees from a specific department."
   ]
  },
  {
   "cell_type": "code",
   "execution_count": 18,
   "id": "acd680b7",
   "metadata": {},
   "outputs": [
    {
     "name": "stdout",
     "output_type": "stream",
     "text": [
      "(1, 'Ram', 25, 'AI/ML')\n"
     ]
    }
   ],
   "source": [
    "rows = db.execute('SELECT * FROM employees WHERE department=\"AI/ML\"')\n",
    "\n",
    "for row in rows:\n",
    "    print(row)"
   ]
  },
  {
   "cell_type": "markdown",
   "id": "f01ac200",
   "metadata": {},
   "source": [
    "### Assignment 4: Updating Data\n",
    "\n",
    "1. Write a Python function to update the department of an employee based on their `id`."
   ]
  },
  {
   "cell_type": "code",
   "execution_count": 14,
   "id": "e60423b3",
   "metadata": {},
   "outputs": [
    {
     "data": {
      "text/plain": [
       "<sqlite3.Cursor at 0x222233823c0>"
      ]
     },
     "execution_count": 14,
     "metadata": {},
     "output_type": "execute_result"
    }
   ],
   "source": [
    "db.execute(\n",
    "'''\n",
    "    UPDATE employees\n",
    "    SET department=\"HR\"\n",
    "    WHERE id=3\n",
    "'''\n",
    ")"
   ]
  },
  {
   "cell_type": "markdown",
   "id": "a46fbfa8",
   "metadata": {},
   "source": [
    "2. Update the department of at least 2 employees and display the updated records."
   ]
  },
  {
   "cell_type": "code",
   "execution_count": 19,
   "id": "c1643b3c",
   "metadata": {},
   "outputs": [
    {
     "name": "stdout",
     "output_type": "stream",
     "text": [
      "(1, 'Ram', 25, 'AI/ML')\n",
      "(2, 'Shyam', 30, 'Full-Stack')\n",
      "(3, 'Bob', 22, 'AI/ML')\n",
      "(4, 'John', 25, 'DevOps')\n",
      "(5, 'Sheela', 30, 'Operations')\n"
     ]
    }
   ],
   "source": [
    "db.execute(\n",
    "'''\n",
    "    UPDATE employees\n",
    "    SET department=\"AI/ML\"\n",
    "    WHERE department=\"HR\"\n",
    "'''\n",
    ")\n",
    "\n",
    "rows = db.execute(\"SELECT * FROM employees\")\n",
    "\n",
    "for row in rows:\n",
    "    print(row)\n"
   ]
  },
  {
   "cell_type": "markdown",
   "id": "cc9ab51c",
   "metadata": {},
   "source": [
    "### Assignment 5: Deleting Data\n",
    "\n",
    "1. Write a Python function to delete an employee from the `employees` table based on their `id`."
   ]
  },
  {
   "cell_type": "code",
   "execution_count": 34,
   "id": "fd73498c",
   "metadata": {},
   "outputs": [
    {
     "data": {
      "text/plain": [
       "<sqlite3.Cursor at 0x22223382840>"
      ]
     },
     "execution_count": 34,
     "metadata": {},
     "output_type": "execute_result"
    }
   ],
   "source": [
    "db.execute('DELETE FROM employees WHERE id=8')"
   ]
  },
  {
   "cell_type": "markdown",
   "id": "beaa2797",
   "metadata": {},
   "source": [
    "2. Delete at least 1 employee and display the remaining records."
   ]
  },
  {
   "cell_type": "code",
   "execution_count": 22,
   "id": "0b227441",
   "metadata": {},
   "outputs": [
    {
     "name": "stdout",
     "output_type": "stream",
     "text": [
      "(3, 'Bob', 22, 'AI/ML')\n",
      "(4, 'John', 25, 'DevOps')\n",
      "(5, 'Sheela', 30, 'Operations')\n"
     ]
    }
   ],
   "source": [
    "db.execute('DELETE FROM employees WHERE id=2')\n",
    "\n",
    "rows = db.execute('SELECT * FROM employees')\n",
    "\n",
    "for row in rows:\n",
    "    print(row)"
   ]
  },
  {
   "cell_type": "markdown",
   "id": "38bc9c4d",
   "metadata": {},
   "source": [
    "### Assignment 6: Advanced Queries\n",
    "\n",
    "1. Write a Python function to fetch and display employees older than a certain age."
   ]
  },
  {
   "cell_type": "code",
   "execution_count": 27,
   "id": "94d35e1d",
   "metadata": {},
   "outputs": [
    {
     "name": "stdout",
     "output_type": "stream",
     "text": [
      "(4, 'John', 25, 'DevOps')\n",
      "(5, 'Sheela', 30, 'Operations')\n"
     ]
    }
   ],
   "source": [
    "rows = db.execute('SELECT * FROM employees where age > 22')\n",
    "\n",
    "for row in rows:\n",
    "    print(row)"
   ]
  },
  {
   "cell_type": "markdown",
   "id": "0a57c605",
   "metadata": {},
   "source": [
    "2. Write a Python function to fetch and display employees whose names start with a specific letter."
   ]
  },
  {
   "cell_type": "code",
   "execution_count": 29,
   "id": "b9cfb194",
   "metadata": {},
   "outputs": [
    {
     "name": "stdout",
     "output_type": "stream",
     "text": [
      "(4, 'John', 25, 'DevOps')\n"
     ]
    }
   ],
   "source": [
    "rows = db.execute(\"SELECT * FROM employees WHERE name LIKE 'J%'\")\n",
    "\n",
    "for row in rows:\n",
    "    print(row)"
   ]
  },
  {
   "cell_type": "markdown",
   "id": "b1a79d13",
   "metadata": {},
   "source": [
    "### Assignment 7: Handling Transactions\n",
    "\n",
    "1. Write a Python function to insert multiple employees into the `employees` table in a single transaction. Ensure that if any insertion fails, none of the insertions are committed."
   ]
  },
  {
   "cell_type": "code",
   "execution_count": 42,
   "id": "b78329d4",
   "metadata": {},
   "outputs": [],
   "source": [
    "\n",
    "employee_data = [\n",
    "    ('Gary', 30, 'Full-Stack'),\n",
    "    ('Wilson', 22, 'AI'),\n",
    "    ('Xhosa', 25, 'DevOps'),\n",
    "    ('Maximilian', 30, 'AI')\n",
    "]\n",
    "\n",
    "try:\n",
    "    db.execute('BEGIN')\n",
    "    db.executemany('''\n",
    "        INSERT INTO employees(name, age, department)\n",
    "            VALUES(?, ?, ?)\n",
    "    ''', employee_data)\n",
    "    db.commit()\n",
    "except:\n",
    "    db.rollback()\n"
   ]
  },
  {
   "cell_type": "markdown",
   "id": "c835701c",
   "metadata": {},
   "source": [
    "2. Write a Python function to update the age of multiple employees in a single transaction. Ensure that if any update fails, none of the updates are committed."
   ]
  },
  {
   "cell_type": "code",
   "execution_count": 47,
   "id": "781e5e4d",
   "metadata": {},
   "outputs": [],
   "source": [
    "updates = [\n",
    "    (24, 'Bob'),\n",
    "    (22, 'John')\n",
    "]\n",
    "\n",
    "try:\n",
    "    db.execute('BEGIN')\n",
    "    db.executemany(\n",
    "    '''\n",
    "        UPDATE employees\n",
    "        SET age = ?\n",
    "        WHERE name = ?\n",
    "    '''\n",
    "    , updates)\n",
    "except:\n",
    "    print(\"Rolling back\")\n",
    "    db.rollback()"
   ]
  },
  {
   "cell_type": "markdown",
   "id": "759cc3b0",
   "metadata": {},
   "source": [
    "### Assignment 8: Creating Relationships\n",
    "\n",
    "1. Create a new table named `departments` with columns `id` (integer) and `name` (text)."
   ]
  },
  {
   "cell_type": "code",
   "execution_count": 61,
   "id": "4b3eb1ba",
   "metadata": {},
   "outputs": [
    {
     "data": {
      "text/plain": [
       "<sqlite3.Cursor at 0x222237dd8c0>"
      ]
     },
     "execution_count": 61,
     "metadata": {},
     "output_type": "execute_result"
    }
   ],
   "source": [
    "db.execute(\n",
    "'''\n",
    "    CREATE TABLE IF NOT EXISTS\n",
    "    departments(\n",
    "        id INTEGER PRIMARY KEY,\n",
    "        name TEXT NOT NULL\n",
    "    )\n",
    "''')\n"
   ]
  },
  {
   "cell_type": "markdown",
   "id": "91d5d6c1",
   "metadata": {},
   "source": [
    "2. Modify the `employees` table to include a foreign key referencing the `id` column in the `departments` table."
   ]
  },
  {
   "cell_type": "code",
   "execution_count": 69,
   "id": "48b7d853",
   "metadata": {},
   "outputs": [
    {
     "data": {
      "text/plain": [
       "<sqlite3.Cursor at 0x222237ddec0>"
      ]
     },
     "execution_count": 69,
     "metadata": {},
     "output_type": "execute_result"
    }
   ],
   "source": [
    "#db.execute('ALTER TABLE employees RENAME to employee_old')\n",
    "\n",
    "db.execute('''\n",
    "    CREATE TABLE IF NOT EXISTS employees(\n",
    "           id INTEGER PRIMARY KEY,\n",
    "           name TEXT NOT NULL,\n",
    "           age INTEGER NOT NULL,\n",
    "           department INTEGER,\n",
    "           FOREIGN KEY(department) REFERENCES departments(id)\n",
    "    )\n",
    "''')"
   ]
  },
  {
   "cell_type": "markdown",
   "id": "99e3b740",
   "metadata": {},
   "source": [
    "3. Write a Python function to insert data into both the `departments` and `employees` tables, ensuring referential integrity."
   ]
  },
  {
   "cell_type": "code",
   "execution_count": 71,
   "id": "cabb7089",
   "metadata": {},
   "outputs": [
    {
     "data": {
      "text/plain": [
       "<sqlite3.Cursor at 0x222237de340>"
      ]
     },
     "execution_count": 71,
     "metadata": {},
     "output_type": "execute_result"
    }
   ],
   "source": [
    "departments_data = [\n",
    "    ('AI/ML',),\n",
    "    ('Full-stack',),\n",
    "    ('Data Science',),\n",
    "    ('DevOps',)\n",
    "]\n",
    "\n",
    "db.executemany('''\n",
    "    INSERT INTO departments(name)\n",
    "               VALUES(?)\n",
    "''', departments_data)"
   ]
  },
  {
   "cell_type": "code",
   "execution_count": 72,
   "id": "8a7de15c",
   "metadata": {},
   "outputs": [],
   "source": [
    "employee_data = [\n",
    "    ('Gary', 30, 1),\n",
    "    ('Wilson', 22, 2),\n",
    "    ('Xhosa', 25, 3),\n",
    "    ('Maximilian', 30, 4)\n",
    "]\n",
    "\n",
    "try:\n",
    "    db.execute('BEGIN')\n",
    "    db.executemany('''\n",
    "        INSERT INTO employees(name, age, department)\n",
    "            VALUES(?, ?, ?)\n",
    "    ''', employee_data)\n",
    "    db.commit()\n",
    "except:\n",
    "    db.rollback()"
   ]
  },
  {
   "cell_type": "markdown",
   "id": "8d0193d5",
   "metadata": {},
   "source": [
    "### Assignment 9: Indexing and Optimization\n",
    "\n",
    "1. Create an index on the `name` column of the `employees` table.\n"
   ]
  },
  {
   "cell_type": "code",
   "execution_count": 75,
   "id": "988ab0b4",
   "metadata": {},
   "outputs": [
    {
     "data": {
      "text/plain": [
       "<sqlite3.Cursor at 0x222237ad1c0>"
      ]
     },
     "execution_count": 75,
     "metadata": {},
     "output_type": "execute_result"
    }
   ],
   "source": [
    "db.execute('CREATE INDEX name_index ON employees(name)')"
   ]
  },
  {
   "cell_type": "markdown",
   "id": "db375f65",
   "metadata": {},
   "source": [
    "2. Write a Python function to fetch and display all employees whose names start with a specific letter. Compare the performance with and without the index."
   ]
  },
  {
   "cell_type": "code",
   "execution_count": 76,
   "id": "987df4a8",
   "metadata": {},
   "outputs": [
    {
     "name": "stdout",
     "output_type": "stream",
     "text": [
      "(4, 'John', 25, 'DevOps')\n",
      "(9, 'John', 25, 'DevOps')\n"
     ]
    }
   ],
   "source": [
    "rows = db.execute('SELECT * FROM employees WHERE name LIKE \"J%\"')\n",
    "\n",
    "for row in rows:\n",
    "    print(row)"
   ]
  },
  {
   "cell_type": "markdown",
   "id": "4b7ef315",
   "metadata": {},
   "source": [
    "### Assignment 10: Backing Up and Restoring Data\n",
    "\n",
    "1. Write a Python function to back up the `test.db` database to a file named `backup.db`."
   ]
  },
  {
   "cell_type": "code",
   "execution_count": 77,
   "id": "8949d4ef",
   "metadata": {},
   "outputs": [],
   "source": [
    "backup = sqlite3.connect('backup.db')\n",
    "\n",
    "with backup:\n",
    "    db.backup(backup)"
   ]
  },
  {
   "cell_type": "markdown",
   "id": "e76c483b",
   "metadata": {},
   "source": [
    "2. Write a Python function to restore the `test.db` database from the `backup.db` file."
   ]
  },
  {
   "cell_type": "code",
   "execution_count": 78,
   "id": "1bc79ea0",
   "metadata": {},
   "outputs": [],
   "source": [
    "with db:\n",
    "    backup.backup(db)"
   ]
  }
 ],
 "metadata": {
  "kernelspec": {
   "display_name": "Complete-Python-Bootcamp",
   "language": "python",
   "name": "python3"
  },
  "language_info": {
   "codemirror_mode": {
    "name": "ipython",
    "version": 3
   },
   "file_extension": ".py",
   "mimetype": "text/x-python",
   "name": "python",
   "nbconvert_exporter": "python",
   "pygments_lexer": "ipython3",
   "version": "3.12.6"
  }
 },
 "nbformat": 4,
 "nbformat_minor": 5
}
