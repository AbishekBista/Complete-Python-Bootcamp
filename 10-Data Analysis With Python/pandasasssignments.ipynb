{
 "cells": [
  {
   "cell_type": "markdown",
   "id": "b4ca146c",
   "metadata": {},
   "source": [
    "# Module: Pandas Assignments\n",
    "## Lesson: Pandas\n",
    "### Assignment 1: DataFrame Creation and Indexing\n",
    "\n",
    "1. Create a Pandas DataFrame with 4 columns and 6 rows filled with random integers. Set the index to be the first column.\n"
   ]
  },
  {
   "cell_type": "code",
   "execution_count": 89,
   "id": "3d21f403",
   "metadata": {},
   "outputs": [
    {
     "data": {
      "text/html": [
       "<div>\n",
       "<style scoped>\n",
       "    .dataframe tbody tr th:only-of-type {\n",
       "        vertical-align: middle;\n",
       "    }\n",
       "\n",
       "    .dataframe tbody tr th {\n",
       "        vertical-align: top;\n",
       "    }\n",
       "\n",
       "    .dataframe thead th {\n",
       "        text-align: right;\n",
       "    }\n",
       "</style>\n",
       "<table border=\"1\" class=\"dataframe\">\n",
       "  <thead>\n",
       "    <tr style=\"text-align: right;\">\n",
       "      <th></th>\n",
       "      <th>1</th>\n",
       "      <th>2</th>\n",
       "      <th>3</th>\n",
       "      <th>4</th>\n",
       "      <th>5</th>\n",
       "    </tr>\n",
       "    <tr>\n",
       "      <th>0</th>\n",
       "      <th></th>\n",
       "      <th></th>\n",
       "      <th></th>\n",
       "      <th></th>\n",
       "      <th></th>\n",
       "    </tr>\n",
       "  </thead>\n",
       "  <tbody>\n",
       "    <tr>\n",
       "      <th>6</th>\n",
       "      <td>1</td>\n",
       "      <td>1</td>\n",
       "      <td>2</td>\n",
       "      <td>5</td>\n",
       "      <td>1</td>\n",
       "    </tr>\n",
       "    <tr>\n",
       "      <th>7</th>\n",
       "      <td>3</td>\n",
       "      <td>7</td>\n",
       "      <td>7</td>\n",
       "      <td>4</td>\n",
       "      <td>6</td>\n",
       "    </tr>\n",
       "    <tr>\n",
       "      <th>6</th>\n",
       "      <td>9</td>\n",
       "      <td>7</td>\n",
       "      <td>2</td>\n",
       "      <td>2</td>\n",
       "      <td>1</td>\n",
       "    </tr>\n",
       "    <tr>\n",
       "      <th>2</th>\n",
       "      <td>6</td>\n",
       "      <td>1</td>\n",
       "      <td>4</td>\n",
       "      <td>3</td>\n",
       "      <td>9</td>\n",
       "    </tr>\n",
       "  </tbody>\n",
       "</table>\n",
       "</div>"
      ],
      "text/plain": [
       "   1  2  3  4  5\n",
       "0               \n",
       "6  1  1  2  5  1\n",
       "7  3  7  7  4  6\n",
       "6  9  7  2  2  1\n",
       "2  6  1  4  3  9"
      ]
     },
     "execution_count": 89,
     "metadata": {},
     "output_type": "execute_result"
    }
   ],
   "source": [
    "import pandas as pd\n",
    "import numpy as np\n",
    "\n",
    "df = pd.DataFrame(np.random.randint(1, 10, size=(4, 6)))\n",
    "df.set_index(0)"
   ]
  },
  {
   "cell_type": "markdown",
   "id": "6495d658",
   "metadata": {},
   "source": [
    "2. Create a Pandas DataFrame with columns 'A', 'B', 'C' and index 'X', 'Y', 'Z'. Fill the DataFrame with random integers and access the element at row 'Y' and column 'B'."
   ]
  },
  {
   "cell_type": "code",
   "execution_count": 90,
   "id": "d61875a0",
   "metadata": {},
   "outputs": [
    {
     "name": "stdout",
     "output_type": "stream",
     "text": [
      "    A   B   C\n",
      "X  60  63  53\n",
      "Y  93  37  45\n",
      "Z  24  72  34\n"
     ]
    },
    {
     "data": {
      "text/plain": [
       "np.int32(37)"
      ]
     },
     "execution_count": 90,
     "metadata": {},
     "output_type": "execute_result"
    }
   ],
   "source": [
    "df = pd.DataFrame(np.random.randint(1, 100, size=(3, 3)), columns=['A', 'B', 'C'], index=['X', 'Y', 'Z'])\n",
    "print(df)\n",
    "df.loc['Y']['B']"
   ]
  },
  {
   "cell_type": "markdown",
   "id": "8176708f",
   "metadata": {},
   "source": [
    "### Assignment 2: DataFrame Operations\n",
    "\n",
    "1. Create a Pandas DataFrame with 3 columns and 5 rows filled with random integers. Add a new column that is the product of the first two columns.\n"
   ]
  },
  {
   "cell_type": "code",
   "execution_count": 91,
   "id": "fef9d44c",
   "metadata": {},
   "outputs": [
    {
     "name": "stdout",
     "output_type": "stream",
     "text": [
      "   0  1  2\n",
      "0  3  6  1\n",
      "1  2  7  6\n",
      "2  1  5  4\n",
      "3  7  4  2\n",
      "4  9  6  1\n"
     ]
    },
    {
     "data": {
      "text/html": [
       "<div>\n",
       "<style scoped>\n",
       "    .dataframe tbody tr th:only-of-type {\n",
       "        vertical-align: middle;\n",
       "    }\n",
       "\n",
       "    .dataframe tbody tr th {\n",
       "        vertical-align: top;\n",
       "    }\n",
       "\n",
       "    .dataframe thead th {\n",
       "        text-align: right;\n",
       "    }\n",
       "</style>\n",
       "<table border=\"1\" class=\"dataframe\">\n",
       "  <thead>\n",
       "    <tr style=\"text-align: right;\">\n",
       "      <th></th>\n",
       "      <th>0</th>\n",
       "      <th>1</th>\n",
       "      <th>2</th>\n",
       "      <th>3</th>\n",
       "    </tr>\n",
       "  </thead>\n",
       "  <tbody>\n",
       "    <tr>\n",
       "      <th>0</th>\n",
       "      <td>3</td>\n",
       "      <td>6</td>\n",
       "      <td>1</td>\n",
       "      <td>9</td>\n",
       "    </tr>\n",
       "    <tr>\n",
       "      <th>1</th>\n",
       "      <td>2</td>\n",
       "      <td>7</td>\n",
       "      <td>6</td>\n",
       "      <td>9</td>\n",
       "    </tr>\n",
       "    <tr>\n",
       "      <th>2</th>\n",
       "      <td>1</td>\n",
       "      <td>5</td>\n",
       "      <td>4</td>\n",
       "      <td>6</td>\n",
       "    </tr>\n",
       "    <tr>\n",
       "      <th>3</th>\n",
       "      <td>7</td>\n",
       "      <td>4</td>\n",
       "      <td>2</td>\n",
       "      <td>11</td>\n",
       "    </tr>\n",
       "    <tr>\n",
       "      <th>4</th>\n",
       "      <td>9</td>\n",
       "      <td>6</td>\n",
       "      <td>1</td>\n",
       "      <td>15</td>\n",
       "    </tr>\n",
       "  </tbody>\n",
       "</table>\n",
       "</div>"
      ],
      "text/plain": [
       "   0  1  2   3\n",
       "0  3  6  1   9\n",
       "1  2  7  6   9\n",
       "2  1  5  4   6\n",
       "3  7  4  2  11\n",
       "4  9  6  1  15"
      ]
     },
     "execution_count": 91,
     "metadata": {},
     "output_type": "execute_result"
    }
   ],
   "source": [
    "df = pd.DataFrame(np.random.randint(1, 10, size=(5, 3)))\n",
    "print(df)\n",
    "\n",
    "df[3] = df[0] + df[1]\n",
    "df\n"
   ]
  },
  {
   "cell_type": "markdown",
   "id": "ee56002b",
   "metadata": {},
   "source": [
    "2. Create a Pandas DataFrame with 3 columns and 4 rows filled with random integers. Compute the row-wise and column-wise sum."
   ]
  },
  {
   "cell_type": "code",
   "execution_count": 92,
   "id": "6f141434",
   "metadata": {},
   "outputs": [
    {
     "name": "stdout",
     "output_type": "stream",
     "text": [
      "   0  1  2\n",
      "0  4  9  6\n",
      "1  6  5  9\n",
      "2  1  5  4\n",
      "3  5  4  6\n",
      "Row-wise sum:\n",
      "0    19\n",
      "1    20\n",
      "2    10\n",
      "3    15\n",
      "dtype: int64\n",
      "Column-wise sum:\n",
      "0    16\n",
      "1    23\n",
      "2    25\n",
      "dtype: int64\n"
     ]
    }
   ],
   "source": [
    "df = pd.DataFrame(np.random.randint(1, 10, size=(4, 3)))\n",
    "print(df)\n",
    "\n",
    "print(f\"Row-wise sum:\\n{df.sum(axis = 1)}\")\n",
    "print(f\"Column-wise sum:\\n{df.sum(axis = 0)}\")"
   ]
  },
  {
   "cell_type": "markdown",
   "id": "af56ac3b",
   "metadata": {},
   "source": [
    "### Assignment 3: Data Cleaning\n",
    "\n",
    "1. Create a Pandas DataFrame with 3 columns and 5 rows filled with random integers. Introduce some NaN values. Fill the NaN values with the mean of the respective columns.\n"
   ]
  },
  {
   "cell_type": "code",
   "execution_count": 93,
   "id": "3e2ab2d1",
   "metadata": {},
   "outputs": [
    {
     "name": "stdout",
     "output_type": "stream",
     "text": [
      "   col1  col2  col3\n",
      "0   1.0   NaN   3.0\n",
      "1   2.0   5.0   2.0\n",
      "2   3.0   6.0   3.0\n",
      "3   NaN   7.0   5.0\n",
      "4   5.0   9.0   NaN\n",
      "   col1  col2  col3\n",
      "0  1.00  6.75  3.00\n",
      "1  2.00  5.00  2.00\n",
      "2  3.00  6.00  3.00\n",
      "3  2.75  7.00  5.00\n",
      "4  5.00  9.00  3.25\n"
     ]
    }
   ],
   "source": [
    "df = pd.DataFrame({'col1': [1, 2, 3, np.nan, 5], 'col2': [np.nan, 5, 6, 7, 9], 'col3': [3, 2, 3, 5, np.nan]})\n",
    "print(df)\n",
    "df.fillna(df.mean(), inplace=True)\n",
    "print(df)"
   ]
  },
  {
   "cell_type": "markdown",
   "id": "5e8e02e3",
   "metadata": {},
   "source": [
    "2. Create a Pandas DataFrame with 4 columns and 6 rows filled with random integers. Introduce some NaN values. Drop the rows with any NaN values."
   ]
  },
  {
   "cell_type": "code",
   "execution_count": 94,
   "id": "a572370a",
   "metadata": {},
   "outputs": [
    {
     "name": "stdout",
     "output_type": "stream",
     "text": [
      "   0    1  2  3\n",
      "0  9  NaN  7  5\n",
      "1  1  6.0  6  8\n",
      "2  1  6.0  5  1\n",
      "3  9  7.0  8  6\n",
      "4  3  5.0  1  8\n",
      "5  4  1.0  1  5\n",
      "   0    1  2  3\n",
      "1  1  6.0  6  8\n",
      "2  1  6.0  5  1\n",
      "3  9  7.0  8  6\n",
      "4  3  5.0  1  8\n",
      "5  4  1.0  1  5\n"
     ]
    }
   ],
   "source": [
    "df = pd.DataFrame(np.random.randint(1, 10, size=(6, 4)))\n",
    "df.loc[0, 1] = np.nan\n",
    "print(df)\n",
    "new_df = df.dropna()\n",
    "print(new_df)"
   ]
  },
  {
   "cell_type": "markdown",
   "id": "61fe64c1",
   "metadata": {},
   "source": [
    "### Assignment 4: Data Aggregation\n",
    "\n",
    "1. Create a Pandas DataFrame with 2 columns: 'Category' and 'Value'. Fill the 'Category' column with random categories ('A', 'B', 'C') and the 'Value' column with random integers. Group the DataFrame by 'Category' and compute the sum and mean of 'Value' for each category.\n"
   ]
  },
  {
   "cell_type": "code",
   "execution_count": 95,
   "id": "bde75220",
   "metadata": {},
   "outputs": [
    {
     "name": "stdout",
     "output_type": "stream",
     "text": [
      "   Category  Value\n",
      "0         C      2\n",
      "1         B      6\n",
      "2         C      4\n",
      "3         C      7\n",
      "4         B      4\n",
      "5         B      2\n",
      "6         B      4\n",
      "7         B      3\n",
      "8         B      1\n",
      "9         A      1\n",
      "10        B      8\n",
      "11        C      3\n",
      "12        A      6\n",
      "13        C      3\n",
      "14        C      2\n"
     ]
    },
    {
     "data": {
      "text/plain": [
       "Category\n",
       "A     7\n",
       "B    28\n",
       "C    21\n",
       "Name: Value, dtype: int32"
      ]
     },
     "execution_count": 95,
     "metadata": {},
     "output_type": "execute_result"
    }
   ],
   "source": [
    "categories = np.random.choice(['A', 'B', 'C'], size=15)\n",
    "values = np.random.randint(1, 10, size=(15))\n",
    "\n",
    "data = {\n",
    "    'Category': categories,\n",
    "    'Value': values\n",
    "}\n",
    "\n",
    "df = pd.DataFrame(data)\n",
    "print(df)\n",
    "\n",
    "df.groupby('Category')['Value'].sum()\n"
   ]
  },
  {
   "cell_type": "markdown",
   "id": "7f92cc52",
   "metadata": {},
   "source": [
    "2. Create a Pandas DataFrame with 3 columns: 'Product', 'Category', and 'Sales'. Fill the DataFrame with random data. Group the DataFrame by 'Category' and compute the total sales for each category."
   ]
  },
  {
   "cell_type": "code",
   "execution_count": 96,
   "id": "d6350f69",
   "metadata": {},
   "outputs": [
    {
     "name": "stdout",
     "output_type": "stream",
     "text": [
      "     Product Category  Sale\n",
      "0   Magazine        A    16\n",
      "1      Radio        B    15\n",
      "2      Phone        A    13\n",
      "3      Phone        B    14\n",
      "4   Magazine        B    12\n",
      "5      Phone        A    18\n",
      "6      Phone        A    10\n",
      "7      Phone        B    10\n",
      "8   Magazine        C    18\n",
      "9   Magazine        A    18\n",
      "10     Radio        C    16\n",
      "11     Radio        B    10\n",
      "12  Magazine        B    16\n",
      "13     Radio        B    15\n",
      "14     Radio        C    15\n"
     ]
    },
    {
     "data": {
      "text/plain": [
       "Category\n",
       "A    75\n",
       "B    92\n",
       "C    49\n",
       "Name: Sale, dtype: int32"
      ]
     },
     "execution_count": 96,
     "metadata": {},
     "output_type": "execute_result"
    }
   ],
   "source": [
    "categories = np.random.choice(['A', 'B', 'C'], size=15)\n",
    "products = np.random.choice(['Phone', 'Magazine', 'Radio'], size=15)\n",
    "sales = np.random.randint(10, 20, size=15)\n",
    "\n",
    "data = {\n",
    "    'Product': products,\n",
    "    'Category': categories,\n",
    "    'Sale': sales\n",
    "}\n",
    "\n",
    "df = pd.DataFrame(data)\n",
    "print(df)\n",
    "\n",
    "df.groupby('Category')['Sale'].sum()"
   ]
  },
  {
   "cell_type": "markdown",
   "id": "d925a5f3",
   "metadata": {},
   "source": [
    "### Assignment 5: Merging DataFrames\n",
    "\n",
    "1. Create two Pandas DataFrames with a common column. Merge the DataFrames using the common column."
   ]
  },
  {
   "cell_type": "code",
   "execution_count": 97,
   "id": "2db9f852",
   "metadata": {},
   "outputs": [
    {
     "data": {
      "text/html": [
       "<div>\n",
       "<style scoped>\n",
       "    .dataframe tbody tr th:only-of-type {\n",
       "        vertical-align: middle;\n",
       "    }\n",
       "\n",
       "    .dataframe tbody tr th {\n",
       "        vertical-align: top;\n",
       "    }\n",
       "\n",
       "    .dataframe thead th {\n",
       "        text-align: right;\n",
       "    }\n",
       "</style>\n",
       "<table border=\"1\" class=\"dataframe\">\n",
       "  <thead>\n",
       "    <tr style=\"text-align: right;\">\n",
       "      <th></th>\n",
       "      <th>Name</th>\n",
       "      <th>Math</th>\n",
       "      <th>Science</th>\n",
       "    </tr>\n",
       "  </thead>\n",
       "  <tbody>\n",
       "    <tr>\n",
       "      <th>0</th>\n",
       "      <td>Ram</td>\n",
       "      <td>80</td>\n",
       "      <td>80</td>\n",
       "    </tr>\n",
       "    <tr>\n",
       "      <th>1</th>\n",
       "      <td>John</td>\n",
       "      <td>85</td>\n",
       "      <td>66</td>\n",
       "    </tr>\n",
       "    <tr>\n",
       "      <th>2</th>\n",
       "      <td>Derek</td>\n",
       "      <td>75</td>\n",
       "      <td>23</td>\n",
       "    </tr>\n",
       "  </tbody>\n",
       "</table>\n",
       "</div>"
      ],
      "text/plain": [
       "    Name  Math  Science\n",
       "0    Ram    80       80\n",
       "1   John    85       66\n",
       "2  Derek    75       23"
      ]
     },
     "execution_count": 97,
     "metadata": {},
     "output_type": "execute_result"
    }
   ],
   "source": [
    "math = pd.DataFrame({'Name': ['Ram', 'John', 'Derek'], 'Math': [80, 85, 75]})\n",
    "science = pd.DataFrame({'Name': ['Ram', 'John', 'Derek'], 'Science': [80, 66, 23]})\n",
    "\n",
    "merged_df = math.merge(science, on='Name')\n",
    "merged_df\n"
   ]
  },
  {
   "cell_type": "markdown",
   "id": "71cd273c",
   "metadata": {},
   "source": [
    "2. Create two Pandas DataFrames with different columns. Concatenate the DataFrames along the rows and along the columns."
   ]
  },
  {
   "cell_type": "code",
   "execution_count": 101,
   "id": "9e3df5a9",
   "metadata": {},
   "outputs": [
    {
     "name": "stdout",
     "output_type": "stream",
     "text": [
      "    Name  Math Last Name  Science\n",
      "0    Ram  80.0       NaN      NaN\n",
      "1   John  85.0       NaN      NaN\n",
      "2  Derek  75.0       NaN      NaN\n",
      "0    NaN   NaN       Ram     80.0\n",
      "1    NaN   NaN      John     66.0\n",
      "2    NaN   NaN     Derek     23.0\n",
      "    Name  Math Last Name  Science\n",
      "0    Ram    80       Ram       80\n",
      "1   John    85      John       66\n",
      "2  Derek    75     Derek       23\n"
     ]
    }
   ],
   "source": [
    "math = pd.DataFrame({'Name': ['Ram', 'John', 'Derek'], 'Math': [80, 85, 75]})\n",
    "science = pd.DataFrame({'Last Name': ['Ram', 'John', 'Derek'], 'Science': [80, 66, 23]})\n",
    "\n",
    "row_wise_concat = pd.concat([math, science], axis = 0)\n",
    "print(row_wise_concat)\n",
    "\n",
    "column_wise_concat = pd.concat([math, science], axis = 1)\n",
    "print(column_wise_concat)"
   ]
  },
  {
   "cell_type": "markdown",
   "id": "5fa26f64",
   "metadata": {},
   "source": [
    "### Assignment 6: Time Series Analysis\n",
    "\n",
    "1. Create a Pandas DataFrame with a datetime index and one column filled with random integers. Resample the DataFrame to compute the monthly mean of the values.\n"
   ]
  },
  {
   "cell_type": "code",
   "execution_count": 102,
   "id": "f97bbc5a",
   "metadata": {},
   "outputs": [
    {
     "name": "stdout",
     "output_type": "stream",
     "text": [
      "                 data\n",
      "date                 \n",
      "2025-01-31  60.774194\n",
      "2025-02-28  43.392857\n",
      "2025-03-31  43.322581\n"
     ]
    }
   ],
   "source": [
    "date_range = pd.date_range(start='2025-01-01', end='2025-03-31', freq='D')\n",
    "\n",
    "df = pd.DataFrame(date_range, columns=['date'])\n",
    "\n",
    "df['data'] = np.random.randint(1, 100, size=len(date_range))\n",
    "df.set_index('date', inplace=True)\n",
    "\n",
    "monthly_mean = df.resample('ME').mean()\n",
    "print(monthly_mean)"
   ]
  },
  {
   "cell_type": "markdown",
   "id": "c7284572",
   "metadata": {},
   "source": [
    "2. Create a Pandas DataFrame with a datetime index ranging from '2021-01-01' to '2021-12-31' and one column filled with random integers. Compute the rolling mean with a window of 7 days."
   ]
  },
  {
   "cell_type": "code",
   "execution_count": 3,
   "id": "42e3e78a",
   "metadata": {},
   "outputs": [
    {
     "name": "stdout",
     "output_type": "stream",
     "text": [
      "            data\n",
      "date            \n",
      "2021-01-01    25\n",
      "2021-01-02    57\n",
      "2021-01-03    34\n",
      "2021-01-04     7\n",
      "2021-01-05    22\n",
      "...          ...\n",
      "2021-12-27    34\n",
      "2021-12-28    28\n",
      "2021-12-29    72\n",
      "2021-12-30     9\n",
      "2021-12-31     6\n",
      "\n",
      "[365 rows x 1 columns]\n",
      "                 data\n",
      "date                 \n",
      "2021-01-01        NaN\n",
      "2021-01-02        NaN\n",
      "2021-01-03        NaN\n",
      "2021-01-04        NaN\n",
      "2021-01-05        NaN\n",
      "...               ...\n",
      "2021-12-27  54.142857\n",
      "2021-12-28  56.285714\n",
      "2021-12-29  52.857143\n",
      "2021-12-30  50.142857\n",
      "2021-12-31  40.000000\n",
      "\n",
      "[365 rows x 1 columns]\n"
     ]
    }
   ],
   "source": [
    "\n",
    "import pandas as pd\n",
    "import numpy as np\n",
    "date_range = pd.date_range(start=\"2021-01-01\", end=\"2021-12-31\", freq=\"D\")\n",
    "\n",
    "df = pd.DataFrame(date_range, columns=['date'])\n",
    "\n",
    "df['data'] = np.random.randint(1, 100, size=len(date_range))\n",
    "df.set_index('date', inplace=True)\n",
    "print(df)\n",
    "\n",
    "print(df.rolling(window=7).mean())"
   ]
  },
  {
   "cell_type": "markdown",
   "id": "3208d7a0",
   "metadata": {},
   "source": [
    "### Assignment 7: MultiIndex DataFrame\n",
    "\n",
    "1. Create a Pandas DataFrame with a MultiIndex (hierarchical index). Perform some basic indexing and slicing operations on the MultiIndex DataFrame.\n"
   ]
  },
  {
   "cell_type": "code",
   "execution_count": 14,
   "id": "1d2b63b1",
   "metadata": {},
   "outputs": [
    {
     "name": "stdout",
     "output_type": "stream",
     "text": [
      "               Value1  Value2  Value3\n",
      "Product Price                        \n",
      "Phone   12000      33      52      88\n",
      "        10000      44      30      58\n",
      "TV      15000      60      82      58\n",
      "        7500       53      22      21\n",
      "\n",
      "       Value1  Value2  Value3\n",
      "Price                        \n",
      "12000      33      52      88\n",
      "10000      44      30      58\n",
      "\n",
      "Value1    33\n",
      "Value2    52\n",
      "Value3    88\n",
      "Name: (Phone, 12000), dtype: int32\n"
     ]
    }
   ],
   "source": [
    "array = [['Phone', 'Phone', 'TV', 'TV'], [12000, 10000, 15000, 7500]]\n",
    "index = pd.MultiIndex.from_arrays(array, names=('Product', 'Price'))\n",
    "df = pd.DataFrame(np.random.randint(1, 100, size=(4, 3)), index=index, columns=['Value1', 'Value2', 'Value3'])\n",
    "\n",
    "print(df)\n",
    "print()\n",
    "print(df.loc['Phone'])\n",
    "print()\n",
    "print(df.loc[('Phone', 12000)])"
   ]
  },
  {
   "cell_type": "markdown",
   "id": "94923fdf",
   "metadata": {},
   "source": [
    "2. Create a Pandas DataFrame with MultiIndex consisting of 'Category' and 'SubCategory'. Fill the DataFrame with random data and compute the sum of values for each 'Category' and 'SubCategory'."
   ]
  },
  {
   "cell_type": "code",
   "execution_count": 31,
   "id": "a99dab4f",
   "metadata": {},
   "outputs": [
    {
     "name": "stdout",
     "output_type": "stream",
     "text": [
      "                      Price 1  Price 2  Price 3\n",
      "Category SubCategory                           \n",
      "Phone    Brick              1        6       65\n",
      "         Smart             71       87       98\n",
      "TV       LCD               88       64        6\n",
      "         LED               93       41       88\n",
      "Phone    Brick             16       88        7\n",
      "          Price 1  Price 2  Price 3\n",
      "Category                           \n",
      "Phone          88      181      170\n",
      "TV            181      105       94\n",
      "                      Price 1  Price 2  Price 3\n",
      "Category SubCategory                           \n",
      "Phone    Brick             17       94       72\n",
      "         Smart             71       87       98\n",
      "TV       LCD               88       64        6\n",
      "         LED               93       41       88\n"
     ]
    }
   ],
   "source": [
    "array = [['Phone', 'Phone', 'TV', 'TV', 'Phone'], ['Brick', 'Smart', 'LCD', 'LED', 'Brick']]\n",
    "\n",
    "index = pd.MultiIndex.from_arrays(array, names=['Category', 'SubCategory'])\n",
    "\n",
    "df = pd.DataFrame(np.random.randint(1, 100, size=(5, 3)), index=index, columns=['Price 1', 'Price 2', 'Price 3'])\n",
    "\n",
    "print(df)\n",
    "\n",
    "sum_values = df.groupby(['Category']).sum()\n",
    "print(sum_values)\n",
    "\n",
    "category_sum = df.groupby(['Category', 'SubCategory']).sum()\n",
    "print(category_sum)\n"
   ]
  },
  {
   "cell_type": "markdown",
   "id": "6a763236",
   "metadata": {},
   "source": [
    "### Assignment 8: Pivot Tables\n",
    "\n",
    "1. Create a Pandas DataFrame with columns 'Date', 'Category', and 'Value'. Create a pivot table to compute the sum of 'Value' for each 'Category' by 'Date'."
   ]
  },
  {
   "cell_type": "code",
   "execution_count": 38,
   "id": "2d4e6180",
   "metadata": {},
   "outputs": [
    {
     "data": {
      "text/html": [
       "<div>\n",
       "<style scoped>\n",
       "    .dataframe tbody tr th:only-of-type {\n",
       "        vertical-align: middle;\n",
       "    }\n",
       "\n",
       "    .dataframe tbody tr th {\n",
       "        vertical-align: top;\n",
       "    }\n",
       "\n",
       "    .dataframe thead th {\n",
       "        text-align: right;\n",
       "    }\n",
       "</style>\n",
       "<table border=\"1\" class=\"dataframe\">\n",
       "  <thead>\n",
       "    <tr style=\"text-align: right;\">\n",
       "      <th>Category</th>\n",
       "      <th>Clothes</th>\n",
       "      <th>Electronics</th>\n",
       "    </tr>\n",
       "    <tr>\n",
       "      <th>Date</th>\n",
       "      <th></th>\n",
       "      <th></th>\n",
       "    </tr>\n",
       "  </thead>\n",
       "  <tbody>\n",
       "    <tr>\n",
       "      <th>2025-01-01</th>\n",
       "      <td>NaN</td>\n",
       "      <td>90.0</td>\n",
       "    </tr>\n",
       "    <tr>\n",
       "      <th>2025-01-02</th>\n",
       "      <td>NaN</td>\n",
       "      <td>39.0</td>\n",
       "    </tr>\n",
       "    <tr>\n",
       "      <th>2025-01-03</th>\n",
       "      <td>NaN</td>\n",
       "      <td>98.0</td>\n",
       "    </tr>\n",
       "    <tr>\n",
       "      <th>2025-01-04</th>\n",
       "      <td>NaN</td>\n",
       "      <td>63.0</td>\n",
       "    </tr>\n",
       "    <tr>\n",
       "      <th>2025-01-05</th>\n",
       "      <td>NaN</td>\n",
       "      <td>87.0</td>\n",
       "    </tr>\n",
       "    <tr>\n",
       "      <th>2025-01-06</th>\n",
       "      <td>NaN</td>\n",
       "      <td>15.0</td>\n",
       "    </tr>\n",
       "    <tr>\n",
       "      <th>2025-01-07</th>\n",
       "      <td>55.0</td>\n",
       "      <td>NaN</td>\n",
       "    </tr>\n",
       "    <tr>\n",
       "      <th>2025-01-08</th>\n",
       "      <td>85.0</td>\n",
       "      <td>NaN</td>\n",
       "    </tr>\n",
       "    <tr>\n",
       "      <th>2025-01-09</th>\n",
       "      <td>66.0</td>\n",
       "      <td>NaN</td>\n",
       "    </tr>\n",
       "    <tr>\n",
       "      <th>2025-01-10</th>\n",
       "      <td>NaN</td>\n",
       "      <td>99.0</td>\n",
       "    </tr>\n",
       "    <tr>\n",
       "      <th>2025-01-11</th>\n",
       "      <td>91.0</td>\n",
       "      <td>NaN</td>\n",
       "    </tr>\n",
       "    <tr>\n",
       "      <th>2025-01-12</th>\n",
       "      <td>97.0</td>\n",
       "      <td>NaN</td>\n",
       "    </tr>\n",
       "    <tr>\n",
       "      <th>2025-01-13</th>\n",
       "      <td>NaN</td>\n",
       "      <td>27.0</td>\n",
       "    </tr>\n",
       "    <tr>\n",
       "      <th>2025-01-14</th>\n",
       "      <td>NaN</td>\n",
       "      <td>71.0</td>\n",
       "    </tr>\n",
       "    <tr>\n",
       "      <th>2025-01-15</th>\n",
       "      <td>59.0</td>\n",
       "      <td>NaN</td>\n",
       "    </tr>\n",
       "    <tr>\n",
       "      <th>2025-01-16</th>\n",
       "      <td>15.0</td>\n",
       "      <td>NaN</td>\n",
       "    </tr>\n",
       "    <tr>\n",
       "      <th>2025-01-17</th>\n",
       "      <td>NaN</td>\n",
       "      <td>21.0</td>\n",
       "    </tr>\n",
       "    <tr>\n",
       "      <th>2025-01-18</th>\n",
       "      <td>NaN</td>\n",
       "      <td>18.0</td>\n",
       "    </tr>\n",
       "    <tr>\n",
       "      <th>2025-01-19</th>\n",
       "      <td>NaN</td>\n",
       "      <td>62.0</td>\n",
       "    </tr>\n",
       "    <tr>\n",
       "      <th>2025-01-20</th>\n",
       "      <td>NaN</td>\n",
       "      <td>74.0</td>\n",
       "    </tr>\n",
       "    <tr>\n",
       "      <th>2025-01-21</th>\n",
       "      <td>NaN</td>\n",
       "      <td>84.0</td>\n",
       "    </tr>\n",
       "    <tr>\n",
       "      <th>2025-01-22</th>\n",
       "      <td>NaN</td>\n",
       "      <td>77.0</td>\n",
       "    </tr>\n",
       "    <tr>\n",
       "      <th>2025-01-23</th>\n",
       "      <td>NaN</td>\n",
       "      <td>27.0</td>\n",
       "    </tr>\n",
       "    <tr>\n",
       "      <th>2025-01-24</th>\n",
       "      <td>NaN</td>\n",
       "      <td>51.0</td>\n",
       "    </tr>\n",
       "    <tr>\n",
       "      <th>2025-01-25</th>\n",
       "      <td>NaN</td>\n",
       "      <td>29.0</td>\n",
       "    </tr>\n",
       "    <tr>\n",
       "      <th>2025-01-26</th>\n",
       "      <td>42.0</td>\n",
       "      <td>NaN</td>\n",
       "    </tr>\n",
       "    <tr>\n",
       "      <th>2025-01-27</th>\n",
       "      <td>NaN</td>\n",
       "      <td>39.0</td>\n",
       "    </tr>\n",
       "    <tr>\n",
       "      <th>2025-01-28</th>\n",
       "      <td>NaN</td>\n",
       "      <td>88.0</td>\n",
       "    </tr>\n",
       "    <tr>\n",
       "      <th>2025-01-29</th>\n",
       "      <td>13.0</td>\n",
       "      <td>NaN</td>\n",
       "    </tr>\n",
       "    <tr>\n",
       "      <th>2025-01-30</th>\n",
       "      <td>NaN</td>\n",
       "      <td>35.0</td>\n",
       "    </tr>\n",
       "  </tbody>\n",
       "</table>\n",
       "</div>"
      ],
      "text/plain": [
       "Category    Clothes  Electronics\n",
       "Date                            \n",
       "2025-01-01      NaN         90.0\n",
       "2025-01-02      NaN         39.0\n",
       "2025-01-03      NaN         98.0\n",
       "2025-01-04      NaN         63.0\n",
       "2025-01-05      NaN         87.0\n",
       "2025-01-06      NaN         15.0\n",
       "2025-01-07     55.0          NaN\n",
       "2025-01-08     85.0          NaN\n",
       "2025-01-09     66.0          NaN\n",
       "2025-01-10      NaN         99.0\n",
       "2025-01-11     91.0          NaN\n",
       "2025-01-12     97.0          NaN\n",
       "2025-01-13      NaN         27.0\n",
       "2025-01-14      NaN         71.0\n",
       "2025-01-15     59.0          NaN\n",
       "2025-01-16     15.0          NaN\n",
       "2025-01-17      NaN         21.0\n",
       "2025-01-18      NaN         18.0\n",
       "2025-01-19      NaN         62.0\n",
       "2025-01-20      NaN         74.0\n",
       "2025-01-21      NaN         84.0\n",
       "2025-01-22      NaN         77.0\n",
       "2025-01-23      NaN         27.0\n",
       "2025-01-24      NaN         51.0\n",
       "2025-01-25      NaN         29.0\n",
       "2025-01-26     42.0          NaN\n",
       "2025-01-27      NaN         39.0\n",
       "2025-01-28      NaN         88.0\n",
       "2025-01-29     13.0          NaN\n",
       "2025-01-30      NaN         35.0"
      ]
     },
     "execution_count": 38,
     "metadata": {},
     "output_type": "execute_result"
    }
   ],
   "source": [
    "date_range = pd.date_range(start=\"2025-01-01\", end=\"2025-01-30\", freq=\"D\")\n",
    "categories = np.random.choice(['Electronics', 'Clothes'], size=30)\n",
    "values = np.random.randint(10, 100, size=30)\n",
    "\n",
    "data = {\n",
    "    'Date': date_range,\n",
    "    'Category': categories,\n",
    "    'Value': values\n",
    "}\n",
    "df = pd.DataFrame(data)\n",
    "\n",
    "pivot_table = df.pivot_table(values='Value', index='Date', columns='Category', aggfunc='sum')\n",
    "pivot_table\n"
   ]
  },
  {
   "cell_type": "markdown",
   "id": "d4545c76",
   "metadata": {},
   "source": [
    "2. Create a Pandas DataFrame with columns 'Year', 'Quarter', and 'Revenue'. Create a pivot table to compute the mean 'Revenue' for each 'Quarter' by 'Year'."
   ]
  },
  {
   "cell_type": "code",
   "execution_count": 51,
   "id": "efba96fa",
   "metadata": {},
   "outputs": [
    {
     "data": {
      "text/html": [
       "<div>\n",
       "<style scoped>\n",
       "    .dataframe tbody tr th:only-of-type {\n",
       "        vertical-align: middle;\n",
       "    }\n",
       "\n",
       "    .dataframe tbody tr th {\n",
       "        vertical-align: top;\n",
       "    }\n",
       "\n",
       "    .dataframe thead th {\n",
       "        text-align: right;\n",
       "    }\n",
       "</style>\n",
       "<table border=\"1\" class=\"dataframe\">\n",
       "  <thead>\n",
       "    <tr style=\"text-align: right;\">\n",
       "      <th>Quarter</th>\n",
       "      <th>Q1</th>\n",
       "      <th>Q2</th>\n",
       "      <th>Q3</th>\n",
       "      <th>Q4</th>\n",
       "    </tr>\n",
       "    <tr>\n",
       "      <th>Year</th>\n",
       "      <th></th>\n",
       "      <th></th>\n",
       "      <th></th>\n",
       "      <th></th>\n",
       "    </tr>\n",
       "  </thead>\n",
       "  <tbody>\n",
       "    <tr>\n",
       "      <th>2000</th>\n",
       "      <td>92.0</td>\n",
       "      <td>90.0</td>\n",
       "      <td>61.0</td>\n",
       "      <td>53.0</td>\n",
       "    </tr>\n",
       "    <tr>\n",
       "      <th>2001</th>\n",
       "      <td>18.0</td>\n",
       "      <td>83.0</td>\n",
       "      <td>23.0</td>\n",
       "      <td>52.0</td>\n",
       "    </tr>\n",
       "    <tr>\n",
       "      <th>2002</th>\n",
       "      <td>96.0</td>\n",
       "      <td>25.0</td>\n",
       "      <td>34.0</td>\n",
       "      <td>29.0</td>\n",
       "    </tr>\n",
       "    <tr>\n",
       "      <th>2003</th>\n",
       "      <td>45.0</td>\n",
       "      <td>36.0</td>\n",
       "      <td>63.0</td>\n",
       "      <td>60.0</td>\n",
       "    </tr>\n",
       "    <tr>\n",
       "      <th>2004</th>\n",
       "      <td>75.0</td>\n",
       "      <td>31.0</td>\n",
       "      <td>69.0</td>\n",
       "      <td>59.0</td>\n",
       "    </tr>\n",
       "    <tr>\n",
       "      <th>2005</th>\n",
       "      <td>98.0</td>\n",
       "      <td>70.0</td>\n",
       "      <td>96.0</td>\n",
       "      <td>34.0</td>\n",
       "    </tr>\n",
       "    <tr>\n",
       "      <th>2006</th>\n",
       "      <td>27.0</td>\n",
       "      <td>41.0</td>\n",
       "      <td>43.0</td>\n",
       "      <td>58.0</td>\n",
       "    </tr>\n",
       "    <tr>\n",
       "      <th>2007</th>\n",
       "      <td>47.0</td>\n",
       "      <td>90.0</td>\n",
       "      <td>53.0</td>\n",
       "      <td>10.0</td>\n",
       "    </tr>\n",
       "    <tr>\n",
       "      <th>2008</th>\n",
       "      <td>15.0</td>\n",
       "      <td>30.0</td>\n",
       "      <td>93.0</td>\n",
       "      <td>68.0</td>\n",
       "    </tr>\n",
       "    <tr>\n",
       "      <th>2009</th>\n",
       "      <td>35.0</td>\n",
       "      <td>99.0</td>\n",
       "      <td>16.0</td>\n",
       "      <td>98.0</td>\n",
       "    </tr>\n",
       "    <tr>\n",
       "      <th>2010</th>\n",
       "      <td>38.0</td>\n",
       "      <td>31.0</td>\n",
       "      <td>58.0</td>\n",
       "      <td>34.0</td>\n",
       "    </tr>\n",
       "    <tr>\n",
       "      <th>2011</th>\n",
       "      <td>47.0</td>\n",
       "      <td>27.0</td>\n",
       "      <td>71.0</td>\n",
       "      <td>16.0</td>\n",
       "    </tr>\n",
       "    <tr>\n",
       "      <th>2012</th>\n",
       "      <td>76.0</td>\n",
       "      <td>56.0</td>\n",
       "      <td>98.0</td>\n",
       "      <td>63.0</td>\n",
       "    </tr>\n",
       "    <tr>\n",
       "      <th>2013</th>\n",
       "      <td>43.0</td>\n",
       "      <td>12.0</td>\n",
       "      <td>91.0</td>\n",
       "      <td>97.0</td>\n",
       "    </tr>\n",
       "    <tr>\n",
       "      <th>2014</th>\n",
       "      <td>32.0</td>\n",
       "      <td>54.0</td>\n",
       "      <td>52.0</td>\n",
       "      <td>86.0</td>\n",
       "    </tr>\n",
       "    <tr>\n",
       "      <th>2015</th>\n",
       "      <td>83.0</td>\n",
       "      <td>58.0</td>\n",
       "      <td>95.0</td>\n",
       "      <td>27.0</td>\n",
       "    </tr>\n",
       "    <tr>\n",
       "      <th>2016</th>\n",
       "      <td>24.0</td>\n",
       "      <td>25.0</td>\n",
       "      <td>95.0</td>\n",
       "      <td>17.0</td>\n",
       "    </tr>\n",
       "    <tr>\n",
       "      <th>2017</th>\n",
       "      <td>66.0</td>\n",
       "      <td>13.0</td>\n",
       "      <td>60.0</td>\n",
       "      <td>35.0</td>\n",
       "    </tr>\n",
       "    <tr>\n",
       "      <th>2018</th>\n",
       "      <td>25.0</td>\n",
       "      <td>35.0</td>\n",
       "      <td>46.0</td>\n",
       "      <td>61.0</td>\n",
       "    </tr>\n",
       "    <tr>\n",
       "      <th>2019</th>\n",
       "      <td>94.0</td>\n",
       "      <td>64.0</td>\n",
       "      <td>31.0</td>\n",
       "      <td>99.0</td>\n",
       "    </tr>\n",
       "    <tr>\n",
       "      <th>2020</th>\n",
       "      <td>49.0</td>\n",
       "      <td>68.0</td>\n",
       "      <td>11.0</td>\n",
       "      <td>12.0</td>\n",
       "    </tr>\n",
       "    <tr>\n",
       "      <th>2021</th>\n",
       "      <td>87.0</td>\n",
       "      <td>21.0</td>\n",
       "      <td>65.0</td>\n",
       "      <td>92.0</td>\n",
       "    </tr>\n",
       "    <tr>\n",
       "      <th>2022</th>\n",
       "      <td>17.0</td>\n",
       "      <td>30.0</td>\n",
       "      <td>88.0</td>\n",
       "      <td>18.0</td>\n",
       "    </tr>\n",
       "    <tr>\n",
       "      <th>2023</th>\n",
       "      <td>32.0</td>\n",
       "      <td>16.0</td>\n",
       "      <td>68.0</td>\n",
       "      <td>71.0</td>\n",
       "    </tr>\n",
       "    <tr>\n",
       "      <th>2024</th>\n",
       "      <td>78.0</td>\n",
       "      <td>65.0</td>\n",
       "      <td>28.0</td>\n",
       "      <td>28.0</td>\n",
       "    </tr>\n",
       "  </tbody>\n",
       "</table>\n",
       "</div>"
      ],
      "text/plain": [
       "Quarter    Q1    Q2    Q3    Q4\n",
       "Year                           \n",
       "2000     92.0  90.0  61.0  53.0\n",
       "2001     18.0  83.0  23.0  52.0\n",
       "2002     96.0  25.0  34.0  29.0\n",
       "2003     45.0  36.0  63.0  60.0\n",
       "2004     75.0  31.0  69.0  59.0\n",
       "2005     98.0  70.0  96.0  34.0\n",
       "2006     27.0  41.0  43.0  58.0\n",
       "2007     47.0  90.0  53.0  10.0\n",
       "2008     15.0  30.0  93.0  68.0\n",
       "2009     35.0  99.0  16.0  98.0\n",
       "2010     38.0  31.0  58.0  34.0\n",
       "2011     47.0  27.0  71.0  16.0\n",
       "2012     76.0  56.0  98.0  63.0\n",
       "2013     43.0  12.0  91.0  97.0\n",
       "2014     32.0  54.0  52.0  86.0\n",
       "2015     83.0  58.0  95.0  27.0\n",
       "2016     24.0  25.0  95.0  17.0\n",
       "2017     66.0  13.0  60.0  35.0\n",
       "2018     25.0  35.0  46.0  61.0\n",
       "2019     94.0  64.0  31.0  99.0\n",
       "2020     49.0  68.0  11.0  12.0\n",
       "2021     87.0  21.0  65.0  92.0\n",
       "2022     17.0  30.0  88.0  18.0\n",
       "2023     32.0  16.0  68.0  71.0\n",
       "2024     78.0  65.0  28.0  28.0"
      ]
     },
     "execution_count": 51,
     "metadata": {},
     "output_type": "execute_result"
    }
   ],
   "source": [
    "years = np.arange(2000, 2025)            # Years from 2000 to 2024\n",
    "year_quarters = np.repeat(years, 4) \n",
    "quarter = np.tile(['Q1', 'Q2', 'Q3', 'Q4'], 25)\n",
    "revenue = np.random.randint(10, 100, size=100)\n",
    "\n",
    "data = {\n",
    "    'Year': year_quarters,\n",
    "    'Quarter': quarter,\n",
    "    'Revenue': revenue\n",
    "}\n",
    "\n",
    "df = pd.DataFrame(data)\n",
    "\n",
    "pivoted_table = df.pivot_table(values='Revenue', columns='Quarter', index='Year', aggfunc='mean')\n",
    "\n",
    "pivoted_table"
   ]
  },
  {
   "cell_type": "markdown",
   "id": "993cc776",
   "metadata": {},
   "source": [
    "### Assignment 9: Applying Functions\n",
    "\n",
    "1. Create a Pandas DataFrame with 3 columns and 5 rows filled with random integers. Apply a function that doubles the values of the DataFrame."
   ]
  },
  {
   "cell_type": "code",
   "execution_count": 54,
   "id": "d0a7cbfb",
   "metadata": {},
   "outputs": [
    {
     "name": "stdout",
     "output_type": "stream",
     "text": [
      "   0  1  2\n",
      "0  5  2  2\n",
      "1  6  9  5\n",
      "2  4  3  1\n",
      "3  8  5  2\n",
      "4  3  7  6\n",
      "    0   1   2\n",
      "0  10   4   4\n",
      "1  12  18  10\n",
      "2   8   6   2\n",
      "3  16  10   4\n",
      "4   6  14  12\n"
     ]
    }
   ],
   "source": [
    "df= pd.DataFrame(np.random.randint(1, 10, size=(5, 3)))\n",
    "print(df)\n",
    "\n",
    "double_df = df.apply(lambda x: x * 2)\n",
    "print(double_df)"
   ]
  },
  {
   "cell_type": "markdown",
   "id": "1b04a17a",
   "metadata": {},
   "source": [
    "2. Create a Pandas DataFrame with 3 columns and 6 rows filled with random integers. Apply a lambda function to create a new column that is the sum of the existing columns."
   ]
  },
  {
   "cell_type": "code",
   "execution_count": 62,
   "id": "7783c46f",
   "metadata": {},
   "outputs": [
    {
     "data": {
      "text/html": [
       "<div>\n",
       "<style scoped>\n",
       "    .dataframe tbody tr th:only-of-type {\n",
       "        vertical-align: middle;\n",
       "    }\n",
       "\n",
       "    .dataframe tbody tr th {\n",
       "        vertical-align: top;\n",
       "    }\n",
       "\n",
       "    .dataframe thead th {\n",
       "        text-align: right;\n",
       "    }\n",
       "</style>\n",
       "<table border=\"1\" class=\"dataframe\">\n",
       "  <thead>\n",
       "    <tr style=\"text-align: right;\">\n",
       "      <th></th>\n",
       "      <th>0</th>\n",
       "      <th>1</th>\n",
       "      <th>2</th>\n",
       "      <th>total</th>\n",
       "    </tr>\n",
       "  </thead>\n",
       "  <tbody>\n",
       "    <tr>\n",
       "      <th>0</th>\n",
       "      <td>8</td>\n",
       "      <td>2</td>\n",
       "      <td>6</td>\n",
       "      <td>16</td>\n",
       "    </tr>\n",
       "    <tr>\n",
       "      <th>1</th>\n",
       "      <td>7</td>\n",
       "      <td>2</td>\n",
       "      <td>6</td>\n",
       "      <td>15</td>\n",
       "    </tr>\n",
       "    <tr>\n",
       "      <th>2</th>\n",
       "      <td>3</td>\n",
       "      <td>7</td>\n",
       "      <td>1</td>\n",
       "      <td>11</td>\n",
       "    </tr>\n",
       "    <tr>\n",
       "      <th>3</th>\n",
       "      <td>3</td>\n",
       "      <td>7</td>\n",
       "      <td>8</td>\n",
       "      <td>18</td>\n",
       "    </tr>\n",
       "    <tr>\n",
       "      <th>4</th>\n",
       "      <td>1</td>\n",
       "      <td>8</td>\n",
       "      <td>9</td>\n",
       "      <td>18</td>\n",
       "    </tr>\n",
       "    <tr>\n",
       "      <th>5</th>\n",
       "      <td>7</td>\n",
       "      <td>8</td>\n",
       "      <td>4</td>\n",
       "      <td>19</td>\n",
       "    </tr>\n",
       "  </tbody>\n",
       "</table>\n",
       "</div>"
      ],
      "text/plain": [
       "   0  1  2  total\n",
       "0  8  2  6     16\n",
       "1  7  2  6     15\n",
       "2  3  7  1     11\n",
       "3  3  7  8     18\n",
       "4  1  8  9     18\n",
       "5  7  8  4     19"
      ]
     },
     "execution_count": 62,
     "metadata": {},
     "output_type": "execute_result"
    }
   ],
   "source": [
    "df = pd.DataFrame(np.random.randint(1, 10, size=(6, 3)))\n",
    "\n",
    "df['total'] = df.apply(lambda row: row[0] + row[1] + row[2], axis = 1)\n",
    "df"
   ]
  },
  {
   "cell_type": "markdown",
   "id": "ce61a3c1",
   "metadata": {},
   "source": [
    "### Assignment 10: Working with Text Data\n",
    "\n",
    "1. Create a Pandas Series with 5 random text strings. Convert all the strings to uppercase.\n"
   ]
  },
  {
   "cell_type": "code",
   "execution_count": 65,
   "id": "1bba79ce",
   "metadata": {},
   "outputs": [
    {
     "data": {
      "text/plain": [
       "0    APPLE\n",
       "1    APPLE\n",
       "2     BALL\n",
       "3      DOG\n",
       "4    APPLE\n",
       "dtype: object"
      ]
     },
     "execution_count": 65,
     "metadata": {},
     "output_type": "execute_result"
    }
   ],
   "source": [
    "ps = pd.Series(np.random.choice(['Apple', 'Ball', 'Cat', 'Dog', 'Egg', 'Fish'], size=5))\n",
    "upper_ps = ps.apply(lambda string: string.upper())\n",
    "upper_ps"
   ]
  },
  {
   "cell_type": "markdown",
   "id": "311a12d9",
   "metadata": {},
   "source": [
    "2. Create a Pandas Series with 5 random text strings. Extract the first three characters of each string."
   ]
  },
  {
   "cell_type": "code",
   "execution_count": 67,
   "id": "e0ab124e",
   "metadata": {},
   "outputs": [
    {
     "data": {
      "text/plain": [
       "0    Egg\n",
       "1    Bal\n",
       "2    App\n",
       "3    Egg\n",
       "4    Egg\n",
       "dtype: object"
      ]
     },
     "execution_count": 67,
     "metadata": {},
     "output_type": "execute_result"
    }
   ],
   "source": [
    "ps = pd.Series(np.random.choice(['Apple', 'Ball', 'Cat', 'Dog', 'Egg', 'Fish'], size=5))\n",
    "\n",
    "extracted_ps = ps.apply(lambda x: x[:3])\n",
    "extracted_ps"
   ]
  }
 ],
 "metadata": {
  "kernelspec": {
   "display_name": "Complete-Python-Bootcamp",
   "language": "python",
   "name": "python3"
  },
  "language_info": {
   "codemirror_mode": {
    "name": "ipython",
    "version": 3
   },
   "file_extension": ".py",
   "mimetype": "text/x-python",
   "name": "python",
   "nbconvert_exporter": "python",
   "pygments_lexer": "ipython3",
   "version": "3.12.6"
  }
 },
 "nbformat": 4,
 "nbformat_minor": 5
}
