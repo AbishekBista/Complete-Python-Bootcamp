{
 "cells": [
  {
   "cell_type": "markdown",
   "id": "e42cd0c9",
   "metadata": {},
   "source": [
    "# Module: NumPy Assignments\n",
    "## Lesson: NumPy\n",
    "### Assignment 1: Array Creation and Manipulation\n",
    "\n",
    "1. Create a NumPy array of shape (5, 5) filled with random integers between 1 and 20. Replace all the elements in the third column with 1.\n",
    "2. Create a NumPy array of shape (4, 4) with values from 1 to 16. Replace the diagonal elements with 0."
   ]
  },
  {
   "cell_type": "code",
   "execution_count": 15,
   "id": "50b5818c",
   "metadata": {},
   "outputs": [
    {
     "name": "stdout",
     "output_type": "stream",
     "text": [
      "[[13 19  1  6 11]\n",
      " [20  7  1 16  1]\n",
      " [13 16  1  2 11]\n",
      " [15  1  1  4  2]\n",
      " [11  2  1 10  6]]\n",
      "\n",
      "[[ 0  2  3  4]\n",
      " [ 5  0  7  8]\n",
      " [ 9 10  0 12]\n",
      " [13 14 15  0]]\n"
     ]
    }
   ],
   "source": [
    "import numpy as np\n",
    "arr = np.random.randint(1, 21, size=(5, 5))\n",
    "arr[:, 2] = 1\n",
    "print(arr )\n",
    "\n",
    "print()\n",
    "\n",
    "arr2 = np.arange(1, 17).reshape((4, 4))\n",
    "np.fill_diagonal(arr2, 0)\n",
    "print(arr2)"
   ]
  },
  {
   "cell_type": "markdown",
   "id": "4c11248a",
   "metadata": {},
   "source": [
    "### Assignment 2: Array Indexing and Slicing\n",
    "\n",
    "1. Create a NumPy array of shape (6, 6) with values from 1 to 36. Extract the sub-array consisting of the 3rd to 5th rows and 2nd to 4th columns.\n",
    "2. Create a NumPy array of shape (5, 5) with random integers. Extract the elements on the border."
   ]
  },
  {
   "cell_type": "code",
   "execution_count": 25,
   "id": "c7b4d3ba",
   "metadata": {},
   "outputs": [
    {
     "name": "stdout",
     "output_type": "stream",
     "text": [
      "[[14 15 16]\n",
      " [20 21 22]\n",
      " [26 27 28]\n",
      " [32 33 34]]\n",
      "\n",
      "[[70 23 71 97 69]\n",
      " [20 30  5 52 91]\n",
      " [33 89 40 58 72]\n",
      " [34 65 75 70 88]\n",
      " [14 99 35 43  8]]\n",
      "[70 23 71 97 69 14 99 35 43  8 20 33 34 91 72 88]\n"
     ]
    }
   ],
   "source": [
    "six_by_six = np.arange(1, 37).reshape((6, 6))\n",
    "extracted_arr = six_by_six[2:6, 1:4]\n",
    "print(extracted_arr)\n",
    "\n",
    "print()\n",
    "\n",
    "new_array = np.random.randint(1, 100, size=(5, 5))\n",
    "print(new_array)\n",
    "\n",
    "border_elements = np.concatenate((new_array[0, :], new_array[-1, :], new_array[1:-1, 0], new_array[1:-1, -1]))\n",
    "print(border_elements)"
   ]
  },
  {
   "cell_type": "markdown",
   "id": "bff1acc3",
   "metadata": {},
   "source": [
    "### Assignment 3: Array Operations\n",
    "\n",
    "1. Create two NumPy arrays of shape (3, 4) filled with random integers. Perform element-wise addition, subtraction, multiplication, and division.\n"
   ]
  },
  {
   "cell_type": "code",
   "execution_count": 31,
   "id": "462838ae",
   "metadata": {},
   "outputs": [
    {
     "name": "stdout",
     "output_type": "stream",
     "text": [
      "Array 1: \n",
      "\n",
      "[[7 2 1 8]\n",
      " [1 7 6 8]\n",
      " [1 6 9 6]]\n",
      "\n",
      "Array 2: \n",
      "\n",
      "[[4 1 5 2]\n",
      " [8 8 4 5]\n",
      " [9 3 1 3]]\n",
      "\n",
      "Sum\n",
      "[[11  3  6 10]\n",
      " [ 9 15 10 13]\n",
      " [10  9 10  9]]\n",
      "\n",
      "\n",
      "Difference\n",
      "[[ 3  1 -4  6]\n",
      " [-7 -1  2  3]\n",
      " [-8  3  8  3]]\n",
      "\n",
      "\n",
      "Product\n",
      "[[28  2  5 16]\n",
      " [ 8 56 24 40]\n",
      " [ 9 18  9 18]]\n",
      "\n",
      "\n",
      "Division\n",
      "[[1.75       2.         0.2        4.        ]\n",
      " [0.125      0.875      1.5        1.6       ]\n",
      " [0.11111111 2.         9.         2.        ]]\n"
     ]
    }
   ],
   "source": [
    "arr1 = np.random.randint(1, 10, size=(3, 4))\n",
    "arr2 = np.random.randint(1, 10, size=(3, 4))\n",
    "\n",
    "print(\"Array 1: \\n\")\n",
    "print(arr1)\n",
    "\n",
    "print(\"\\nArray 2: \\n\")\n",
    "print(arr2)\n",
    "\n",
    "print(\"\\nSum\")\n",
    "sum = arr1 + arr2\n",
    "print(sum)\n",
    "print()\n",
    "\n",
    "print(\"\\nDifference\")\n",
    "diff = arr1 - arr2\n",
    "print(diff)\n",
    "print()\n",
    "\n",
    "print(\"\\nProduct\")\n",
    "prod = arr1 * arr2\n",
    "print(prod)\n",
    "print()\n",
    "\n",
    "print(\"\\nDivision\")\n",
    "div = arr1 / arr2\n",
    "print(div)"
   ]
  },
  {
   "cell_type": "markdown",
   "id": "0e357c4b",
   "metadata": {},
   "source": [
    "2. Create a NumPy array of shape (4, 4) with values from 1 to 16. Compute the row-wise and column-wise sum."
   ]
  },
  {
   "cell_type": "code",
   "execution_count": 38,
   "id": "daf42703",
   "metadata": {},
   "outputs": [
    {
     "name": "stdout",
     "output_type": "stream",
     "text": [
      "[[ 1  2  3  4]\n",
      " [ 5  6  7  8]\n",
      " [ 9 10 11 12]\n",
      " [13 14 15 16]]\n",
      "\n",
      "Row wise sum\n",
      "[10 26 42 58]\n",
      "\n",
      "Column wise sum\n",
      "[28 32 36 40]\n"
     ]
    }
   ],
   "source": [
    "arr = np.arange(1, 17).reshape((4, 4))\n",
    "print(arr)\n",
    "\n",
    "print(\"\\nRow wise sum\")\n",
    "print(arr.sum(axis = 1))\n",
    "\n",
    "print(\"\\nColumn wise sum\")\n",
    "print(arr.sum(axis = 0))"
   ]
  },
  {
   "cell_type": "markdown",
   "id": "46c759ef",
   "metadata": {},
   "source": [
    "### Assignment 4: Statistical Operations\n",
    "\n",
    "1. Create a NumPy array of shape (5, 5) filled with random integers. Compute the mean, median, standard deviation, and variance of the array.\n"
   ]
  },
  {
   "cell_type": "code",
   "execution_count": 41,
   "id": "a4464e1a",
   "metadata": {},
   "outputs": [
    {
     "name": "stdout",
     "output_type": "stream",
     "text": [
      "[[7 5 9 9 9]\n",
      " [6 4 5 7 3]\n",
      " [1 2 5 1 7]\n",
      " [1 2 2 8 9]\n",
      " [6 2 5 2 9]]\n",
      "\n",
      "Mean\n",
      "5.04\n",
      "\n",
      "Median\n",
      "5.0\n",
      "\n",
      "Standard Deviation\n",
      "2.835207223467096\n",
      "\n",
      "Variance\n",
      "8.0384\n"
     ]
    }
   ],
   "source": [
    "arr = np.random.randint(1, 10, size=(5, 5))\n",
    "print(arr)\n",
    "\n",
    "print(\"\\nMean\")\n",
    "print(np.mean(arr))\n",
    "\n",
    "print(\"\\nMedian\")\n",
    "print(np.median(arr))\n",
    "\n",
    "print(\"\\nStandard Deviation\")\n",
    "print(np.std(arr))\n",
    "\n",
    "print(\"\\nVariance\")\n",
    "print(np.var(arr))"
   ]
  },
  {
   "cell_type": "markdown",
   "id": "87ca2739",
   "metadata": {},
   "source": [
    "2. Create a NumPy array of shape (3, 3) with values from 1 to 9. Normalize the array (i.e., scale the values to have a mean of 0 and a standard deviation of 1)."
   ]
  },
  {
   "cell_type": "code",
   "execution_count": 42,
   "id": "9d92ba71",
   "metadata": {},
   "outputs": [
    {
     "name": "stdout",
     "output_type": "stream",
     "text": [
      "[[-1.54919334 -1.161895   -0.77459667]\n",
      " [-0.38729833  0.          0.38729833]\n",
      " [ 0.77459667  1.161895    1.54919334]]\n"
     ]
    }
   ],
   "source": [
    "arr = np.arange(1, 10).reshape((3, 3))\n",
    "\n",
    "mean = np.mean(arr)\n",
    "st_dev = np.std(arr)\n",
    "\n",
    "normalized_array = (arr - mean) / st_dev\n",
    "\n",
    "print(normalized_array)"
   ]
  },
  {
   "cell_type": "markdown",
   "id": "8c7ff1b5",
   "metadata": {},
   "source": [
    "### Assignment 5: Broadcasting\n",
    "\n",
    "1. Create a NumPy array of shape (3, 3) filled with random integers. Add a 1D array of shape (3,) to each row of the 2D array using broadcasting.\n"
   ]
  },
  {
   "cell_type": "code",
   "execution_count": 45,
   "id": "4ecbd47a",
   "metadata": {},
   "outputs": [
    {
     "name": "stdout",
     "output_type": "stream",
     "text": [
      "[[1 1 7]\n",
      " [3 3 2]\n",
      " [1 2 1]]\n",
      "[10  3  7]\n",
      "[[11  4 14]\n",
      " [13  6  9]\n",
      " [11  5  8]]\n"
     ]
    }
   ],
   "source": [
    "arr = np.random.randint(1, 11, size=(3, 3))\n",
    "print(arr)\n",
    "\n",
    "add = np.random.randint(1, 11, size=(3,))\n",
    "print(add)\n",
    "\n",
    "print(arr + add)"
   ]
  },
  {
   "cell_type": "markdown",
   "id": "57440ed3",
   "metadata": {},
   "source": [
    "2. Create a NumPy array of shape (4, 4) filled with random integers. Subtract a 1D array of shape (4,) from each column of the 2D array using broadcasting."
   ]
  },
  {
   "cell_type": "code",
   "execution_count": 47,
   "id": "a855e209",
   "metadata": {},
   "outputs": [
    {
     "name": "stdout",
     "output_type": "stream",
     "text": [
      "Array\n",
      "\n",
      "[[ 6  3  1  3]\n",
      " [ 7  4  9  7]\n",
      " [ 6  6  6  7]\n",
      " [10  1  2  5]]\n",
      "\n",
      "Sub array\n",
      "\n",
      "[9 5 4 6]\n",
      "\n",
      "Result\n",
      "\n",
      "[[-3 -2 -3 -3]\n",
      " [-2 -1  5  1]\n",
      " [-3  1  2  1]\n",
      " [ 1 -4 -2 -1]]\n"
     ]
    }
   ],
   "source": [
    "arr = np.random.randint(1, 11, size=(4, 4))\n",
    "sub = np.random.randint(1, 11, size=(4, ))\n",
    "\n",
    "print(\"Array\\n\")\n",
    "print(arr)\n",
    "\n",
    "print(\"\\nSub array\\n\")\n",
    "print(sub)\n",
    "\n",
    "print(\"\\nResult\\n\")\n",
    "print(arr - sub)"
   ]
  },
  {
   "cell_type": "markdown",
   "id": "ea3a5d10",
   "metadata": {},
   "source": [
    "### Assignment 6: Linear Algebra\n",
    "\n",
    "1. Create a NumPy array of shape (3, 3) representing a matrix. Compute its determinant, inverse, and eigenvalues.\n"
   ]
  },
  {
   "cell_type": "code",
   "execution_count": 60,
   "id": "c1769137",
   "metadata": {},
   "outputs": [
    {
     "name": "stdout",
     "output_type": "stream",
     "text": [
      "[[10  9  4]\n",
      " [ 9  7  7]\n",
      " [ 7  8  6]]\n",
      "\n",
      "Determinant\n",
      "-92.99999999999994\n",
      "\n",
      "Inverse\n",
      "[[ 0.15053763  0.23655914 -0.37634409]\n",
      " [ 0.05376344 -0.34408602  0.3655914 ]\n",
      " [-0.24731183  0.1827957   0.11827957]]\n",
      "\n",
      "Eigenvalues\n",
      "[22.50534636  2.29513589 -1.80048225]\n"
     ]
    }
   ],
   "source": [
    "matrix = np.random.randint(1, 11, size=(3, 3))\n",
    "print(matrix)\n",
    "\n",
    "print(\"\\nDeterminant\")\n",
    "determinant = np.linalg.det(matrix)\n",
    "print(determinant)\n",
    "\n",
    "print(\"\\nInverse\")\n",
    "invert = np.linalg.inv(matrix)\n",
    "print(invert)\n",
    "\n",
    "print(\"\\nEigenvalues\")\n",
    "eigenvalues = np.linalg.eigvals(matrix)\n",
    "print(eigenvalues)"
   ]
  },
  {
   "cell_type": "markdown",
   "id": "4489d0a0",
   "metadata": {},
   "source": [
    "2. Create two NumPy arrays of shape (2, 3) and (3, 2). Perform matrix multiplication on these arrays."
   ]
  },
  {
   "cell_type": "code",
   "execution_count": 61,
   "id": "42997e5c",
   "metadata": {},
   "outputs": [
    {
     "name": "stdout",
     "output_type": "stream",
     "text": [
      "\n",
      "Array 1\n",
      "[[1 2 3]\n",
      " [4 5 6]]\n",
      "\n",
      "Array 2\n",
      "[[4 4]\n",
      " [4 2]\n",
      " [4 3]]\n",
      "\n",
      "Multiplication\n",
      "[[24 17]\n",
      " [60 44]]\n"
     ]
    }
   ],
   "source": [
    "arr1 = np.arange(1, 7).reshape((2, 3))\n",
    "arr2 = np.random.randint(1, 6, size=(3, 2))\n",
    "\n",
    "print(\"\\nArray 1\")\n",
    "print(arr1)\n",
    "\n",
    "print(\"\\nArray 2\")\n",
    "print(arr2)\n",
    "\n",
    "mult = np.linalg.matmul(arr1, arr2)\n",
    "print(\"\\nMultiplication\")\n",
    "print(mult)"
   ]
  },
  {
   "cell_type": "markdown",
   "id": "a426e3a9",
   "metadata": {},
   "source": [
    "### Assignment 7: Advanced Array Manipulation\n",
    "\n",
    "1. Create a NumPy array of shape (3, 3) with values from 1 to 9. Reshape the array to shape (1, 9) and then to shape (9, 1).\n"
   ]
  },
  {
   "cell_type": "code",
   "execution_count": 63,
   "id": "3f08ff6d",
   "metadata": {},
   "outputs": [
    {
     "name": "stdout",
     "output_type": "stream",
     "text": [
      "\n",
      "Original array\n",
      "[[1 2 3]\n",
      " [4 5 6]\n",
      " [7 8 9]]\n",
      "\n",
      "1 x 9 array\n",
      "[[1 2 3 4 5 6 7 8 9]]\n",
      "\n",
      "9 x 1 array\n",
      "[[1]\n",
      " [2]\n",
      " [3]\n",
      " [4]\n",
      " [5]\n",
      " [6]\n",
      " [7]\n",
      " [8]\n",
      " [9]]\n"
     ]
    }
   ],
   "source": [
    "arr = np.arange(1, 10).reshape((3, 3))\n",
    "print(\"\\nOriginal array\")\n",
    "print(arr)\n",
    "\n",
    "print(\"\\n1 x 9 array\")\n",
    "print(arr.reshape((1, 9)))\n",
    "\n",
    "print(\"\\n9 x 1 array\")\n",
    "print(arr.reshape((9, 1)))"
   ]
  },
  {
   "cell_type": "markdown",
   "id": "e2e411a8",
   "metadata": {},
   "source": [
    "2. Create a NumPy array of shape (5, 5) filled with random integers. Flatten the array and then reshape it back to (5, 5)."
   ]
  },
  {
   "cell_type": "code",
   "execution_count": 68,
   "id": "86a3a98d",
   "metadata": {},
   "outputs": [
    {
     "name": "stdout",
     "output_type": "stream",
     "text": [
      "\n",
      "Original array\n",
      "[[9 8 1 4 6]\n",
      " [2 4 4 4 3]\n",
      " [2 5 3 2 7]\n",
      " [7 2 9 4 2]\n",
      " [7 8 3 6 8]]\n",
      "\n",
      "Flat array: \n",
      "[9 8 1 4 6 2 4 4 4 3 2 5 3 2 7 7 2 9 4 2 7 8 3 6 8]\n",
      "\n",
      "Back to 5\n",
      "[[9 8 1 4 6]\n",
      " [2 4 4 4 3]\n",
      " [2 5 3 2 7]\n",
      " [7 2 9 4 2]\n",
      " [7 8 3 6 8]]\n"
     ]
    }
   ],
   "source": [
    "arr = np.random.randint(1, 10, size=(5, 5))\n",
    "print(\"\\nOriginal array\")\n",
    "print(arr)\n",
    "\n",
    "flat_array = arr.flatten()\n",
    "print(\"\\nFlat array: \")\n",
    "print(flat_array)\n",
    "\n",
    "back_to_five = flat_array.reshape((5, 5))\n",
    "print(\"\\nBack to 5\")\n",
    "print(back_to_five)"
   ]
  },
  {
   "cell_type": "markdown",
   "id": "6b51e5b9",
   "metadata": {},
   "source": [
    "### Assignment 8: Fancy Indexing and Boolean Indexing\n",
    "\n",
    "1. Create a NumPy array of shape (5, 5) filled with random integers. Use fancy indexing to extract the elements at the corners of the array.\n"
   ]
  },
  {
   "cell_type": "code",
   "execution_count": 72,
   "id": "feb149f7",
   "metadata": {},
   "outputs": [
    {
     "name": "stdout",
     "output_type": "stream",
     "text": [
      "\n",
      "Original array\n",
      "[[ 1  5  4  7  4]\n",
      " [10  8  5  8  9]\n",
      " [ 5  4  1  8  9]\n",
      " [ 3  2  9  8 10]\n",
      " [ 8 10  4  4  8]]\n",
      "\n",
      "Corner elements\n",
      "[1 4 8 8]\n"
     ]
    }
   ],
   "source": [
    "arr = np.random.randint(1, 11, size=(5, 5))\n",
    "print(\"\\nOriginal array\")\n",
    "print(arr)\n",
    "\n",
    "\n",
    "print(\"\\nCorner elements\")\n",
    "print(arr[[0, 0, -1, -1], [0, -1, 0, -1]])\n"
   ]
  },
  {
   "cell_type": "markdown",
   "id": "c3dad500",
   "metadata": {},
   "source": [
    "2. Create a NumPy array of shape (4, 4) filled with random integers. Use boolean indexing to set all elements greater than 10 to 10."
   ]
  },
  {
   "cell_type": "code",
   "execution_count": 74,
   "id": "120aac58",
   "metadata": {},
   "outputs": [
    {
     "name": "stdout",
     "output_type": "stream",
     "text": [
      "[[12  6  5  2]\n",
      " [ 4 11 11  9]\n",
      " [ 1  6 10  8]\n",
      " [ 3  7  1  2]]\n",
      "[[10  6  5  2]\n",
      " [ 4 10 10  9]\n",
      " [ 1  6 10  8]\n",
      " [ 3  7  1  2]]\n"
     ]
    }
   ],
   "source": [
    "arr = np.random.randint(1, 15, size=(4, 4))\n",
    "print(arr)\n",
    "arr[arr > 10] = 10\n",
    "\n",
    "print(arr)"
   ]
  },
  {
   "cell_type": "markdown",
   "id": "546aa7a9",
   "metadata": {},
   "source": [
    "### Assignment 9: Structured Arrays\n",
    "\n",
    "1. Create a structured array with fields 'name' (string), 'age' (integer), and 'weight' (float). Add some data and sort the array by age."
   ]
  },
  {
   "cell_type": "code",
   "execution_count": 77,
   "id": "d7825a97",
   "metadata": {},
   "outputs": [
    {
     "name": "stdout",
     "output_type": "stream",
     "text": [
      "[('John', 10, 50.) ('Ram', 11, 55.) ('Shyam',  9, 45.)]\n"
     ]
    },
    {
     "data": {
      "text/plain": [
       "array([('Shyam',  9, 45.), ('John', 10, 50.), ('Ram', 11, 55.)],\n",
       "      dtype=[('name', '<U10'), ('age', '<i4'), ('weight', '<f4')])"
      ]
     },
     "execution_count": 77,
     "metadata": {},
     "output_type": "execute_result"
    }
   ],
   "source": [
    "data_type = [('name', 'U10'), ('age', 'i4'), ('weight', 'f4')]\n",
    "\n",
    "data = np.array([('John', 10, 50.0), ('Ram', 11, 55.0), ('Shyam', 9, 45.0)], dtype=data_type)\n",
    "print(data)\n",
    "\n",
    "np.sort(data, order='age')\n"
   ]
  },
  {
   "cell_type": "markdown",
   "id": "fe72f493",
   "metadata": {},
   "source": [
    "2. Create a structured array with fields 'x' and 'y' (both integers). Add some data and compute the Euclidean distance between each pair of points."
   ]
  },
  {
   "cell_type": "code",
   "execution_count": 82,
   "id": "ade782db",
   "metadata": {},
   "outputs": [
    {
     "name": "stdout",
     "output_type": "stream",
     "text": [
      "[(1, 1) (2, 2) (3, 3)]\n",
      "[[0.         1.41421356 2.82842712]\n",
      " [1.41421356 0.         1.41421356]\n",
      " [2.82842712 1.41421356 0.        ]]\n"
     ]
    }
   ],
   "source": [
    "data_type = [('x', 'i4'), ('y', 'i4')]\n",
    "\n",
    "data = np.array([(1, 1), (2, 2), (3, 3)], dtype=data_type)\n",
    "print(data)\n",
    "\n",
    "distances = np.sqrt((data['x'][:, np.newaxis] - data['x'])**2 + (data['y'][:, np.newaxis] - data['y'])**2)\n",
    "print(distances)"
   ]
  },
  {
   "cell_type": "markdown",
   "id": "db6c56fc",
   "metadata": {},
   "source": [
    "### Assignment 10: Masked Arrays\n",
    "\n",
    "1. Create a masked array of shape (4, 4) with random integers and mask the elements greater than 10. Compute the sum of the unmasked elements.\n"
   ]
  },
  {
   "cell_type": "code",
   "execution_count": 84,
   "id": "b1aba777",
   "metadata": {},
   "outputs": [
    {
     "name": "stdout",
     "output_type": "stream",
     "text": [
      "\n",
      "Original array\n",
      "[[14  1  1  8]\n",
      " [ 3 14 14 11]\n",
      " [10  7 19  4]\n",
      " [ 6  9 17 12]]\n",
      "\n",
      "MaskdedArray\n",
      "[[-- 1 1 8]\n",
      " [3 -- -- --]\n",
      " [10 7 -- 4]\n",
      " [6 9 -- --]]\n",
      "\n",
      "Sum of masked array\n",
      "49\n"
     ]
    }
   ],
   "source": [
    "import numpy.ma as ma\n",
    "\n",
    "arr = np.random.randint(1, 20, size=(4, 4))\n",
    "print(\"\\nOriginal array\")\n",
    "print(arr)\n",
    "\n",
    "print(\"\\nMaskdedArray\")\n",
    "masked_array = ma.masked_greater(arr, 10)\n",
    "print(masked_array)\n",
    "\n",
    "print(\"\\nSum of masked array\")\n",
    "print(np.sum(masked_array))\n"
   ]
  },
  {
   "cell_type": "markdown",
   "id": "61996dca",
   "metadata": {},
   "source": [
    "2. Create a masked array of shape (3, 3) with random integers and mask the diagonal elements. Replace the masked elements with the mean of the unmasked elements."
   ]
  },
  {
   "cell_type": "code",
   "execution_count": 91,
   "id": "8a0e994a",
   "metadata": {},
   "outputs": [
    {
     "name": "stdout",
     "output_type": "stream",
     "text": [
      "Original array:\n",
      "[[16 13  7]\n",
      " [ 3 12  1]\n",
      " [ 4 20 12]]\n",
      "Masked array:\n",
      "[[-- 13 7]\n",
      " [3 -- 1]\n",
      " [4 20 --]]\n",
      "Modified masked array:\n",
      "[[ 8 13  7]\n",
      " [ 3  8  1]\n",
      " [ 4 20  8]]\n"
     ]
    }
   ],
   "source": [
    "# Create a masked array of shape (3, 3) with random integers\n",
    "import numpy.ma as ma\n",
    "array = np.random.randint(1, 21, size=(3, 3))\n",
    "masked_array = ma.masked_array(array, mask=np.eye(3, dtype=bool))\n",
    "print(\"Original array:\")\n",
    "print(array)\n",
    "print(\"Masked array:\")\n",
    "print(masked_array)\n",
    "\n",
    "# Replace the masked elements with the mean of the unmasked elements\n",
    "mean_unmasked = masked_array.mean()\n",
    "masked_array = masked_array.filled(mean_unmasked)\n",
    "print(\"Modified masked array:\")\n",
    "print(masked_array)"
   ]
  },
  {
   "cell_type": "code",
   "execution_count": null,
   "id": "6a11d9ca",
   "metadata": {},
   "outputs": [],
   "source": []
  }
 ],
 "metadata": {
  "kernelspec": {
   "display_name": "Complete-Python-Bootcamp",
   "language": "python",
   "name": "python3"
  },
  "language_info": {
   "codemirror_mode": {
    "name": "ipython",
    "version": 3
   },
   "file_extension": ".py",
   "mimetype": "text/x-python",
   "name": "python",
   "nbconvert_exporter": "python",
   "pygments_lexer": "ipython3",
   "version": "3.12.6"
  }
 },
 "nbformat": 4,
 "nbformat_minor": 5
}
