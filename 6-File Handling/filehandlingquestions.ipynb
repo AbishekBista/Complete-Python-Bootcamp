{
 "cells": [
  {
   "cell_type": "markdown",
   "id": "8d3524c5",
   "metadata": {},
   "source": [
    "# Module: File Handling Assignments\n",
    "## Lesson: File Handling and Operations\n",
    "### Assignment 1: Reading a File\n",
    "\n",
    "Write a function that reads the contents of a file named `sample.txt` and prints each line."
   ]
  },
  {
   "cell_type": "code",
   "execution_count": 1,
   "id": "20422510",
   "metadata": {},
   "outputs": [
    {
     "name": "stdout",
     "output_type": "stream",
     "text": [
      "Hello, world!\n",
      "This is great.\n"
     ]
    }
   ],
   "source": [
    "with open('sample.txt', 'r') as file:\n",
    "    content = file.read()\n",
    "    print(content)"
   ]
  },
  {
   "cell_type": "markdown",
   "id": "286fad24",
   "metadata": {},
   "source": [
    "### Assignment 2: Writing to a File\n",
    "\n",
    "Write a function that writes a list of strings to a file named `output.txt`, with each string on a new line."
   ]
  },
  {
   "cell_type": "code",
   "execution_count": 5,
   "id": "b7c44e30",
   "metadata": {},
   "outputs": [],
   "source": [
    "lines = ['Hello, world!', 'This is great.']\n",
    "\n",
    "with open('output.txt', 'w') as file:\n",
    "    for line in lines:\n",
    "        file.write(f\"{line}\\n\")"
   ]
  },
  {
   "cell_type": "markdown",
   "id": "0eb1ce8d",
   "metadata": {},
   "source": [
    "### Assignment 3: Copying a File\n",
    "\n",
    "Write a function that copies the contents of a file named `source.txt` to a new file named `destination.txt`."
   ]
  },
  {
   "cell_type": "code",
   "execution_count": 6,
   "id": "94fb8fc9",
   "metadata": {},
   "outputs": [
    {
     "data": {
      "text/plain": [
       "'destination.txt'"
      ]
     },
     "execution_count": 6,
     "metadata": {},
     "output_type": "execute_result"
    }
   ],
   "source": [
    "import shutil\n",
    "shutil.copyfile('source.txt', 'destination.txt')"
   ]
  },
  {
   "cell_type": "markdown",
   "id": "d9db3a70",
   "metadata": {},
   "source": [
    "### Assignment 4: Appending to a File\n",
    "\n",
    "Write a function that appends a given string to the end of a file named `log.txt`."
   ]
  },
  {
   "cell_type": "code",
   "execution_count": 7,
   "id": "672086f9",
   "metadata": {},
   "outputs": [],
   "source": [
    "def append_string(string):\n",
    "    with open('log.txt', 'a') as file:\n",
    "        file.write(string)\n",
    "\n",
    "append_string('This is an appended string')"
   ]
  },
  {
   "cell_type": "markdown",
   "id": "8d640f9c",
   "metadata": {},
   "source": [
    "### Assignment 5: Counting Words in a File\n",
    "\n",
    "Write a function that reads the contents of a file named `document.txt` and returns the number of words in the file."
   ]
  },
  {
   "cell_type": "code",
   "execution_count": 8,
   "id": "c8e7f12b",
   "metadata": {},
   "outputs": [
    {
     "data": {
      "text/plain": [
       "12"
      ]
     },
     "execution_count": 8,
     "metadata": {},
     "output_type": "execute_result"
    }
   ],
   "source": [
    "def word_counter(file_name):\n",
    "    word_count = 0\n",
    "    with open(file_name, 'r') as file:\n",
    "        for line in file:\n",
    "            word_count += len(line.split(\" \"))\n",
    "    \n",
    "    return word_count\n",
    "\n",
    "\n",
    "word_counter('document.txt')"
   ]
  },
  {
   "cell_type": "markdown",
   "id": "f9ab310b",
   "metadata": {},
   "source": [
    "### Assignment 6: Finding and Replacing Text\n",
    "\n",
    "Write a function that finds and replaces all occurrences of a given word in a file named `data.txt` with another word."
   ]
  },
  {
   "cell_type": "code",
   "execution_count": null,
   "id": "ff169048",
   "metadata": {},
   "outputs": [
    {
     "name": "stdout",
     "output_type": "stream",
     "text": [
      "This data belongs to Richard, it will be replaced and Richard's data will be wiped.\n"
     ]
    }
   ],
   "source": [
    "def instance_replacer(file_name, target_word, replace_word):\n",
    "    with open(file_name, 'r') as file:\n",
    "        content = file.read()\n",
    "    \n",
    "    replaced_content = content.replace(target_word, replace_word)\n",
    "    with open(file_name, 'w') as file:\n",
    "        file.write(replaced_content)\n",
    "\n",
    "instance_replacer('data.txt', 'Richard', 'Donald')"
   ]
  },
  {
   "cell_type": "markdown",
   "id": "802a952c",
   "metadata": {},
   "source": [
    "### Assignment 7: Reading a File in Reverse\n",
    "\n",
    "Write a function that reads the contents of a file named `reverse.txt` and prints each line in reverse order."
   ]
  },
  {
   "cell_type": "code",
   "execution_count": 23,
   "id": "08ae6d7b",
   "metadata": {},
   "outputs": [
    {
     "name": "stdout",
     "output_type": "stream",
     "text": [
      "1\n",
      "2\n",
      "3\n",
      "4\n",
      "5\n",
      "6\n",
      "7\n",
      "8\n",
      "9\n",
      "10\n"
     ]
    }
   ],
   "source": [
    "def read_reverse(file_name):\n",
    "    with open(file_name, 'r') as file:\n",
    "        all_lines = reversed(file.readlines())\n",
    "\n",
    "        for line in all_lines:\n",
    "            print(line.strip())\n",
    "\n",
    "        \n",
    "\n",
    "read_reverse('reverse.txt')"
   ]
  },
  {
   "cell_type": "markdown",
   "id": "a9af89c1",
   "metadata": {},
   "source": [
    "### Assignment 8: Counting Lines, Words, and Characters\n",
    "\n",
    "Write a function that reads the contents of a file named `stats.txt` and returns the number of lines, words, and characters in the file."
   ]
  },
  {
   "cell_type": "code",
   "execution_count": 25,
   "id": "41fc060b",
   "metadata": {},
   "outputs": [
    {
     "data": {
      "text/plain": [
       "(2, 12, 49)"
      ]
     },
     "execution_count": 25,
     "metadata": {},
     "output_type": "execute_result"
    }
   ],
   "source": [
    "def stat_finder(file_name):\n",
    "    line_count = 0\n",
    "    word_count = 0\n",
    "    char_count = 0\n",
    "    with open(file_name, 'r') as file:\n",
    "        for line in file:\n",
    "            line_count += 1\n",
    "            for word in line.split(\" \"):\n",
    "                word_count += 1\n",
    "                for char in word:\n",
    "                    char_count += 1\n",
    "    \n",
    "    return line_count, word_count, char_count\n",
    "\n",
    "stat_finder('document.txt')"
   ]
  },
  {
   "cell_type": "markdown",
   "id": "ac615465",
   "metadata": {},
   "source": [
    "### Assignment 9: Merging Multiple Files\n",
    "\n",
    "Write a function that merges the contents of multiple files into a single file named `merged.txt`."
   ]
  },
  {
   "cell_type": "code",
   "execution_count": 26,
   "id": "5fc3829a",
   "metadata": {},
   "outputs": [],
   "source": [
    "def merge_text(file_list):\n",
    "    for file_name in file_list:\n",
    "        with open(file_name, 'r') as file:\n",
    "            content = file.read()\n",
    "        \n",
    "        with open('merged.txt', 'a') as file:\n",
    "            file.write(content)\n",
    "\n",
    "merge_text(['data.txt', 'document.txt', 'log.txt'])"
   ]
  },
  {
   "cell_type": "markdown",
   "id": "294033aa",
   "metadata": {},
   "source": [
    "### Assignment 10: Splitting a Large File\n",
    "\n",
    "Write a function that splits a large file named `large.txt` into smaller files of 100 lines each."
   ]
  },
  {
   "cell_type": "code",
   "execution_count": 37,
   "id": "e415881b",
   "metadata": {},
   "outputs": [],
   "source": [
    "def split_file(file_name):\n",
    "    with open(file_name, 'r') as file:\n",
    "        all_lines = file.readlines()\n",
    "\n",
    "        file_index = 1\n",
    "        start_index = 0\n",
    "        end_index = 100\n",
    "        for i in range(len(all_lines)):\n",
    "            if(i % 100 == 0):\n",
    "                with open(f'file_{file_index}.txt', 'w') as file:\n",
    "                    file.writelines(all_lines[start_index:end_index])\n",
    "                file_index += 1\n",
    "                start_index += 100\n",
    "                end_index += 100\n",
    "\n",
    "split_file('large.txt')"
   ]
  },
  {
   "cell_type": "markdown",
   "id": "570f7a12",
   "metadata": {},
   "source": [
    "### Assignment 11: Creating a Log File\n",
    "\n",
    "Write a function that creates a log file named `activity.log` and writes log messages with timestamps."
   ]
  },
  {
   "cell_type": "code",
   "execution_count": 40,
   "id": "9aeb2989",
   "metadata": {},
   "outputs": [],
   "source": [
    "from datetime import datetime\n",
    "import time\n",
    "def log_filer(file_name):\n",
    "    with open(file_name, 'a') as file:\n",
    "        for i in range(5):\n",
    "            file.write(f\"{datetime.now()} - 'Something happened'\\n\")\n",
    "            time.sleep(1)\n",
    "\n",
    "log_filer('activity.log')"
   ]
  },
  {
   "cell_type": "markdown",
   "id": "bd7436c8",
   "metadata": {},
   "source": [
    "### Assignment 12: Binary File Operations\n",
    "\n",
    "Write a function that reads a binary file named `image.bin` and writes its contents to another binary file named `copy_image.bin`."
   ]
  },
  {
   "cell_type": "code",
   "execution_count": 42,
   "id": "9aef3a5d",
   "metadata": {},
   "outputs": [],
   "source": [
    "with open('image.bin', 'rb') as file:\n",
    "    content = file.read()\n",
    "\n",
    "with open('copy_image.bin', 'wb') as file:\n",
    "    file.write(content)"
   ]
  },
  {
   "cell_type": "markdown",
   "id": "a6165518",
   "metadata": {},
   "source": [
    "### Assignment 13: CSV File Operations\n",
    "\n",
    "Write a function that reads a CSV file named `data.csv` and prints its contents as a list of dictionaries."
   ]
  },
  {
   "cell_type": "code",
   "execution_count": 46,
   "id": "54913575",
   "metadata": {},
   "outputs": [
    {
     "name": "stdout",
     "output_type": "stream",
     "text": [
      "['name', 'age']\n",
      "['Bob', '20']\n"
     ]
    }
   ],
   "source": [
    "import csv\n",
    "\n",
    "with open('data.csv', 'r') as file:\n",
    "    reader = csv.reader(file)\n",
    "    \n",
    "    for row in reader:\n",
    "        print(row)\n"
   ]
  },
  {
   "cell_type": "markdown",
   "id": "37fa3a23",
   "metadata": {},
   "source": [
    "### Assignment 14: JSON File Operations\n",
    "\n",
    "Write a function that reads a JSON file named `data.json` and prints its contents as a Python dictionary."
   ]
  },
  {
   "cell_type": "code",
   "execution_count": 47,
   "id": "5a0c102e",
   "metadata": {},
   "outputs": [
    {
     "data": {
      "text/plain": [
       "{'name': 'Abishek', 'age': 20}"
      ]
     },
     "execution_count": 47,
     "metadata": {},
     "output_type": "execute_result"
    }
   ],
   "source": [
    "import json\n",
    "\n",
    "with open('data.json', 'r') as file:\n",
    "    content = file.read()\n",
    "\n",
    "json.loads(content)"
   ]
  },
  {
   "cell_type": "markdown",
   "id": "96d9c388",
   "metadata": {},
   "source": [
    "### Assignment 15: File Permission Handling\n",
    "\n",
    "Write a function that attempts to read a file named `protected.txt` and handles any permission errors gracefully by printing an error message."
   ]
  },
  {
   "cell_type": "code",
   "execution_count": 50,
   "id": "88a218af",
   "metadata": {},
   "outputs": [
    {
     "name": "stdout",
     "output_type": "stream",
     "text": [
      "You do not  have the correct permission or file not found\n"
     ]
    }
   ],
   "source": [
    "\n",
    "try:\n",
    "    with open('protected.txt', 'r') as file:\n",
    "        file.read()\n",
    "except(FileNotFoundError, PermissionError):\n",
    "    print(\"You do not  have the correct permission or file not found\")"
   ]
  }
 ],
 "metadata": {
  "kernelspec": {
   "display_name": "Complete-Python-Bootcamp",
   "language": "python",
   "name": "python3"
  },
  "language_info": {
   "codemirror_mode": {
    "name": "ipython",
    "version": 3
   },
   "file_extension": ".py",
   "mimetype": "text/x-python",
   "name": "python",
   "nbconvert_exporter": "python",
   "pygments_lexer": "ipython3",
   "version": "3.12.6"
  }
 },
 "nbformat": 4,
 "nbformat_minor": 5
}
