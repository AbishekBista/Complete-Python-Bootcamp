{
 "cells": [
  {
   "cell_type": "markdown",
   "id": "5220439d",
   "metadata": {},
   "source": [
    "# Module 3: Data Structures Assignments\n",
    "## Lesson 3.1: Lists\n",
    "### Assignment 1: Creating and Accessing Lists\n",
    "\n",
    "Create a list of the first 20 positive integers. Print the list."
   ]
  },
  {
   "cell_type": "code",
   "execution_count": 95,
   "id": "0594b217",
   "metadata": {},
   "outputs": [
    {
     "name": "stdout",
     "output_type": "stream",
     "text": [
      "[1, 2, 3, 4, 5, 6, 7, 8, 9, 10, 11, 12, 13, 14, 15, 16, 17, 18, 19, 20]\n"
     ]
    }
   ],
   "source": [
    "some_list = []\n",
    "for i in range(1, 21):\n",
    "    some_list.append(i)\n",
    "print(some_list)"
   ]
  },
  {
   "cell_type": "markdown",
   "id": "db7cf3de",
   "metadata": {
    "vscode": {
     "languageId": "markdown"
    }
   },
   "source": [
    "### Assignment 2: Accessing List Elements\n",
    "\n",
    "Print the first, middle, and last elements of the list created in Assignment 1."
   ]
  },
  {
   "cell_type": "code",
   "execution_count": 96,
   "id": "cb188701",
   "metadata": {},
   "outputs": [
    {
     "name": "stdout",
     "output_type": "stream",
     "text": [
      "First element: 1\n",
      "Middle element: 11\n",
      "Last element: 20\n"
     ]
    }
   ],
   "source": [
    "print(f\"First element: {some_list[0]}\")\n",
    "print(f\"Middle element: {some_list[len(some_list) // 2]}\")\n",
    "print(f\"Last element: {some_list[-1]}\")"
   ]
  },
  {
   "cell_type": "markdown",
   "id": "657bcdac",
   "metadata": {
    "vscode": {
     "languageId": "markdown"
    }
   },
   "source": [
    "### Assignment 3: List Slicing\n",
    "\n",
    "Print the first five elements, the last five elements, and the elements from index 5 to 15 of the list created in Assignment 1."
   ]
  },
  {
   "cell_type": "code",
   "execution_count": 97,
   "id": "07918fbd",
   "metadata": {},
   "outputs": [
    {
     "name": "stdout",
     "output_type": "stream",
     "text": [
      "First five: [1, 2, 3, 4, 5]\n",
      "Last five: [16, 17, 18, 19, 20]\n",
      "Index 5 to 15: [6, 7, 8, 9, 10, 11, 12, 13, 14, 15, 16]\n"
     ]
    }
   ],
   "source": [
    "print(f\"First five: {some_list[:5]}\")\n",
    "print(f\"Last five: {some_list[-5:]}\")\n",
    "print(f\"Index 5 to 15: {some_list[5:16]}\")"
   ]
  },
  {
   "cell_type": "markdown",
   "id": "b13191d4",
   "metadata": {},
   "source": [
    "### Assignment 4: List Comprehensions\n",
    "\n",
    "Create a new list containing the squares of the first 10 positive integers using a list comprehension. Print the new list."
   ]
  },
  {
   "cell_type": "code",
   "execution_count": 98,
   "id": "5e6445dc",
   "metadata": {},
   "outputs": [
    {
     "name": "stdout",
     "output_type": "stream",
     "text": [
      "[1, 4, 9, 16, 25, 36, 49, 64, 81, 100]\n"
     ]
    }
   ],
   "source": [
    "new_list = [i ** 2 for i in range(1, 11)]\n",
    "print(new_list)"
   ]
  },
  {
   "cell_type": "markdown",
   "id": "947bf0cf",
   "metadata": {},
   "source": [
    "### Assignment 5: Filtering Lists\n",
    "\n",
    "Create a new list containing only the even numbers from the list created in Assignment 1 using a list comprehension. Print the new list."
   ]
  },
  {
   "cell_type": "code",
   "execution_count": 99,
   "id": "bf8e5050",
   "metadata": {},
   "outputs": [
    {
     "name": "stdout",
     "output_type": "stream",
     "text": [
      "[2, 4, 10]\n"
     ]
    }
   ],
   "source": [
    "even_list = [element for element in num_list if element % 2 == 0]\n",
    "print(even_list)"
   ]
  },
  {
   "cell_type": "markdown",
   "id": "c5e5501a",
   "metadata": {},
   "source": [
    "### Assignment 6: num_list Methods\n",
    "\n",
    "Create a num_list of random numbers and sort it in ascending and descending order. Remove the duplicates from the list and print the modified list."
   ]
  },
  {
   "cell_type": "code",
   "execution_count": 100,
   "id": "2d58095d",
   "metadata": {},
   "outputs": [
    {
     "name": "stdout",
     "output_type": "stream",
     "text": [
      "[2, 2, 2, 3, 3, 3, 5, 13, 22]\n",
      "[22, 13, 5, 3, 3, 3, 2, 2, 2]\n",
      "[22, 13, 5, 3, 2]\n"
     ]
    }
   ],
   "source": [
    "unordered_list = [3, 3, 2, 5, 22, 13, 2, 3, 2]\n",
    "unordered_list.sort()\n",
    "print(unordered_list)\n",
    "\n",
    "unordered_list.sort(reverse = True)\n",
    "print(unordered_list)\n",
    "\n",
    "unique_list = []\n",
    "for number in unordered_list:\n",
    "    if number not in unique_list:\n",
    "        unique_list.append(number)\n",
    "\n",
    "print(unique_list)"
   ]
  },
  {
   "cell_type": "markdown",
   "id": "426062ab",
   "metadata": {},
   "source": [
    "### Assignment 7: Nested Lists\n",
    "\n",
    "Create a nested list representing a 3x3 matrix and print the matrix. Access and print the element at the second row and third column."
   ]
  },
  {
   "cell_type": "code",
   "execution_count": 101,
   "id": "9ea37da1",
   "metadata": {},
   "outputs": [
    {
     "name": "stdout",
     "output_type": "stream",
     "text": [
      "[[1, 2, 3], [4, 5, 6], [7, 8, 9]]\n",
      "6\n"
     ]
    }
   ],
   "source": [
    "nested_matrix = [\n",
    "    [1, 2, 3],\n",
    "    [4, 5, 6],\n",
    "    [7, 8, 9]\n",
    "]\n",
    "\n",
    "print(nested_matrix)\n",
    "print(nested_matrix[1][2])"
   ]
  },
  {
   "cell_type": "markdown",
   "id": "1df3494c",
   "metadata": {},
   "source": [
    "### Assignment 8: List of Dictionaries\n",
    "\n",
    "Create a list of dictionaries where each dictionary represents a student with keys 'name' and 'score'. Sort the list of dictionaries by the 'score' in descending order and print the sorted list."
   ]
  },
  {
   "cell_type": "code",
   "execution_count": 102,
   "id": "59358c55",
   "metadata": {},
   "outputs": [
    {
     "name": "stdout",
     "output_type": "stream",
     "text": [
      "[{'name': 'John', 'score': 50}, {'name': 'Damon', 'score': 80}, {'name': 'Ram', 'score': 90}, {'name': 'Shyam', 'score': 85}]\n",
      "[{'name': 'Ram', 'score': 90}, {'name': 'Shyam', 'score': 85}, {'name': 'Damon', 'score': 80}, {'name': 'John', 'score': 50}]\n"
     ]
    }
   ],
   "source": [
    "marks_list = [\n",
    "    {\n",
    "        'name': 'John',\n",
    "        'score': 50\n",
    "    },\n",
    "    {\n",
    "        'name': 'Damon',\n",
    "        'score': 80\n",
    "    },\n",
    "    {\n",
    "        'name': 'Ram',\n",
    "        'score': 90\n",
    "    },\n",
    "    {\n",
    "        'name': 'Shyam',\n",
    "        'score': 85\n",
    "    },\n",
    "]\n",
    "\n",
    "print(marks_list)\n",
    "sorted_list = sorted(marks_list, key=lambda d: d['score'], reverse=True)\n",
    "print(sorted_list)"
   ]
  },
  {
   "cell_type": "markdown",
   "id": "e012d963",
   "metadata": {},
   "source": [
    "### Assignment 9: Matrix Transposition\n",
    "\n",
    "Write a function that takes a 3x3 matrix (nested list) as input and returns its transpose. Print the original and transposed matrices."
   ]
  },
  {
   "cell_type": "code",
   "execution_count": 103,
   "id": "0aca5453",
   "metadata": {},
   "outputs": [
    {
     "data": {
      "text/plain": [
       "[[1, 4], [2, 5], [3, 6]]"
      ]
     },
     "execution_count": 103,
     "metadata": {},
     "output_type": "execute_result"
    }
   ],
   "source": [
    "def transpose(matrix):\n",
    "    return [[row[i] for row in matrix] for i in range(len(matrix[0]))]\n",
    "\n",
    "matrix = [\n",
    "    [1, 2, 3],\n",
    "    [4, 5, 6],\n",
    "]\n",
    "\n",
    "transpose(matrix)\n"
   ]
  },
  {
   "cell_type": "markdown",
   "id": "5f67f228",
   "metadata": {},
   "source": [
    "### Assignment 10: Flattening a Nested List\n",
    "\n",
    "Write a function that takes a nested list and flattens it into a single list. Print the original and flattened lists."
   ]
  },
  {
   "cell_type": "code",
   "execution_count": 104,
   "id": "66279134",
   "metadata": {},
   "outputs": [
    {
     "name": "stdout",
     "output_type": "stream",
     "text": [
      "[[1, 2, 3], [4, 5, 6], [7, 8, 9]]\n",
      "[1, 2, 3, 4, 5, 6, 7, 8, 9]\n"
     ]
    }
   ],
   "source": [
    "def flat(matrix):\n",
    "    return [matrix[i][j] for i in range(len(matrix)) for j in range(len(matrix[i]))]\n",
    "\n",
    "matrix = [\n",
    "    [1, 2, 3],\n",
    "    [4, 5, 6],\n",
    "    [7, 8, 9]\n",
    "]\n",
    "\n",
    "print(matrix)\n",
    "print(flat(matrix))\n"
   ]
  },
  {
   "cell_type": "markdown",
   "id": "f70a981c",
   "metadata": {},
   "source": [
    "### Assignment 11: List Manipulation\n",
    "\n",
    "Create a list of the first 10 positive integers. Remove the elements at indices 2, 4, and 6, and insert the element '99' at index 5. Print the modified list."
   ]
  },
  {
   "cell_type": "code",
   "execution_count": 105,
   "id": "63f98b0f",
   "metadata": {},
   "outputs": [
    {
     "name": "stdout",
     "output_type": "stream",
     "text": [
      "[1, 2, 4, 5, 7, 99, 10]\n"
     ]
    }
   ],
   "source": [
    "num_list = [num for num in range(1, 11)]\n",
    "num_list.pop(2)\n",
    "num_list.pop(4)\n",
    "num_list.pop(6)\n",
    "num_list[5] = 99\n",
    "print(num_list)"
   ]
  },
  {
   "cell_type": "markdown",
   "id": "4e715c7d",
   "metadata": {},
   "source": [
    "### Assignment 12: List Zipping\n",
    "\n",
    "Create two lists of the same length. Use the `zip` function to combine these lists into a list of tuples and print the result."
   ]
  },
  {
   "cell_type": "code",
   "execution_count": 108,
   "id": "c675e262",
   "metadata": {},
   "outputs": [
    {
     "data": {
      "text/plain": [
       "[(1, 'a'), (2, 'b'), (3, 'c'), (4, 'd')]"
      ]
     },
     "execution_count": 108,
     "metadata": {},
     "output_type": "execute_result"
    }
   ],
   "source": [
    "list1 = [1, 2, 3, 4]\n",
    "list2 = ['a', 'b', 'c', 'd']\n",
    "\n",
    "list(zip(list1, list2))\n"
   ]
  },
  {
   "cell_type": "markdown",
   "id": "2547c2c8",
   "metadata": {},
   "source": [
    "### Assignment 13: List Reversal\n",
    "\n",
    "Write a function that takes a list and returns a new list with the elements in reverse order. Print the original and reversed lists."
   ]
  },
  {
   "cell_type": "code",
   "execution_count": 114,
   "id": "c0fa7318",
   "metadata": {},
   "outputs": [
    {
     "name": "stdout",
     "output_type": "stream",
     "text": [
      "[1, 2, 3, 4, 5]\n",
      "[5, 4, 3, 2, 1]\n"
     ]
    }
   ],
   "source": [
    "def reverse_list(matrix):\n",
    "    return list(reversed(matrix))\n",
    "    \n",
    "\n",
    "new_list = [1, 2, 3, 4, 5]\n",
    "print(new_list)\n",
    "print(reverse_list(new_list))"
   ]
  },
  {
   "cell_type": "markdown",
   "id": "ae50c438",
   "metadata": {},
   "source": [
    "### Assignment 14: List Rotation\n",
    "\n",
    "Write a function that rotates a list by n positions. Print the original and rotated lists."
   ]
  },
  {
   "cell_type": "code",
   "execution_count": 115,
   "id": "e93298b6",
   "metadata": {},
   "outputs": [
    {
     "name": "stdout",
     "output_type": "stream",
     "text": [
      "[1, 2, 3, 4, 5]\n",
      "[4, 5, 1, 2, 3]\n"
     ]
    }
   ],
   "source": [
    "def rotate_list(arr, k):\n",
    "    for _ in range(k):\n",
    "        arr.insert(0, arr.pop())\n",
    "print(new_list)\n",
    "rotate_list(new_list, 2)\n",
    "print(new_list)\n"
   ]
  },
  {
   "cell_type": "markdown",
   "id": "9ef66e5c",
   "metadata": {},
   "source": [
    "### Assignment 15: List Intersection\n",
    "\n",
    "Write a function that takes two lists and returns a new list containing only the elements that are present in both lists. Print the intersected list."
   ]
  },
  {
   "cell_type": "code",
   "execution_count": 116,
   "id": "8b59c60b",
   "metadata": {},
   "outputs": [
    {
     "data": {
      "text/plain": [
       "[3, 5, 7, 11, 13, 17, 19]"
      ]
     },
     "execution_count": 116,
     "metadata": {},
     "output_type": "execute_result"
    }
   ],
   "source": [
    "prime_list = [2, 3, 5, 7, 11, 13, 17, 19]\n",
    "odd_list = [1, 3, 5, 7, 11, 13, 15, 17, 19]\n",
    "\n",
    "def intersection(list1, list2):\n",
    "    intersection_list = [item for item in list1 if item in list2]\n",
    "    return intersection_list\n",
    "\n",
    "intersection(prime_list, odd_list)\n"
   ]
  }
 ],
 "metadata": {
  "kernelspec": {
   "display_name": "Complete-Python-Bootcamp",
   "language": "python",
   "name": "python3"
  },
  "language_info": {
   "codemirror_mode": {
    "name": "ipython",
    "version": 3
   },
   "file_extension": ".py",
   "mimetype": "text/x-python",
   "name": "python",
   "nbconvert_exporter": "python",
   "pygments_lexer": "ipython3",
   "version": "3.12.6"
  }
 },
 "nbformat": 4,
 "nbformat_minor": 5
}
