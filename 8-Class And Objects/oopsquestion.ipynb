{
 "cells": [
  {
   "cell_type": "markdown",
   "id": "438c2d5f",
   "metadata": {},
   "source": [
    "# Module: OOP Assignments\n",
    "## Lesson: Polymorphism, Abstraction, and Encapsulation\n",
    "### Assignment 1: Polymorphism with Methods"
   ]
  },
  {
   "cell_type": "markdown",
   "id": "af9a67e2",
   "metadata": {},
   "source": [
    "Create a base class named `Shape` with a method `area`. Create two derived classes `Circle` and `Square` that override the `area` method. Create a list of `Shape` objects and call the `area` method on each object to demonstrate polymorphism."
   ]
  },
  {
   "cell_type": "code",
   "execution_count": 2,
   "id": "896956c7",
   "metadata": {},
   "outputs": [
    {
     "name": "stdout",
     "output_type": "stream",
     "text": [
      "154.0\n",
      "16\n"
     ]
    }
   ],
   "source": [
    "class Shape:\n",
    "    def area():\n",
    "        pass\n",
    "\n",
    "class Circle(Shape):\n",
    "    def __init__(self, radius):\n",
    "        self.radius = radius\n",
    "    \n",
    "    def area(self):\n",
    "        return 22 / 7 * self.radius ** 2\n",
    "\n",
    "class Square(Shape):\n",
    "    def __init__(self, side):\n",
    "        self.side = side\n",
    "    \n",
    "    def area(self):\n",
    "        return self.side ** 2\n",
    "\n",
    "shape_list = [Circle(7), Square(4)]\n",
    "\n",
    "for shape in shape_list:\n",
    "    print(shape.area())"
   ]
  },
  {
   "cell_type": "markdown",
   "id": "57d1242f",
   "metadata": {},
   "source": [
    "### Assignment 2: Polymorphism with Function Arguments"
   ]
  },
  {
   "cell_type": "markdown",
   "id": "147ced76",
   "metadata": {},
   "source": [
    "Create a function named `describe_shape` that takes a `Shape` object as an argument and calls its `area` method. Create objects of `Circle` and `Square` classes and pass them to the `describe_shape` function."
   ]
  },
  {
   "cell_type": "code",
   "execution_count": 5,
   "id": "2c03ae93",
   "metadata": {},
   "outputs": [
    {
     "name": "stdout",
     "output_type": "stream",
     "text": [
      "154.0\n",
      "25\n"
     ]
    }
   ],
   "source": [
    "def describe_shape(shape):\n",
    "    print(shape.area())\n",
    "\n",
    "circle = Circle(7)\n",
    "square = Square(5)\n",
    "\n",
    "describe_shape(circle)\n",
    "describe_shape(square)"
   ]
  },
  {
   "cell_type": "markdown",
   "id": "09831a3e",
   "metadata": {},
   "source": [
    "### Assignment 3: Abstract Base Class with Abstract Methods"
   ]
  },
  {
   "cell_type": "markdown",
   "id": "dcb0d93c",
   "metadata": {},
   "source": [
    "Create an abstract base class named `Vehicle` with an abstract method `start_engine`. Create derived classes `Car` and `Bike` that implement the `start_engine` method. Create objects of the derived classes and call the `start_engine` method."
   ]
  },
  {
   "cell_type": "code",
   "execution_count": 6,
   "id": "5da7ffc4",
   "metadata": {},
   "outputs": [
    {
     "name": "stdout",
     "output_type": "stream",
     "text": [
      "Car is starting\n",
      "Bike is starting\n"
     ]
    }
   ],
   "source": [
    "from abc import ABC, abstractmethod\n",
    "\n",
    "class Vehicle(ABC):\n",
    "    @abstractmethod\n",
    "    def start_engine(self):\n",
    "        pass\n",
    "\n",
    "class Car(Vehicle):\n",
    "    def start_engine(self):\n",
    "        print(\"Car is starting\")\n",
    "\n",
    "class Bike(Vehicle):\n",
    "    def start_engine(self):\n",
    "        print(\"Bike is starting\")\n",
    "\n",
    "car = Car()\n",
    "bike = Bike()\n",
    "\n",
    "\n",
    "car.start_engine()\n",
    "bike.start_engine()"
   ]
  },
  {
   "cell_type": "markdown",
   "id": "f4600d89",
   "metadata": {},
   "source": [
    "### Assignment 4: Abstract Base Class with Concrete Methods"
   ]
  },
  {
   "cell_type": "markdown",
   "id": "a91f69f7",
   "metadata": {},
   "source": [
    "In the `Vehicle` class, add a concrete method `fuel_type` that returns a generic fuel type. Override this method in `Car` and `Bike` classes to return specific fuel types. Create objects of the derived classes and call the `fuel_type` method."
   ]
  },
  {
   "cell_type": "code",
   "execution_count": 8,
   "id": "465906a5",
   "metadata": {},
   "outputs": [
    {
     "name": "stdout",
     "output_type": "stream",
     "text": [
      "Diesel\n",
      "Petrol\n"
     ]
    }
   ],
   "source": [
    "from abc import ABC, abstractmethod\n",
    "\n",
    "class Vehicle(ABC):\n",
    "    @abstractmethod\n",
    "    def start_engine(self):\n",
    "        pass\n",
    "\n",
    "    def fuel_type(self):\n",
    "        return 'Petrol'\n",
    "\n",
    "class Car(Vehicle):\n",
    "    def start_engine(self):\n",
    "        print(\"Car is starting\")\n",
    "    \n",
    "    def fuel_type(self):\n",
    "        return 'Diesel'\n",
    "\n",
    "class Bike(Vehicle):\n",
    "    def start_engine(self):\n",
    "        print(\"Bike is starting\")\n",
    "    \n",
    "    def fuel_type(self):\n",
    "        return 'Petrol'\n",
    "\n",
    "car = Car()\n",
    "bike = Bike()\n",
    "\n",
    "\n",
    "print(car.fuel_type())\n",
    "print(bike.fuel_type())"
   ]
  },
  {
   "cell_type": "markdown",
   "id": "6ccd9964",
   "metadata": {},
   "source": [
    "### Assignment 5: Encapsulation with Private Attributes"
   ]
  },
  {
   "cell_type": "markdown",
   "id": "e2965b62",
   "metadata": {},
   "source": [
    "Create a class named `BankAccount` with private attributes `account_number` and `balance`. Add methods to deposit and withdraw money, and to check the balance. Ensure that the balance cannot be accessed directly."
   ]
  },
  {
   "cell_type": "code",
   "execution_count": 14,
   "id": "8034fdab",
   "metadata": {},
   "outputs": [
    {
     "name": "stdout",
     "output_type": "stream",
     "text": [
      "New balance: 4000\n",
      "Insufficient funds\n"
     ]
    },
    {
     "data": {
      "text/plain": [
       "4000"
      ]
     },
     "execution_count": 14,
     "metadata": {},
     "output_type": "execute_result"
    }
   ],
   "source": [
    "class BankAccount:\n",
    "    def __init__(self, account_number, balance = 0):\n",
    "        self.__account_number = account_number\n",
    "        self.__balance = balance\n",
    "    \n",
    "    def deposit(self, amount):\n",
    "        if amount < 0:\n",
    "            print(\"Amount must be positive\")\n",
    "        else:\n",
    "            self.__balance += amount\n",
    "            print(f\"New balance: {self.__balance}\")\n",
    "    \n",
    "    def withdraw(self, amount):\n",
    "        if amount < 0:\n",
    "            print(\"Amount must be positive\")\n",
    "        elif amount > self.__balance:\n",
    "            print(\"Insufficient funds\")\n",
    "        else:\n",
    "            self.__balance -= amount\n",
    "            print(f\"New balance: {self.__balance}\")\n",
    "        \n",
    "    def get_balance(self):\n",
    "        return self.__balance\n",
    "\n",
    "bank = BankAccount('Raju')\n",
    "bank.deposit(4000)\n",
    "bank.withdraw(10000)\n",
    "bank.get_balance()"
   ]
  },
  {
   "cell_type": "markdown",
   "id": "b969e3c2",
   "metadata": {},
   "source": [
    "### Assignment 6: Encapsulation with Property Decorators"
   ]
  },
  {
   "cell_type": "markdown",
   "id": "0a096192",
   "metadata": {},
   "source": [
    "In the `BankAccount` class, use property decorators to get and set the `balance` attribute. Ensure that the balance cannot be set to a negative value."
   ]
  },
  {
   "cell_type": "code",
   "execution_count": 16,
   "id": "48e9ed98",
   "metadata": {},
   "outputs": [
    {
     "name": "stdout",
     "output_type": "stream",
     "text": [
      "New balance: 4000\n",
      "Balance set to: 14000\n",
      "New balance: 4000\n"
     ]
    },
    {
     "data": {
      "text/plain": [
       "4000"
      ]
     },
     "execution_count": 16,
     "metadata": {},
     "output_type": "execute_result"
    }
   ],
   "source": [
    "class BankAccount:\n",
    "    def __init__(self, account_number, balance = 0):\n",
    "        self.__account_number = account_number\n",
    "        self.__balance = balance\n",
    "    \n",
    "    def deposit(self, amount):\n",
    "        if amount < 0:\n",
    "            print(\"Amount must be positive\")\n",
    "        else:\n",
    "            self.__balance += amount\n",
    "            print(f\"New balance: {self.__balance}\")\n",
    "    \n",
    "    def withdraw(self, amount):\n",
    "        if amount < 0:\n",
    "            print(\"Amount must be positive\")\n",
    "        elif amount > self.__balance:\n",
    "            print(\"Insufficient funds\")\n",
    "        else:\n",
    "            self.__balance -= amount\n",
    "            print(f\"New balance: {self.__balance}\")\n",
    "        \n",
    "    def get_balance(self):\n",
    "        return self.__balance\n",
    "    \n",
    "    def set_balance(self, amount):\n",
    "        if amount < 0:\n",
    "            print(\"Amount must be positive\")\n",
    "        else:\n",
    "            self.__balance = amount\n",
    "            print(f\"Balance set to: {self.__balance}\")\n",
    "\n",
    "bank = BankAccount('Raju')\n",
    "bank.deposit(4000)\n",
    "bank.set_balance(14000)\n",
    "bank.withdraw(10000)\n",
    "bank.get_balance()"
   ]
  },
  {
   "cell_type": "markdown",
   "id": "64701562",
   "metadata": {},
   "source": [
    "### Assignment 7: Combining Encapsulation and Inheritance"
   ]
  },
  {
   "cell_type": "markdown",
   "id": "84a84edd",
   "metadata": {},
   "source": [
    "Create a base class named `Person` with private attributes `name` and `age`. Add methods to get and set these attributes. Create a derived class named `Student` that adds an attribute `student_id`. Create an object of the `Student` class and test the encapsulation."
   ]
  },
  {
   "cell_type": "code",
   "execution_count": null,
   "id": "4da28ee6",
   "metadata": {},
   "outputs": [
    {
     "ename": "AttributeError",
     "evalue": "'Student' object has no attribute '_Student__name'",
     "output_type": "error",
     "traceback": [
      "\u001b[31m---------------------------------------------------------------------------\u001b[39m",
      "\u001b[31mAttributeError\u001b[39m                            Traceback (most recent call last)",
      "\u001b[36mCell\u001b[39m\u001b[36m \u001b[39m\u001b[32mIn[17]\u001b[39m\u001b[32m, line 27\u001b[39m\n\u001b[32m     24\u001b[39m         \u001b[38;5;28mprint\u001b[39m(\u001b[33mf\u001b[39m\u001b[33m\"\u001b[39m\u001b[33mName: \u001b[39m\u001b[38;5;132;01m{\u001b[39;00m\u001b[38;5;28mself\u001b[39m.__name\u001b[38;5;132;01m}\u001b[39;00m\u001b[38;5;130;01m\\n\u001b[39;00m\u001b[33mAge: \u001b[39m\u001b[38;5;132;01m{\u001b[39;00m\u001b[38;5;28mself\u001b[39m.__age\u001b[38;5;132;01m}\u001b[39;00m\u001b[33mID: \u001b[39m\u001b[38;5;132;01m{\u001b[39;00m\u001b[38;5;28mself\u001b[39m.student_id\u001b[38;5;132;01m}\u001b[39;00m\u001b[33m\"\u001b[39m)\n\u001b[32m     26\u001b[39m student = Student(\u001b[33m'\u001b[39m\u001b[33mRam\u001b[39m\u001b[33m'\u001b[39m, \u001b[32m20\u001b[39m, \u001b[32m123\u001b[39m)\n\u001b[32m---> \u001b[39m\u001b[32m27\u001b[39m \u001b[38;5;28;43mprint\u001b[39;49m\u001b[43m(\u001b[49m\u001b[43mstudent\u001b[49m\u001b[43m)\u001b[49m\n",
      "\u001b[36mCell\u001b[39m\u001b[36m \u001b[39m\u001b[32mIn[17]\u001b[39m\u001b[32m, line 24\u001b[39m, in \u001b[36mStudent.__str__\u001b[39m\u001b[34m(self)\u001b[39m\n\u001b[32m     23\u001b[39m \u001b[38;5;28;01mdef\u001b[39;00m\u001b[38;5;250m \u001b[39m\u001b[34m__str__\u001b[39m(\u001b[38;5;28mself\u001b[39m):\n\u001b[32m---> \u001b[39m\u001b[32m24\u001b[39m     \u001b[38;5;28mprint\u001b[39m(\u001b[33mf\u001b[39m\u001b[33m\"\u001b[39m\u001b[33mName: \u001b[39m\u001b[38;5;132;01m{\u001b[39;00m\u001b[38;5;28;43mself\u001b[39;49m\u001b[43m.\u001b[49m\u001b[43m__name\u001b[49m\u001b[38;5;132;01m}\u001b[39;00m\u001b[38;5;130;01m\\n\u001b[39;00m\u001b[33mAge: \u001b[39m\u001b[38;5;132;01m{\u001b[39;00m\u001b[38;5;28mself\u001b[39m.__age\u001b[38;5;132;01m}\u001b[39;00m\u001b[33mID: \u001b[39m\u001b[38;5;132;01m{\u001b[39;00m\u001b[38;5;28mself\u001b[39m.student_id\u001b[38;5;132;01m}\u001b[39;00m\u001b[33m\"\u001b[39m)\n",
      "\u001b[31mAttributeError\u001b[39m: 'Student' object has no attribute '_Student__name'"
     ]
    }
   ],
   "source": [
    "class Person:\n",
    "    def __init__(self, name, age):\n",
    "        self.__name = name # not accessible outside this class\n",
    "        self.__age = age # not accessible outside this class\n",
    "    \n",
    "    def set_name(self, name):\n",
    "        self.__name = name\n",
    "    \n",
    "    def get_name(self):\n",
    "        return self.__name\n",
    "    \n",
    "    def set_age(self, age):\n",
    "        self.__age = age\n",
    "    \n",
    "    def get_age(self):\n",
    "        return self.__age\n",
    "    \n",
    "class Student(Person):\n",
    "    def __init__(self, name, age, student_id):\n",
    "        super().__init__(name, age)\n",
    "        self.student_id = student_id\n",
    "    \n",
    "    def __str__(self):\n",
    "        print(f\"Name: {self.__name}\\nAge: {self.__age}ID: {self.student_id}\")\n",
    "\n",
    "student = Student('Ram', 20, 123)\n",
    "print(student)"
   ]
  },
  {
   "cell_type": "markdown",
   "id": "69895701",
   "metadata": {},
   "source": [
    "### Assignment 8: Polymorphism with Inheritance"
   ]
  },
  {
   "cell_type": "markdown",
   "id": "0d937f86",
   "metadata": {},
   "source": [
    "Create a base class named `Animal` with a method `speak`. Create two derived classes `Dog` and `Cat` that override the `speak` method. Create a list of `Animal` objects and call the `speak` method on each object to demonstrate polymorphism."
   ]
  },
  {
   "cell_type": "code",
   "execution_count": 19,
   "id": "44e480b9",
   "metadata": {},
   "outputs": [
    {
     "name": "stdout",
     "output_type": "stream",
     "text": [
      "Animal is speaking\n",
      "Dog is barking\n",
      "Cat is meowing\n"
     ]
    }
   ],
   "source": [
    "class Animal:\n",
    "    def speak(self):\n",
    "        print(\"Animal is speaking\")\n",
    "\n",
    "class Dog(Animal):\n",
    "    def speak(self):\n",
    "        print(\"Dog is barking\")\n",
    "    \n",
    "class Cat(Animal):\n",
    "    def speak(self):\n",
    "        print(\"Cat is meowing\")\n",
    "\n",
    "animal_list = [Animal(), Dog(), Cat()]\n",
    "\n",
    "for animal in animal_list:\n",
    "    animal.speak()"
   ]
  },
  {
   "cell_type": "markdown",
   "id": "cfee08f6",
   "metadata": {},
   "source": [
    "### Assignment 9: Abstract Methods in Base Class"
   ]
  },
  {
   "cell_type": "markdown",
   "id": "e791f9a0",
   "metadata": {},
   "source": [
    "Create an abstract base class named `Employee` with an abstract method `calculate_salary`. Create two derived classes `FullTimeEmployee` and `PartTimeEmployee` that implement the `calculate_salary` method. Create objects of the derived classes and call the `calculate_salary` method."
   ]
  },
  {
   "cell_type": "code",
   "execution_count": 21,
   "id": "afad8141",
   "metadata": {},
   "outputs": [
    {
     "name": "stdout",
     "output_type": "stream",
     "text": [
      "Full-time salary\n",
      "Part-time salary\n"
     ]
    }
   ],
   "source": [
    "from abc import ABC, abstractmethod\n",
    "\n",
    "class Employee(ABC):\n",
    "    @abstractmethod\n",
    "    def calculate_salary(self):\n",
    "        pass\n",
    "\n",
    "class FullTimeEmployee:\n",
    "    def calculate_salary(self):\n",
    "        return 'Full-time salary'\n",
    "\n",
    "class PartTimeEmployee:\n",
    "    def calculate_salary(self):\n",
    "        return 'Part-time salary'\n",
    "    \n",
    "employee_list = [FullTimeEmployee(), PartTimeEmployee()]\n",
    "\n",
    "for employee in employee_list:\n",
    "    print(employee.calculate_salary())"
   ]
  },
  {
   "cell_type": "markdown",
   "id": "fa8ccdff",
   "metadata": {},
   "source": [
    "### Assignment 10: Encapsulation in Data Classes"
   ]
  },
  {
   "cell_type": "markdown",
   "id": "9a449088",
   "metadata": {},
   "source": [
    "Create a data class named `Product` with private attributes `product_id`, `name`, and `price`. Add methods to get and set these attributes. Ensure that the price cannot be set to a negative value."
   ]
  },
  {
   "cell_type": "code",
   "execution_count": 23,
   "id": "ed4440eb",
   "metadata": {},
   "outputs": [
    {
     "name": "stdout",
     "output_type": "stream",
     "text": [
      "Shampoo 123 10\n",
      "Soap 121 15\n"
     ]
    }
   ],
   "source": [
    "class Product:\n",
    "    def __init__(self, product_id, name, price):\n",
    "        self.__product_id = product_id\n",
    "        self.__name = name\n",
    "        self.__price = price\n",
    "\n",
    "    def get_product_id(self):\n",
    "        return self.__product_id\n",
    "    \n",
    "    def set_product_id(self, product_id):\n",
    "        self.__product_id = product_id\n",
    "    \n",
    "    def get_name(self):\n",
    "        return self.__name\n",
    "    \n",
    "    def set_name(self, name):\n",
    "        self.__name = name\n",
    "    \n",
    "    def get_price(self):\n",
    "        return self.__price\n",
    "    \n",
    "    def set_price(self, price):\n",
    "        if price < 0:\n",
    "            print(\"Price cannot be in negative\")\n",
    "        else:\n",
    "            self.__price = price\n",
    "\n",
    "product = Product(123, 'Shampoo', 10)\n",
    "print(f\"{product.get_name()} {product.get_product_id()} {product.get_price()}\")\n",
    "\n",
    "product.set_name(\"Soap\")\n",
    "product.set_product_id(121)\n",
    "product.set_price(15)\n",
    "print(f\"{product.get_name()} {product.get_product_id()} {product.get_price()}\")"
   ]
  },
  {
   "cell_type": "markdown",
   "id": "a799ab7f",
   "metadata": {},
   "source": [
    "### Assignment 11: Polymorphism with Operator Overloading"
   ]
  },
  {
   "cell_type": "markdown",
   "id": "2f8dfa2d",
   "metadata": {},
   "source": [
    "Create a class named `Vector` with attributes `x` and `y`. Overload the `+` operator to add two `Vector` objects. Create objects of the class and test the operator overloading."
   ]
  },
  {
   "cell_type": "code",
   "execution_count": 24,
   "id": "af00c8ca",
   "metadata": {},
   "outputs": [
    {
     "name": "stdout",
     "output_type": "stream",
     "text": [
      "Vector(4, 6)\n"
     ]
    }
   ],
   "source": [
    "class Vector:\n",
    "    def __init__(self, x, y):\n",
    "        self.x = x\n",
    "        self.y = y\n",
    "    \n",
    "    def __add__(self, vector):\n",
    "        x = self.x + vector.x\n",
    "        y = self.y + vector.y\n",
    "        return Vector(x, y)\n",
    "    \n",
    "    def __str__(self):\n",
    "        return f\"Vector({self.x}, {self.y})\"\n",
    "\n",
    "vector1 = Vector(1, 2)\n",
    "vector2 = Vector(3, 4)\n",
    "\n",
    "print(vector1 + vector2)"
   ]
  },
  {
   "cell_type": "markdown",
   "id": "6ca1ed71",
   "metadata": {},
   "source": [
    "### Assignment 12: Abstract Properties"
   ]
  },
  {
   "cell_type": "markdown",
   "id": "dd64e41e",
   "metadata": {},
   "source": [
    "Create an abstract base class named `Appliance` with an abstract property `power`. Create two derived classes `WashingMachine` and `Refrigerator` that implement the `power` property. Create objects of the derived classes and access the `power` property."
   ]
  },
  {
   "cell_type": "code",
   "execution_count": 25,
   "id": "eb1735c0",
   "metadata": {},
   "outputs": [
    {
     "name": "stdout",
     "output_type": "stream",
     "text": [
      "Washing machine is using power\n",
      "Refrigerator is using power\n"
     ]
    }
   ],
   "source": [
    "from abc import ABC, abstractmethod\n",
    "\n",
    "class Appliance(ABC):\n",
    "\n",
    "    @abstractmethod\n",
    "    def power(self):\n",
    "        pass\n",
    "\n",
    "class WashingMachine(Appliance):\n",
    "    def power(self):\n",
    "        print(\"Washing machine is using power\")\n",
    "\n",
    "class Refrigerator(Appliance):\n",
    "    def power(self):\n",
    "        print(\"Refrigerator is using power\")\n",
    "\n",
    "wm = WashingMachine()\n",
    "ref = Refrigerator()\n",
    "\n",
    "wm.power()\n",
    "ref.power()"
   ]
  },
  {
   "cell_type": "markdown",
   "id": "0bd9e369",
   "metadata": {},
   "source": [
    "### Assignment 13: Encapsulation in Class Hierarchies"
   ]
  },
  {
   "cell_type": "markdown",
   "id": "3fc9e95d",
   "metadata": {},
   "source": [
    "Create a base class named `Account` with private attributes `account_number` and `balance`. Add methods to get and set these attributes. Create a derived class named `SavingsAccount` that adds an attribute `interest_rate`. Create an object of the `SavingsAccount` class and test the encapsulation."
   ]
  },
  {
   "cell_type": "code",
   "execution_count": 27,
   "id": "eac2c5bb",
   "metadata": {},
   "outputs": [
    {
     "ename": "TypeError",
     "evalue": "object.__init__() takes exactly one argument (the instance to initialize)",
     "output_type": "error",
     "traceback": [
      "\u001b[31m---------------------------------------------------------------------------\u001b[39m",
      "\u001b[31mTypeError\u001b[39m                                 Traceback (most recent call last)",
      "\u001b[36mCell\u001b[39m\u001b[36m \u001b[39m\u001b[32mIn[27]\u001b[39m\u001b[32m, line 23\u001b[39m\n\u001b[32m     20\u001b[39m         \u001b[38;5;28msuper\u001b[39m().\u001b[34m__init__\u001b[39m(account_number, balance)\n\u001b[32m     21\u001b[39m         \u001b[38;5;28mself\u001b[39m.interest_rate = interest_rate\n\u001b[32m---> \u001b[39m\u001b[32m23\u001b[39m sa = \u001b[43mSavingsAccount\u001b[49m\u001b[43m(\u001b[49m\u001b[32;43m123\u001b[39;49m\u001b[43m,\u001b[49m\u001b[43m \u001b[49m\u001b[32;43m100\u001b[39;49m\u001b[43m,\u001b[49m\u001b[43m \u001b[49m\u001b[32;43m7\u001b[39;49m\u001b[43m)\u001b[49m\n",
      "\u001b[36mCell\u001b[39m\u001b[36m \u001b[39m\u001b[32mIn[27]\u001b[39m\u001b[32m, line 20\u001b[39m, in \u001b[36mSavingsAccount.__init__\u001b[39m\u001b[34m(self, account_number, balance, interest_rate)\u001b[39m\n\u001b[32m     19\u001b[39m \u001b[38;5;28;01mdef\u001b[39;00m\u001b[38;5;250m \u001b[39m\u001b[34m__init__\u001b[39m(\u001b[38;5;28mself\u001b[39m, account_number, balance, interest_rate):\n\u001b[32m---> \u001b[39m\u001b[32m20\u001b[39m     \u001b[38;5;28;43msuper\u001b[39;49m\u001b[43m(\u001b[49m\u001b[43m)\u001b[49m\u001b[43m.\u001b[49m\u001b[34;43m__init__\u001b[39;49m\u001b[43m(\u001b[49m\u001b[43maccount_number\u001b[49m\u001b[43m,\u001b[49m\u001b[43m \u001b[49m\u001b[43mbalance\u001b[49m\u001b[43m)\u001b[49m\n\u001b[32m     21\u001b[39m     \u001b[38;5;28mself\u001b[39m.interest_rate = interest_rate\n",
      "\u001b[31mTypeError\u001b[39m: object.__init__() takes exactly one argument (the instance to initialize)"
     ]
    }
   ],
   "source": [
    "class Account:\n",
    "    def __init__(self, account_number, balance):\n",
    "        self.__account_number = account_number\n",
    "        self.__balance = balance\n",
    "    \n",
    "    def get_account(self):\n",
    "        return self.__account_number\n",
    "    \n",
    "    def set_account(self, account_number):\n",
    "        self.__account_number = account_number\n",
    "\n",
    "    def get_balance(self):\n",
    "        return self.__balance\n",
    "    \n",
    "    def set_balance(self, balance):\n",
    "        self.__balance = balance\n",
    "    \n",
    "class SavingsAccount:\n",
    "    def __init__(self, account_number, balance, interest_rate):\n",
    "        super().__init__(account_number, balance)\n",
    "        self.interest_rate = interest_rate\n",
    "\n",
    "sa = SavingsAccount(123, 100, 7)"
   ]
  },
  {
   "cell_type": "markdown",
   "id": "67df1afb",
   "metadata": {},
   "source": [
    "### Assignment 14: Polymorphism with Multiple Inheritance"
   ]
  },
  {
   "cell_type": "markdown",
   "id": "9cf11b87",
   "metadata": {},
   "source": [
    "Create a class named `Flyer` with a method `fly`. Create a class named `Swimmer` with a method `swim`. Create a class named `Superhero` that inherits from both `Flyer` and `Swimmer` and overrides both methods. Create an object of the `Superhero` class and call both methods."
   ]
  },
  {
   "cell_type": "code",
   "execution_count": 28,
   "id": "dd666696",
   "metadata": {},
   "outputs": [
    {
     "name": "stdout",
     "output_type": "stream",
     "text": [
      "Flying\n",
      "Swimming\n"
     ]
    }
   ],
   "source": [
    "class Flyer:\n",
    "    def fly(self):\n",
    "        print(\"Flying\")\n",
    "\n",
    "class Swimmer:\n",
    "    def swim(self):\n",
    "        print(\"Swimming\")\n",
    "\n",
    "class Superhero(Flyer, Swimmer):\n",
    "    pass\n",
    "\n",
    "superhero = Superhero()\n",
    "\n",
    "superhero.fly()\n",
    "superhero.swim()"
   ]
  },
  {
   "cell_type": "markdown",
   "id": "695e03bc",
   "metadata": {},
   "source": [
    "### Assignment 15: Abstract Methods and Multiple Inheritance"
   ]
  },
  {
   "cell_type": "markdown",
   "id": "09a9649e",
   "metadata": {},
   "source": [
    "Create an abstract base class named `Worker` with an abstract method `work`. Create two derived classes `Engineer` and `Doctor` that implement the `work` method. Create another derived class `Scientist` that inherits from both `Engineer` and `Doctor`. Create an object of the `Scientist` class and call the `work` method."
   ]
  },
  {
   "cell_type": "code",
   "execution_count": 29,
   "id": "445ab614",
   "metadata": {},
   "outputs": [
    {
     "name": "stdout",
     "output_type": "stream",
     "text": [
      "Engineer is engineering\n"
     ]
    }
   ],
   "source": [
    "from abc import ABC, abstractmethod\n",
    "\n",
    "class Worker(ABC):\n",
    "    @abstractmethod\n",
    "    def work(self):\n",
    "        pass\n",
    "\n",
    "class Engineer(Worker):\n",
    "    def work(self):\n",
    "        print(\"Engineer is engineering\")\n",
    "\n",
    "class Doctor(Worker):\n",
    "    def work(self):\n",
    "        print(\"Doctor is doctoring\")\n",
    "\n",
    "class Scientist(Engineer, Doctor):\n",
    "    pass\n",
    "\n",
    "scientist = Scientist()\n",
    "scientist.work()"
   ]
  }
 ],
 "metadata": {
  "kernelspec": {
   "display_name": "Complete-Python-Bootcamp",
   "language": "python",
   "name": "python3"
  },
  "language_info": {
   "codemirror_mode": {
    "name": "ipython",
    "version": 3
   },
   "file_extension": ".py",
   "mimetype": "text/x-python",
   "name": "python",
   "nbconvert_exporter": "python",
   "pygments_lexer": "ipython3",
   "version": "3.12.6"
  }
 },
 "nbformat": 4,
 "nbformat_minor": 5
}
