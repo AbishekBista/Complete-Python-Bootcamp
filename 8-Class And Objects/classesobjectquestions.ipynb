{
 "cells": [
  {
   "cell_type": "markdown",
   "id": "4a69b9bd",
   "metadata": {},
   "source": [
    "# Module: Classes and Objects Assignments\n",
    "## Lesson: Creating and Working with Classes and Objects\n",
    "### Assignment 1: Basic Class and Object Creation\n",
    "\n",
    "Create a class named `Car` with attributes `make`, `model`, and `year`. Create an object of the class and print its attributes."
   ]
  },
  {
   "cell_type": "code",
   "execution_count": null,
   "id": "f6f98cd6",
   "metadata": {},
   "outputs": [
    {
     "name": "stdout",
     "output_type": "stream",
     "text": [
      "Aston Martin DB5 1960\n"
     ]
    }
   ],
   "source": [
    "class Car:\n",
    "    def __init__(self, make, model, year):\n",
    "        self.make = make\n",
    "        self.model = model\n",
    "        self.year = year\n",
    "\n",
    "am = Car('Aston Martin', 'DB5', 1960)\n",
    "print(am.make, am.model, am.year)\n"
   ]
  },
  {
   "cell_type": "markdown",
   "id": "fd41f251",
   "metadata": {},
   "source": [
    "### Assignment 2: Methods in Class\n",
    "\n",
    "Add a method named `start_engine` to the `Car` class that prints a message when the engine starts. Create an object of the class and call the method."
   ]
  },
  {
   "cell_type": "code",
   "execution_count": 4,
   "id": "843466a4",
   "metadata": {},
   "outputs": [
    {
     "name": "stdout",
     "output_type": "stream",
     "text": [
      "Aston Martin DB5 is starting! Vroom!!\n"
     ]
    }
   ],
   "source": [
    "class Car:\n",
    "    def __init__(self, make, model, year):\n",
    "        self.make = make\n",
    "        self.model = model\n",
    "        self.year = year\n",
    "    \n",
    "    def start_engine(self):\n",
    "        print(f\"{self.make} {self.model} is starting! Vroom!!\")\n",
    "\n",
    "am = Car('Aston Martin', 'DB5', 1960)\n",
    "am.start_engine()"
   ]
  },
  {
   "cell_type": "markdown",
   "id": "3d15ee9d",
   "metadata": {},
   "source": [
    "### Assignment 3: Class with Constructor\n",
    "\n",
    "Create a class named `Student` with attributes `name` and `age`. Use a constructor to initialize these attributes. Create an object of the class and print its attributes."
   ]
  },
  {
   "cell_type": "code",
   "execution_count": 5,
   "id": "08ad7f02",
   "metadata": {},
   "outputs": [
    {
     "name": "stdout",
     "output_type": "stream",
     "text": [
      "Ram 20\n"
     ]
    }
   ],
   "source": [
    "class Student:\n",
    "    def __init__(self, name, age):\n",
    "        self.name = name\n",
    "        self.age = age\n",
    "\n",
    "student = Student('Ram', 20)\n",
    "print(student.name, student.age)"
   ]
  },
  {
   "cell_type": "markdown",
   "id": "03a2a2a0",
   "metadata": {},
   "source": [
    "### Assignment 4: Class with Private Attributes\n",
    "\n",
    "Create a class named `BankAccount` with private attributes `account_number` and `balance`. Add methods to deposit and withdraw money, and to check the balance. Create an object of the class and perform some operations."
   ]
  },
  {
   "cell_type": "code",
   "execution_count": null,
   "id": "4d2883e8",
   "metadata": {},
   "outputs": [
    {
     "name": "stdout",
     "output_type": "stream",
     "text": [
      "4000 deposited. New balance: 8000\n",
      "5000 withdrawn. New balance: 3000\n"
     ]
    },
    {
     "data": {
      "text/plain": [
       "3000"
      ]
     },
     "execution_count": 12,
     "metadata": {},
     "output_type": "execute_result"
    }
   ],
   "source": [
    "class BankAccount:\n",
    "    def __init__(self, account_number, balance):\n",
    "        # declared with __ for private variables\n",
    "        self.__account_number = account_number\n",
    "        self.__balance = balance\n",
    "\n",
    "    def deposit(self, amount):\n",
    "        if amount < 0:\n",
    "            print(\"Amount cannot be in negative.\")\n",
    "        else:\n",
    "            self.__balance += amount\n",
    "            print(f\"{amount} deposited. New balance: {self.__balance}\")\n",
    "    \n",
    "    def withdraw(self, amount):\n",
    "        if amount < 0:\n",
    "            print(\"Amount cannot be in negative.\")\n",
    "        else:\n",
    "            self.__balance -= amount\n",
    "            print(f\"{amount} withdrawn. New balance: {self.__balance}\")\n",
    "    \n",
    "    def get_balance(self):\n",
    "        return self.__balance\n",
    "\n",
    "bank_account = BankAccount('John', 4000)\n",
    "\n",
    "bank_account.deposit(4000)\n",
    "bank_account.withdraw(5000)\n",
    "bank_account.get_balance()"
   ]
  },
  {
   "cell_type": "markdown",
   "id": "cc48bcd4",
   "metadata": {},
   "source": [
    "### Assignment 5: Class Inheritance\n",
    "\n",
    "Create a base class named `Person` with attributes `name` and `age`. Create a derived class named `Employee` that inherits from `Person` and adds an attribute `employee_id`. Create an object of the derived class and print its attributes.\n"
   ]
  },
  {
   "cell_type": "code",
   "execution_count": 16,
   "id": "f67b533d",
   "metadata": {},
   "outputs": [
    {
     "name": "stdout",
     "output_type": "stream",
     "text": [
      "John 20\n",
      "Jake 24 1234\n"
     ]
    }
   ],
   "source": [
    "class Person:\n",
    "    def __init__(self, name, age):\n",
    "        self.name = name\n",
    "        self.age = age\n",
    "\n",
    "class Employee(Person):\n",
    "    def __init__(self, name, age, employee_id):\n",
    "        super().__init__(name, age)\n",
    "        self.employee_id = employee_id\n",
    "\n",
    "person = Person('John', 20)\n",
    "print(person.name, person.age)\n",
    "\n",
    "employee = Employee('Jake', 24, 1234)\n",
    "print(employee.name, employee.age, employee.employee_id)"
   ]
  },
  {
   "cell_type": "markdown",
   "id": "a62c6a20",
   "metadata": {},
   "source": [
    "### Assignment 6: Method Overriding\n",
    "\n",
    "In the `Employee` class, override the `__str__` method to return a string representation of the object. Create an object of the class and print it."
   ]
  },
  {
   "cell_type": "code",
   "execution_count": 18,
   "id": "0cd7c63c",
   "metadata": {},
   "outputs": [
    {
     "name": "stdout",
     "output_type": "stream",
     "text": [
      "Name: Jake\n",
      "Age: 24\n",
      "Employee ID: 1234\n"
     ]
    }
   ],
   "source": [
    "class Person:\n",
    "    def __init__(self, name, age):\n",
    "        self.name = name\n",
    "        self.age = age\n",
    "\n",
    "class Employee(Person):\n",
    "    def __init__(self, name, age, employee_id):\n",
    "        super().__init__(name, age)\n",
    "        self.employee_id = employee_id\n",
    "\n",
    "    def __str__(self):\n",
    "        return f\"Name: {self.name}\\nAge: {self.age}\\nEmployee ID: {self.employee_id}\"\n",
    "\n",
    "employee = Employee('Jake', 24, 1234)\n",
    "print(employee)"
   ]
  },
  {
   "cell_type": "markdown",
   "id": "05b3c0a7",
   "metadata": {},
   "source": [
    "### Assignment 7: Class Composition\n",
    "\n",
    "Create a class named `Address` with attributes `street`, `city`, and `zipcode`. Create a class named `Person` that has an `Address` object as an attribute. Create an object of the `Person` class and print its address."
   ]
  },
  {
   "cell_type": "code",
   "execution_count": 21,
   "id": "146e7f83",
   "metadata": {},
   "outputs": [
    {
     "name": "stdout",
     "output_type": "stream",
     "text": [
      "John lives in Park St, London, 444444.\n"
     ]
    }
   ],
   "source": [
    "class Address:\n",
    "    def __init__(self, street, city, zipcode):\n",
    "        self.street = street\n",
    "        self.city = city\n",
    "        self.zipcode = zipcode\n",
    "\n",
    "    def __str__(self):\n",
    "        return f\"{self.street}, {self.city}, {self.zipcode}\"\n",
    "\n",
    "class Person:\n",
    "    def __init__(self, name, address):\n",
    "        self.name = name\n",
    "        self.address = address\n",
    "    \n",
    "    def details(self):\n",
    "        print(f\"{self.name} lives in {self.address}.\")\n",
    "\n",
    "address = Address('Park St', 'London', '444444')\n",
    "person = Person('John', address)\n",
    "\n",
    "person.details()\n",
    "\n"
   ]
  },
  {
   "cell_type": "markdown",
   "id": "8383d183",
   "metadata": {},
   "source": [
    "### Assignment 8: Class with Class Variables\n",
    "\n",
    "Create a class named `Counter` with a class variable `count`. Each time an object is created, increment the count. Add a method to get the current count. Create multiple objects and print the count."
   ]
  },
  {
   "cell_type": "code",
   "execution_count": 22,
   "id": "007968f4",
   "metadata": {},
   "outputs": [
    {
     "name": "stdout",
     "output_type": "stream",
     "text": [
      "Counter was created for 1 times.\n",
      "Counter was created for 2 times.\n",
      "Counter was created for 3 times.\n"
     ]
    }
   ],
   "source": [
    "class Counter:\n",
    "    def __init__(self, count = [0]):\n",
    "        count[0] += 1\n",
    "        print(f\"Counter was created for {count[0]} times.\")\n",
    "\n",
    "counter = Counter()\n",
    "counter2 = Counter()\n",
    "counter3 = Counter()\n",
    "    \n",
    "\n",
    "\n",
    "    "
   ]
  },
  {
   "cell_type": "markdown",
   "id": "756fbc49",
   "metadata": {},
   "source": [
    "### Assignment 9: Static Methods\n",
    "\n",
    "Create a class named `MathOperations` with a static method to calculate the square root of a number. Call the static method without creating an object."
   ]
  },
  {
   "cell_type": "code",
   "execution_count": 25,
   "id": "68d21db0",
   "metadata": {},
   "outputs": [
    {
     "data": {
      "text/plain": [
       "5.0"
      ]
     },
     "execution_count": 25,
     "metadata": {},
     "output_type": "execute_result"
    }
   ],
   "source": [
    "import math\n",
    "class MathOperations:\n",
    "    @staticmethod\n",
    "    def square_root(num):\n",
    "        return math.sqrt(num)\n",
    "\n",
    "MathOperations.square_root(25)"
   ]
  },
  {
   "cell_type": "markdown",
   "id": "edea4a34",
   "metadata": {},
   "source": [
    "### Assignment 10: Class with Properties\n",
    "\n",
    "Create a class named `Rectangle` with private attributes `length` and `width`. Use properties to get and set these attributes. Create an object of the class and test the properties."
   ]
  },
  {
   "cell_type": "code",
   "execution_count": 27,
   "id": "a25e271f",
   "metadata": {},
   "outputs": [
    {
     "name": "stdout",
     "output_type": "stream",
     "text": [
      "4 5\n",
      "10 20\n"
     ]
    }
   ],
   "source": [
    "class Rectangle:\n",
    "    def __init__(self, length, breadth):\n",
    "        self.__length = length\n",
    "        self.__breadth = breadth\n",
    "\n",
    "    def get_length(self):\n",
    "        return self.__length\n",
    "    \n",
    "    def set_length(self, length):\n",
    "        self.__length = length\n",
    "    \n",
    "    def get_breadth(self):\n",
    "        return self.__breadth\n",
    "    \n",
    "    def set_breadth(self, breadth):\n",
    "        self.__breadth = breadth\n",
    "    \n",
    "\n",
    "    \n",
    "rectangle = Rectangle(4, 5)\n",
    "print(rectangle.get_length(), rectangle.get_breadth())\n",
    "rectangle.set_length(10)\n",
    "rectangle.set_breadth(20)\n",
    "print(rectangle.get_length(), rectangle.get_breadth())\n",
    "\n",
    "\n",
    "    "
   ]
  },
  {
   "cell_type": "markdown",
   "id": "18ee9396",
   "metadata": {},
   "source": [
    "### Assignment 11: Abstract Base Class\n",
    "\n",
    "Create an abstract base class named `Shape` with an abstract method `area`. Create derived classes `Circle` and `Square` that implement the `area` method. Create objects of the derived classes and call the `area` method."
   ]
  },
  {
   "cell_type": "code",
   "execution_count": 33,
   "id": "97cb6eef",
   "metadata": {},
   "outputs": [
    {
     "name": "stdout",
     "output_type": "stream",
     "text": [
      "153.93804002589985\n",
      "16\n"
     ]
    }
   ],
   "source": [
    "from abc import abstractmethod, ABC\n",
    "from math import pi\n",
    "class Shape(ABC):\n",
    "    @abstractmethod\n",
    "    def area(self):\n",
    "        pass\n",
    "\n",
    "class Circle(Shape):\n",
    "    def __init__(self, radius):\n",
    "        self.radius = radius\n",
    "    \n",
    "    def area(self):\n",
    "        return pi * self.radius ** 2\n",
    "    \n",
    "class Square(Shape):\n",
    "    def __init__(self, side):\n",
    "        self.side = side\n",
    "\n",
    "    def area(self):\n",
    "        return self.side ** 2\n",
    "\n",
    "    \n",
    "    \n",
    "\n",
    "circle = Circle(7)\n",
    "print(circle.area())\n",
    "\n",
    "square = Square(4)\n",
    "print(square.area())"
   ]
  },
  {
   "cell_type": "markdown",
   "id": "b45ab08e",
   "metadata": {},
   "source": [
    "### Assignment 12: Operator Overloading\n",
    "\n",
    "Create a class named `Vector` with attributes `x` and `y`. Overload the `+` operator to add two `Vector` objects. Create objects of the class and test the operator overloading."
   ]
  },
  {
   "cell_type": "code",
   "execution_count": 46,
   "id": "cb972c99",
   "metadata": {},
   "outputs": [
    {
     "name": "stdout",
     "output_type": "stream",
     "text": [
      "(5, 9)\n"
     ]
    }
   ],
   "source": [
    "class Vector:\n",
    "    def __init__(self, x, y):\n",
    "        self.x = x\n",
    "        self.y = y\n",
    "    \n",
    "    def __add__(self, vector):\n",
    "        x = self.x + vector.x\n",
    "        y = self.y + vector.y\n",
    "        return Vector(x, y)\n",
    "    \n",
    "    def show(self):\n",
    "        return f\"{self.x, self.y}\"\n",
    "\n",
    "vector1 = Vector(2, 4)\n",
    "vector2 = Vector(3, 5)\n",
    "\n",
    "vector3 = vector1 + vector2\n",
    "print(vector3.show())\n",
    "\n",
    "    \n",
    "    "
   ]
  },
  {
   "cell_type": "markdown",
   "id": "1efc6a0e",
   "metadata": {},
   "source": [
    "### Assignment 13: Class with Custom Exception\n",
    "\n",
    "Create a custom exception named `InsufficientBalanceError`. In the `BankAccount` class, raise this exception when a withdrawal amount is greater than the balance. Handle the exception and print an appropriate message."
   ]
  },
  {
   "cell_type": "code",
   "execution_count": 50,
   "id": "5ded0ba0",
   "metadata": {},
   "outputs": [
    {
     "name": "stdout",
     "output_type": "stream",
     "text": [
      "4000 deposited. New balance: 8000\n",
      "There is insufficient balance in your account.\n",
      "Withdrawal process complete\n"
     ]
    },
    {
     "data": {
      "text/plain": [
       "8000"
      ]
     },
     "execution_count": 50,
     "metadata": {},
     "output_type": "execute_result"
    }
   ],
   "source": [
    "class InsufficientBalanceError(Exception):\n",
    "    def __init__(self, message, error_code):\n",
    "        super().__init__(message)\n",
    "        self.error_code = error_code\n",
    "\n",
    "class BankAccount:\n",
    "    def __init__(self, account_number, balance):\n",
    "        # declared with __ for private variables\n",
    "        self.__account_number = account_number\n",
    "        self.__balance = balance\n",
    "\n",
    "    def deposit(self, amount):\n",
    "        if amount < 0:\n",
    "            print(\"Amount cannot be in negative.\")\n",
    "        else:\n",
    "            self.__balance += amount\n",
    "            print(f\"{amount} deposited. New balance: {self.__balance}\")\n",
    "    \n",
    "    def withdraw(self, amount):\n",
    "        if amount < 0:\n",
    "            print(\"Amount cannot be in negative.\")\n",
    "        elif amount > self.__balance:\n",
    "            raise InsufficientBalanceError(\"Insufficient funds\", 101)\n",
    "        else:\n",
    "            self.__balance -= amount\n",
    "            print(f\"{amount} withdrawn. New balance: {self.__balance}\")\n",
    "    \n",
    "    def get_balance(self):\n",
    "        return self.__balance\n",
    "\n",
    "bank_account = BankAccount('John', 4000)\n",
    "\n",
    "bank_account.deposit(4000)\n",
    "try:\n",
    "    bank_account.withdraw(10000)\n",
    "except InsufficientBalanceError as ex:\n",
    "    print(\"There is insufficient balance in your account.\")\n",
    "finally:\n",
    "    print(\"Withdrawal process complete\")\n",
    "bank_account.get_balance()"
   ]
  },
  {
   "cell_type": "markdown",
   "id": "152598f7",
   "metadata": {},
   "source": [
    "### Assignment 14: Class with Context Manager\n",
    "\n",
    "Create a class named `FileManager` that implements the context manager protocol to open and close a file. Use this class to read the contents of a file."
   ]
  },
  {
   "cell_type": "code",
   "execution_count": 65,
   "id": "1b32c212",
   "metadata": {},
   "outputs": [
    {
     "name": "stdout",
     "output_type": "stream",
     "text": [
      "Jumanji\n",
      "Welcome to the jungle\n"
     ]
    }
   ],
   "source": [
    "class FileManager:\n",
    "\n",
    "    def __init__(self, filename, mode):\n",
    "        self.filename = filename\n",
    "        self.mode = mode\n",
    "        self.file = None\n",
    "\n",
    "    def __enter__(self):\n",
    "        self.file = open(self.filename, self.mode)\n",
    "        return self.file\n",
    "    \n",
    "    def __exit__(self, exc_type, exc_val, exc_tb):\n",
    "        if exc_type:\n",
    "            print(exc_type, exc_val, exc_tb)\n",
    "        if self.file:\n",
    "            self.file.close()\n",
    "\n",
    "\n",
    "with FileManager('sample.txt', 'r') as f:\n",
    "    content = f.read()\n",
    "    print(content)\n",
    "\n",
    "with FileManager('sample.txt', 'w') as f:\n",
    "    f.write('Jumanji')\n",
    "    f.write('\\nWelcome to the jungle')\n",
    "\n"
   ]
  },
  {
   "cell_type": "markdown",
   "id": "8e9a7143",
   "metadata": {},
   "source": [
    "### Assignment 15: Chaining Methods\n",
    "\n",
    "Create a class named `Calculator` with methods to add, subtract, multiply, and divide. Each method should return the object itself to allow method chaining. Create an object and chain multiple method calls."
   ]
  },
  {
   "cell_type": "code",
   "execution_count": 73,
   "id": "e3030fef",
   "metadata": {},
   "outputs": [
    {
     "name": "stdout",
     "output_type": "stream",
     "text": [
      "division by zero\n"
     ]
    },
    {
     "data": {
      "text/plain": [
       "3"
      ]
     },
     "execution_count": 73,
     "metadata": {},
     "output_type": "execute_result"
    }
   ],
   "source": [
    "class Calculator:\n",
    "    def __init__(self, num):\n",
    "        self.num = num\n",
    "    \n",
    "    def add(self, a):\n",
    "        self.num += a\n",
    "        return self\n",
    "    \n",
    "    def subtract(self, a):\n",
    "        self.num -= a\n",
    "        return self\n",
    "    \n",
    "    def multiply(self, a):\n",
    "        self.num *= a\n",
    "        return self\n",
    "    \n",
    "    def divide(self, a):\n",
    "        try:\n",
    "            self.num /= a\n",
    "        except ZeroDivisionError as ex:\n",
    "            print(ex)\n",
    "        finally:\n",
    "            return self\n",
    "        \n",
    "calculator = Calculator(0)\n",
    "\n",
    "calculator.add(1).subtract(2).multiply(-3).divide(0).num"
   ]
  }
 ],
 "metadata": {
  "kernelspec": {
   "display_name": "Complete-Python-Bootcamp",
   "language": "python",
   "name": "python3"
  },
  "language_info": {
   "codemirror_mode": {
    "name": "ipython",
    "version": 3
   },
   "file_extension": ".py",
   "mimetype": "text/x-python",
   "name": "python",
   "nbconvert_exporter": "python",
   "pygments_lexer": "ipython3",
   "version": "3.12.6"
  }
 },
 "nbformat": 4,
 "nbformat_minor": 5
}
